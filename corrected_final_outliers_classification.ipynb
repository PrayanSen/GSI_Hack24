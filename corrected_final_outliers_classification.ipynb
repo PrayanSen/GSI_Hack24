{
  "nbformat": 4,
  "nbformat_minor": 0,
  "metadata": {
    "colab": {
      "provenance": []
    },
    "kernelspec": {
      "name": "python3",
      "display_name": "Python 3"
    },
    "language_info": {
      "name": "python"
    }
  },
  "cells": [
    {
      "cell_type": "code",
      "execution_count": null,
      "metadata": {
        "colab": {
          "base_uri": "https://localhost:8080/"
        },
        "id": "hfTgXwJr9gAE",
        "outputId": "596daafe-3ec7-4eaa-9a96-573b1d439f71"
      },
      "outputs": [
        {
          "output_type": "stream",
          "name": "stdout",
          "text": [
            "Mounted at /content/drive\n"
          ]
        }
      ],
      "source": [
        "from google.colab import drive\n",
        "drive.mount('/content/drive')\n"
      ]
    },
    {
      "cell_type": "code",
      "source": [
        "import pandas as pd\n",
        "import numpy as np\n",
        "import matplotlib.pyplot as plt\n",
        "\n",
        "dict_keys = pd.read_excel('/content/drive/MyDrive/DINESH_ALL_FINAL_CLEANED_DATA_28SEP2024/G1G2G3G4_DKP_FINAL_Oct16_2024.xlsx', sheet_name = None)"
      ],
      "metadata": {
        "id": "rkn30uCXGgMr"
      },
      "execution_count": null,
      "outputs": []
    },
    {
      "cell_type": "code",
      "source": [
        "dict_keys.keys()"
      ],
      "metadata": {
        "colab": {
          "base_uri": "https://localhost:8080/"
        },
        "id": "L9fTDyqdHQxj",
        "outputId": "29c517e6-2d9b-45fc-a585-ad7820b336b8"
      },
      "execution_count": null,
      "outputs": [
        {
          "output_type": "execute_result",
          "data": {
            "text/plain": [
              "dict_keys(['G1', 'G2', 'G3', 'G4', 'Soil Samples', 'SSS'])"
            ]
          },
          "metadata": {},
          "execution_count": 3
        }
      ]
    },
    {
      "cell_type": "code",
      "source": [
        "g3 = dict_keys['G3']\n",
        "g3.head()"
      ],
      "metadata": {
        "colab": {
          "base_uri": "https://localhost:8080/",
          "height": 330
        },
        "id": "3n3lc5vDHTfG",
        "outputId": "b1be8aef-b8b7-4a50-ff34-e153f674e38b"
      },
      "execution_count": null,
      "outputs": [
        {
          "output_type": "execute_result",
          "data": {
            "text/plain": [
              "  SampleNo BoreHole   Latitude  Longitude  Angle  Azimuth  SampleLength  \\\n",
              "0  BKD-2/1    BKD-2  23.950011  74.301556     45      250           0.5   \n",
              "1  BKD-2/2    BKD-2  23.950011  74.301556     45      250           0.5   \n",
              "2  BKD-2/3    BKD-2  23.950011  74.301556     45      250           0.5   \n",
              "3  BKD-2/4    BKD-2  23.950011  74.301556     45      250           0.5   \n",
              "4  BKD-2/5    BKD-2  23.950011  74.301556     45      250           0.5   \n",
              "\n",
              "  Cu_ppm  Co_ppm  Ni_ppm  Pb_ppm  Zn_ppm  Au_ppb  Ag_ppm  \\\n",
              "0     60    30.0      50    15.0    50.0    0.03     NaN   \n",
              "1     70    50.0      50    25.0    40.0    0.03     NaN   \n",
              "2     70    50.0      50    15.0    40.0    0.03     NaN   \n",
              "3    130    40.0      60    15.0    40.0    0.03     NaN   \n",
              "4     40    30.0      50    25.0    40.0    0.03     NaN   \n",
              "\n",
              "                Lithology MajorRockType           FileName  Unnamed: 17  \n",
              "0  Staurolite-mica schist        Schist  G3_12-13_aU_46I05          NaN  \n",
              "1  Staurolite-mica schist        Schist  G3_12-13_aU_46I05          NaN  \n",
              "2  Staurolite-mica schist        Schist  G3_12-13_aU_46I05          NaN  \n",
              "3  Staurolite-mica schist        Schist  G3_12-13_aU_46I05          NaN  \n",
              "4  Staurolite-mica schist        Schist  G3_12-13_aU_46I05          NaN  "
            ],
            "text/html": [
              "\n",
              "  <div id=\"df-59ca4bdb-6c1c-40ba-91dc-4a1bbfce731a\" class=\"colab-df-container\">\n",
              "    <div>\n",
              "<style scoped>\n",
              "    .dataframe tbody tr th:only-of-type {\n",
              "        vertical-align: middle;\n",
              "    }\n",
              "\n",
              "    .dataframe tbody tr th {\n",
              "        vertical-align: top;\n",
              "    }\n",
              "\n",
              "    .dataframe thead th {\n",
              "        text-align: right;\n",
              "    }\n",
              "</style>\n",
              "<table border=\"1\" class=\"dataframe\">\n",
              "  <thead>\n",
              "    <tr style=\"text-align: right;\">\n",
              "      <th></th>\n",
              "      <th>SampleNo</th>\n",
              "      <th>BoreHole</th>\n",
              "      <th>Latitude</th>\n",
              "      <th>Longitude</th>\n",
              "      <th>Angle</th>\n",
              "      <th>Azimuth</th>\n",
              "      <th>SampleLength</th>\n",
              "      <th>Cu_ppm</th>\n",
              "      <th>Co_ppm</th>\n",
              "      <th>Ni_ppm</th>\n",
              "      <th>Pb_ppm</th>\n",
              "      <th>Zn_ppm</th>\n",
              "      <th>Au_ppb</th>\n",
              "      <th>Ag_ppm</th>\n",
              "      <th>Lithology</th>\n",
              "      <th>MajorRockType</th>\n",
              "      <th>FileName</th>\n",
              "      <th>Unnamed: 17</th>\n",
              "    </tr>\n",
              "  </thead>\n",
              "  <tbody>\n",
              "    <tr>\n",
              "      <th>0</th>\n",
              "      <td>BKD-2/1</td>\n",
              "      <td>BKD-2</td>\n",
              "      <td>23.950011</td>\n",
              "      <td>74.301556</td>\n",
              "      <td>45</td>\n",
              "      <td>250</td>\n",
              "      <td>0.5</td>\n",
              "      <td>60</td>\n",
              "      <td>30.0</td>\n",
              "      <td>50</td>\n",
              "      <td>15.0</td>\n",
              "      <td>50.0</td>\n",
              "      <td>0.03</td>\n",
              "      <td>NaN</td>\n",
              "      <td>Staurolite-mica schist</td>\n",
              "      <td>Schist</td>\n",
              "      <td>G3_12-13_aU_46I05</td>\n",
              "      <td>NaN</td>\n",
              "    </tr>\n",
              "    <tr>\n",
              "      <th>1</th>\n",
              "      <td>BKD-2/2</td>\n",
              "      <td>BKD-2</td>\n",
              "      <td>23.950011</td>\n",
              "      <td>74.301556</td>\n",
              "      <td>45</td>\n",
              "      <td>250</td>\n",
              "      <td>0.5</td>\n",
              "      <td>70</td>\n",
              "      <td>50.0</td>\n",
              "      <td>50</td>\n",
              "      <td>25.0</td>\n",
              "      <td>40.0</td>\n",
              "      <td>0.03</td>\n",
              "      <td>NaN</td>\n",
              "      <td>Staurolite-mica schist</td>\n",
              "      <td>Schist</td>\n",
              "      <td>G3_12-13_aU_46I05</td>\n",
              "      <td>NaN</td>\n",
              "    </tr>\n",
              "    <tr>\n",
              "      <th>2</th>\n",
              "      <td>BKD-2/3</td>\n",
              "      <td>BKD-2</td>\n",
              "      <td>23.950011</td>\n",
              "      <td>74.301556</td>\n",
              "      <td>45</td>\n",
              "      <td>250</td>\n",
              "      <td>0.5</td>\n",
              "      <td>70</td>\n",
              "      <td>50.0</td>\n",
              "      <td>50</td>\n",
              "      <td>15.0</td>\n",
              "      <td>40.0</td>\n",
              "      <td>0.03</td>\n",
              "      <td>NaN</td>\n",
              "      <td>Staurolite-mica schist</td>\n",
              "      <td>Schist</td>\n",
              "      <td>G3_12-13_aU_46I05</td>\n",
              "      <td>NaN</td>\n",
              "    </tr>\n",
              "    <tr>\n",
              "      <th>3</th>\n",
              "      <td>BKD-2/4</td>\n",
              "      <td>BKD-2</td>\n",
              "      <td>23.950011</td>\n",
              "      <td>74.301556</td>\n",
              "      <td>45</td>\n",
              "      <td>250</td>\n",
              "      <td>0.5</td>\n",
              "      <td>130</td>\n",
              "      <td>40.0</td>\n",
              "      <td>60</td>\n",
              "      <td>15.0</td>\n",
              "      <td>40.0</td>\n",
              "      <td>0.03</td>\n",
              "      <td>NaN</td>\n",
              "      <td>Staurolite-mica schist</td>\n",
              "      <td>Schist</td>\n",
              "      <td>G3_12-13_aU_46I05</td>\n",
              "      <td>NaN</td>\n",
              "    </tr>\n",
              "    <tr>\n",
              "      <th>4</th>\n",
              "      <td>BKD-2/5</td>\n",
              "      <td>BKD-2</td>\n",
              "      <td>23.950011</td>\n",
              "      <td>74.301556</td>\n",
              "      <td>45</td>\n",
              "      <td>250</td>\n",
              "      <td>0.5</td>\n",
              "      <td>40</td>\n",
              "      <td>30.0</td>\n",
              "      <td>50</td>\n",
              "      <td>25.0</td>\n",
              "      <td>40.0</td>\n",
              "      <td>0.03</td>\n",
              "      <td>NaN</td>\n",
              "      <td>Staurolite-mica schist</td>\n",
              "      <td>Schist</td>\n",
              "      <td>G3_12-13_aU_46I05</td>\n",
              "      <td>NaN</td>\n",
              "    </tr>\n",
              "  </tbody>\n",
              "</table>\n",
              "</div>\n",
              "    <div class=\"colab-df-buttons\">\n",
              "\n",
              "  <div class=\"colab-df-container\">\n",
              "    <button class=\"colab-df-convert\" onclick=\"convertToInteractive('df-59ca4bdb-6c1c-40ba-91dc-4a1bbfce731a')\"\n",
              "            title=\"Convert this dataframe to an interactive table.\"\n",
              "            style=\"display:none;\">\n",
              "\n",
              "  <svg xmlns=\"http://www.w3.org/2000/svg\" height=\"24px\" viewBox=\"0 -960 960 960\">\n",
              "    <path d=\"M120-120v-720h720v720H120Zm60-500h600v-160H180v160Zm220 220h160v-160H400v160Zm0 220h160v-160H400v160ZM180-400h160v-160H180v160Zm440 0h160v-160H620v160ZM180-180h160v-160H180v160Zm440 0h160v-160H620v160Z\"/>\n",
              "  </svg>\n",
              "    </button>\n",
              "\n",
              "  <style>\n",
              "    .colab-df-container {\n",
              "      display:flex;\n",
              "      gap: 12px;\n",
              "    }\n",
              "\n",
              "    .colab-df-convert {\n",
              "      background-color: #E8F0FE;\n",
              "      border: none;\n",
              "      border-radius: 50%;\n",
              "      cursor: pointer;\n",
              "      display: none;\n",
              "      fill: #1967D2;\n",
              "      height: 32px;\n",
              "      padding: 0 0 0 0;\n",
              "      width: 32px;\n",
              "    }\n",
              "\n",
              "    .colab-df-convert:hover {\n",
              "      background-color: #E2EBFA;\n",
              "      box-shadow: 0px 1px 2px rgba(60, 64, 67, 0.3), 0px 1px 3px 1px rgba(60, 64, 67, 0.15);\n",
              "      fill: #174EA6;\n",
              "    }\n",
              "\n",
              "    .colab-df-buttons div {\n",
              "      margin-bottom: 4px;\n",
              "    }\n",
              "\n",
              "    [theme=dark] .colab-df-convert {\n",
              "      background-color: #3B4455;\n",
              "      fill: #D2E3FC;\n",
              "    }\n",
              "\n",
              "    [theme=dark] .colab-df-convert:hover {\n",
              "      background-color: #434B5C;\n",
              "      box-shadow: 0px 1px 3px 1px rgba(0, 0, 0, 0.15);\n",
              "      filter: drop-shadow(0px 1px 2px rgba(0, 0, 0, 0.3));\n",
              "      fill: #FFFFFF;\n",
              "    }\n",
              "  </style>\n",
              "\n",
              "    <script>\n",
              "      const buttonEl =\n",
              "        document.querySelector('#df-59ca4bdb-6c1c-40ba-91dc-4a1bbfce731a button.colab-df-convert');\n",
              "      buttonEl.style.display =\n",
              "        google.colab.kernel.accessAllowed ? 'block' : 'none';\n",
              "\n",
              "      async function convertToInteractive(key) {\n",
              "        const element = document.querySelector('#df-59ca4bdb-6c1c-40ba-91dc-4a1bbfce731a');\n",
              "        const dataTable =\n",
              "          await google.colab.kernel.invokeFunction('convertToInteractive',\n",
              "                                                    [key], {});\n",
              "        if (!dataTable) return;\n",
              "\n",
              "        const docLinkHtml = 'Like what you see? Visit the ' +\n",
              "          '<a target=\"_blank\" href=https://colab.research.google.com/notebooks/data_table.ipynb>data table notebook</a>'\n",
              "          + ' to learn more about interactive tables.';\n",
              "        element.innerHTML = '';\n",
              "        dataTable['output_type'] = 'display_data';\n",
              "        await google.colab.output.renderOutput(dataTable, element);\n",
              "        const docLink = document.createElement('div');\n",
              "        docLink.innerHTML = docLinkHtml;\n",
              "        element.appendChild(docLink);\n",
              "      }\n",
              "    </script>\n",
              "  </div>\n",
              "\n",
              "\n",
              "<div id=\"df-682384c0-d818-4914-b813-ea5627c15880\">\n",
              "  <button class=\"colab-df-quickchart\" onclick=\"quickchart('df-682384c0-d818-4914-b813-ea5627c15880')\"\n",
              "            title=\"Suggest charts\"\n",
              "            style=\"display:none;\">\n",
              "\n",
              "<svg xmlns=\"http://www.w3.org/2000/svg\" height=\"24px\"viewBox=\"0 0 24 24\"\n",
              "     width=\"24px\">\n",
              "    <g>\n",
              "        <path d=\"M19 3H5c-1.1 0-2 .9-2 2v14c0 1.1.9 2 2 2h14c1.1 0 2-.9 2-2V5c0-1.1-.9-2-2-2zM9 17H7v-7h2v7zm4 0h-2V7h2v10zm4 0h-2v-4h2v4z\"/>\n",
              "    </g>\n",
              "</svg>\n",
              "  </button>\n",
              "\n",
              "<style>\n",
              "  .colab-df-quickchart {\n",
              "      --bg-color: #E8F0FE;\n",
              "      --fill-color: #1967D2;\n",
              "      --hover-bg-color: #E2EBFA;\n",
              "      --hover-fill-color: #174EA6;\n",
              "      --disabled-fill-color: #AAA;\n",
              "      --disabled-bg-color: #DDD;\n",
              "  }\n",
              "\n",
              "  [theme=dark] .colab-df-quickchart {\n",
              "      --bg-color: #3B4455;\n",
              "      --fill-color: #D2E3FC;\n",
              "      --hover-bg-color: #434B5C;\n",
              "      --hover-fill-color: #FFFFFF;\n",
              "      --disabled-bg-color: #3B4455;\n",
              "      --disabled-fill-color: #666;\n",
              "  }\n",
              "\n",
              "  .colab-df-quickchart {\n",
              "    background-color: var(--bg-color);\n",
              "    border: none;\n",
              "    border-radius: 50%;\n",
              "    cursor: pointer;\n",
              "    display: none;\n",
              "    fill: var(--fill-color);\n",
              "    height: 32px;\n",
              "    padding: 0;\n",
              "    width: 32px;\n",
              "  }\n",
              "\n",
              "  .colab-df-quickchart:hover {\n",
              "    background-color: var(--hover-bg-color);\n",
              "    box-shadow: 0 1px 2px rgba(60, 64, 67, 0.3), 0 1px 3px 1px rgba(60, 64, 67, 0.15);\n",
              "    fill: var(--button-hover-fill-color);\n",
              "  }\n",
              "\n",
              "  .colab-df-quickchart-complete:disabled,\n",
              "  .colab-df-quickchart-complete:disabled:hover {\n",
              "    background-color: var(--disabled-bg-color);\n",
              "    fill: var(--disabled-fill-color);\n",
              "    box-shadow: none;\n",
              "  }\n",
              "\n",
              "  .colab-df-spinner {\n",
              "    border: 2px solid var(--fill-color);\n",
              "    border-color: transparent;\n",
              "    border-bottom-color: var(--fill-color);\n",
              "    animation:\n",
              "      spin 1s steps(1) infinite;\n",
              "  }\n",
              "\n",
              "  @keyframes spin {\n",
              "    0% {\n",
              "      border-color: transparent;\n",
              "      border-bottom-color: var(--fill-color);\n",
              "      border-left-color: var(--fill-color);\n",
              "    }\n",
              "    20% {\n",
              "      border-color: transparent;\n",
              "      border-left-color: var(--fill-color);\n",
              "      border-top-color: var(--fill-color);\n",
              "    }\n",
              "    30% {\n",
              "      border-color: transparent;\n",
              "      border-left-color: var(--fill-color);\n",
              "      border-top-color: var(--fill-color);\n",
              "      border-right-color: var(--fill-color);\n",
              "    }\n",
              "    40% {\n",
              "      border-color: transparent;\n",
              "      border-right-color: var(--fill-color);\n",
              "      border-top-color: var(--fill-color);\n",
              "    }\n",
              "    60% {\n",
              "      border-color: transparent;\n",
              "      border-right-color: var(--fill-color);\n",
              "    }\n",
              "    80% {\n",
              "      border-color: transparent;\n",
              "      border-right-color: var(--fill-color);\n",
              "      border-bottom-color: var(--fill-color);\n",
              "    }\n",
              "    90% {\n",
              "      border-color: transparent;\n",
              "      border-bottom-color: var(--fill-color);\n",
              "    }\n",
              "  }\n",
              "</style>\n",
              "\n",
              "  <script>\n",
              "    async function quickchart(key) {\n",
              "      const quickchartButtonEl =\n",
              "        document.querySelector('#' + key + ' button');\n",
              "      quickchartButtonEl.disabled = true;  // To prevent multiple clicks.\n",
              "      quickchartButtonEl.classList.add('colab-df-spinner');\n",
              "      try {\n",
              "        const charts = await google.colab.kernel.invokeFunction(\n",
              "            'suggestCharts', [key], {});\n",
              "      } catch (error) {\n",
              "        console.error('Error during call to suggestCharts:', error);\n",
              "      }\n",
              "      quickchartButtonEl.classList.remove('colab-df-spinner');\n",
              "      quickchartButtonEl.classList.add('colab-df-quickchart-complete');\n",
              "    }\n",
              "    (() => {\n",
              "      let quickchartButtonEl =\n",
              "        document.querySelector('#df-682384c0-d818-4914-b813-ea5627c15880 button');\n",
              "      quickchartButtonEl.style.display =\n",
              "        google.colab.kernel.accessAllowed ? 'block' : 'none';\n",
              "    })();\n",
              "  </script>\n",
              "</div>\n",
              "\n",
              "    </div>\n",
              "  </div>\n"
            ],
            "application/vnd.google.colaboratory.intrinsic+json": {
              "type": "dataframe",
              "variable_name": "g3",
              "summary": "{\n  \"name\": \"g3\",\n  \"rows\": 2213,\n  \"fields\": [\n    {\n      \"column\": \"SampleNo\",\n      \"properties\": {\n        \"dtype\": \"string\",\n        \"num_unique_values\": 2213,\n        \"samples\": [\n          \"GW-7/13\",\n          \"MKH-2/88\",\n          \"MKH-4/113\"\n        ],\n        \"semantic_type\": \"\",\n        \"description\": \"\"\n      }\n    },\n    {\n      \"column\": \"BoreHole\",\n      \"properties\": {\n        \"dtype\": \"category\",\n        \"num_unique_values\": 26,\n        \"samples\": [\n          \"GW-7\",\n          \"MKH-6\",\n          \"BKD-2\"\n        ],\n        \"semantic_type\": \"\",\n        \"description\": \"\"\n      }\n    },\n    {\n      \"column\": \"Latitude\",\n      \"properties\": {\n        \"dtype\": \"number\",\n        \"std\": 0.06334237304612089,\n        \"min\": 23.83083333333333,\n        \"max\": 23.96939,\n        \"num_unique_values\": 23,\n        \"samples\": [\n          23.96642,\n          23.83416666666666,\n          23.95001111111111\n        ],\n        \"semantic_type\": \"\",\n        \"description\": \"\"\n      }\n    },\n    {\n      \"column\": \"Longitude\",\n      \"properties\": {\n        \"dtype\": \"number\",\n        \"std\": 0.028799445056898177,\n        \"min\": 74.28453,\n        \"max\": 74.35222222222221,\n        \"num_unique_values\": 24,\n        \"samples\": [\n          74.35,\n          74.28878,\n          74.30155555555555\n        ],\n        \"semantic_type\": \"\",\n        \"description\": \"\"\n      }\n    },\n    {\n      \"column\": \"Angle\",\n      \"properties\": {\n        \"dtype\": \"number\",\n        \"std\": 1,\n        \"min\": 45,\n        \"max\": 53,\n        \"num_unique_values\": 3,\n        \"samples\": [\n          45,\n          50,\n          53\n        ],\n        \"semantic_type\": \"\",\n        \"description\": \"\"\n      }\n    },\n    {\n      \"column\": \"Azimuth\",\n      \"properties\": {\n        \"dtype\": \"number\",\n        \"std\": 125,\n        \"min\": 7,\n        \"max\": 357,\n        \"num_unique_values\": 10,\n        \"samples\": [\n          357,\n          265,\n          7\n        ],\n        \"semantic_type\": \"\",\n        \"description\": \"\"\n      }\n    },\n    {\n      \"column\": \"SampleLength\",\n      \"properties\": {\n        \"dtype\": \"number\",\n        \"std\": 0.1493460179672162,\n        \"min\": 0.0,\n        \"max\": 5.65,\n        \"num_unique_values\": 13,\n        \"samples\": [\n          5.65,\n          0.42,\n          0.5\n        ],\n        \"semantic_type\": \"\",\n        \"description\": \"\"\n      }\n    },\n    {\n      \"column\": \"Cu_ppm\",\n      \"properties\": {\n        \"dtype\": \"category\",\n        \"num_unique_values\": 177,\n        \"samples\": [\n          330,\n          150,\n          55\n        ],\n        \"semantic_type\": \"\",\n        \"description\": \"\"\n      }\n    },\n    {\n      \"column\": \"Co_ppm\",\n      \"properties\": {\n        \"dtype\": \"number\",\n        \"std\": 46.632074184801866,\n        \"min\": 0.0011,\n        \"max\": 960.0,\n        \"num_unique_values\": 44,\n        \"samples\": [\n          75.0,\n          0.0012,\n          960.0\n        ],\n        \"semantic_type\": \"\",\n        \"description\": \"\"\n      }\n    },\n    {\n      \"column\": \"Ni_ppm\",\n      \"properties\": {\n        \"dtype\": \"number\",\n        \"std\": 64,\n        \"min\": 10,\n        \"max\": 970,\n        \"num_unique_values\": 58,\n        \"samples\": [\n          50,\n          110,\n          330\n        ],\n        \"semantic_type\": \"\",\n        \"description\": \"\"\n      }\n    },\n    {\n      \"column\": \"Pb_ppm\",\n      \"properties\": {\n        \"dtype\": \"number\",\n        \"std\": 28.502251567932177,\n        \"min\": 0.0,\n        \"max\": 790.0,\n        \"num_unique_values\": 28,\n        \"samples\": [\n          100.0,\n          0.0,\n          20.0\n        ],\n        \"semantic_type\": \"\",\n        \"description\": \"\"\n      }\n    },\n    {\n      \"column\": \"Zn_ppm\",\n      \"properties\": {\n        \"dtype\": \"number\",\n        \"std\": 27.539030906086147,\n        \"min\": 0.002,\n        \"max\": 670.0,\n        \"num_unique_values\": 31,\n        \"samples\": [\n          150.0,\n          25.0,\n          85.0\n        ],\n        \"semantic_type\": \"\",\n        \"description\": \"\"\n      }\n    },\n    {\n      \"column\": \"Au_ppb\",\n      \"properties\": {\n        \"dtype\": \"number\",\n        \"std\": 0.2608611517177778,\n        \"min\": 0.03,\n        \"max\": 5.86,\n        \"num_unique_values\": 80,\n        \"samples\": [\n          0.8,\n          0.03,\n          0.26\n        ],\n        \"semantic_type\": \"\",\n        \"description\": \"\"\n      }\n    },\n    {\n      \"column\": \"Ag_ppm\",\n      \"properties\": {\n        \"dtype\": \"number\",\n        \"std\": null,\n        \"min\": null,\n        \"max\": null,\n        \"num_unique_values\": 0,\n        \"samples\": [],\n        \"semantic_type\": \"\",\n        \"description\": \"\"\n      }\n    },\n    {\n      \"column\": \"Lithology\",\n      \"properties\": {\n        \"dtype\": \"category\",\n        \"num_unique_values\": 67,\n        \"samples\": [],\n        \"semantic_type\": \"\",\n        \"description\": \"\"\n      }\n    },\n    {\n      \"column\": \"MajorRockType\",\n      \"properties\": {\n        \"dtype\": \"category\",\n        \"num_unique_values\": 6,\n        \"samples\": [],\n        \"semantic_type\": \"\",\n        \"description\": \"\"\n      }\n    },\n    {\n      \"column\": \"FileName\",\n      \"properties\": {\n        \"dtype\": \"category\",\n        \"num_unique_values\": 3,\n        \"samples\": [],\n        \"semantic_type\": \"\",\n        \"description\": \"\"\n      }\n    },\n    {\n      \"column\": \"Unnamed: 17\",\n      \"properties\": {\n        \"dtype\": \"number\",\n        \"std\": 0.0,\n        \"min\": 5.0,\n        \"max\": 5.0,\n        \"num_unique_values\": 1,\n        \"samples\": [],\n        \"semantic_type\": \"\",\n        \"description\": \"\"\n      }\n    }\n  ]\n}"
            }
          },
          "metadata": {},
          "execution_count": 4
        }
      ]
    },
    {
      "cell_type": "code",
      "source": [
        "g3.shape"
      ],
      "metadata": {
        "colab": {
          "base_uri": "https://localhost:8080/"
        },
        "id": "w6U5rJw86mvM",
        "outputId": "b0cee147-5aa5-497e-aa6f-1c838ad4f29f"
      },
      "execution_count": null,
      "outputs": [
        {
          "output_type": "execute_result",
          "data": {
            "text/plain": [
              "(2213, 18)"
            ]
          },
          "metadata": {},
          "execution_count": 5
        }
      ]
    },
    {
      "cell_type": "code",
      "source": [
        "g3.columns"
      ],
      "metadata": {
        "colab": {
          "base_uri": "https://localhost:8080/"
        },
        "id": "NGBYIXOVJ7D5",
        "outputId": "f5e6df73-0314-4908-a522-7eeb45a37495"
      },
      "execution_count": null,
      "outputs": [
        {
          "output_type": "execute_result",
          "data": {
            "text/plain": [
              "Index(['SampleNo', 'BoreHole', 'Latitude', 'Longitude', 'Angle', 'Azimuth',\n",
              "       'SampleLength', 'Cu_ppm', 'Co_ppm', 'Ni_ppm', 'Pb_ppm', 'Zn_ppm',\n",
              "       'Au_ppb', 'Ag_ppm', 'Lithology', 'MajorRockType', 'FileName',\n",
              "       'Unnamed: 17'],\n",
              "      dtype='object')"
            ]
          },
          "metadata": {},
          "execution_count": 6
        }
      ]
    },
    {
      "cell_type": "code",
      "source": [
        "g4 = dict_keys['G4']\n",
        "g4.head()"
      ],
      "metadata": {
        "colab": {
          "base_uri": "https://localhost:8080/",
          "height": 292
        },
        "id": "E4ObJTQm-TRD",
        "outputId": "bb08117d-1441-461c-f2ae-6fbd04520ed7"
      },
      "execution_count": null,
      "outputs": [
        {
          "output_type": "execute_result",
          "data": {
            "text/plain": [
              "   SampleNo  Borehole   Latitude  Longitude  Angle  Azimuth  SampleLength  \\\n",
              "0   KNB-1     KNB-1    23.888333  74.375000      0        0             1   \n",
              "1   KNB-2     KNB-2    23.888333  74.375000      0        0             1   \n",
              "2   KNB-3     KNB-3    23.888611  74.375278      0        0             1   \n",
              "3   KNB-4     KNB-4    23.891389  74.381944      0        0             1   \n",
              "4   KNB-5     KNB-5    23.891389  74.386667      0        0             1   \n",
              "\n",
              "  Cu_ppm Co_ppm  Ni_ppm  Pb_ppm  Zn_ppm  Au_ppm  Ag_ppm  \\\n",
              "0     20     40    40.0    40.0    10.0    0.05     NaN   \n",
              "1     30     60    30.0    30.0    10.0    0.05     NaN   \n",
              "2     20     50    90.0    25.0   100.0    0.05     NaN   \n",
              "3     10     20    30.0    50.0    20.0    0.05     NaN   \n",
              "4     20     20    30.0    50.0    10.0    0.05     NaN   \n",
              "\n",
              "                                   Lithology MajorRockType           FileName  \n",
              "0   Quartz/ carbonate vein in white marble          Marble  13-14_Au-Cu_46I05  \n",
              "1                  Gossanized white marble          Marble  13-14_Au-Cu_46I05  \n",
              "2            Quartz vein in metabasic rock      Metabasics  13-14_Au-Cu_46I05  \n",
              "3                      Ferruginized marble          Marble  13-14_Au-Cu_46I05  \n",
              "4               Ferruginized banded marble          Marble  13-14_Au-Cu_46I05  "
            ],
            "text/html": [
              "\n",
              "  <div id=\"df-37e9a7a8-f926-488e-9be9-235b64df46de\" class=\"colab-df-container\">\n",
              "    <div>\n",
              "<style scoped>\n",
              "    .dataframe tbody tr th:only-of-type {\n",
              "        vertical-align: middle;\n",
              "    }\n",
              "\n",
              "    .dataframe tbody tr th {\n",
              "        vertical-align: top;\n",
              "    }\n",
              "\n",
              "    .dataframe thead th {\n",
              "        text-align: right;\n",
              "    }\n",
              "</style>\n",
              "<table border=\"1\" class=\"dataframe\">\n",
              "  <thead>\n",
              "    <tr style=\"text-align: right;\">\n",
              "      <th></th>\n",
              "      <th>SampleNo</th>\n",
              "      <th>Borehole</th>\n",
              "      <th>Latitude</th>\n",
              "      <th>Longitude</th>\n",
              "      <th>Angle</th>\n",
              "      <th>Azimuth</th>\n",
              "      <th>SampleLength</th>\n",
              "      <th>Cu_ppm</th>\n",
              "      <th>Co_ppm</th>\n",
              "      <th>Ni_ppm</th>\n",
              "      <th>Pb_ppm</th>\n",
              "      <th>Zn_ppm</th>\n",
              "      <th>Au_ppm</th>\n",
              "      <th>Ag_ppm</th>\n",
              "      <th>Lithology</th>\n",
              "      <th>MajorRockType</th>\n",
              "      <th>FileName</th>\n",
              "    </tr>\n",
              "  </thead>\n",
              "  <tbody>\n",
              "    <tr>\n",
              "      <th>0</th>\n",
              "      <td>KNB-1</td>\n",
              "      <td>KNB-1</td>\n",
              "      <td>23.888333</td>\n",
              "      <td>74.375000</td>\n",
              "      <td>0</td>\n",
              "      <td>0</td>\n",
              "      <td>1</td>\n",
              "      <td>20</td>\n",
              "      <td>40</td>\n",
              "      <td>40.0</td>\n",
              "      <td>40.0</td>\n",
              "      <td>10.0</td>\n",
              "      <td>0.05</td>\n",
              "      <td>NaN</td>\n",
              "      <td>Quartz/ carbonate vein in white marble</td>\n",
              "      <td>Marble</td>\n",
              "      <td>13-14_Au-Cu_46I05</td>\n",
              "    </tr>\n",
              "    <tr>\n",
              "      <th>1</th>\n",
              "      <td>KNB-2</td>\n",
              "      <td>KNB-2</td>\n",
              "      <td>23.888333</td>\n",
              "      <td>74.375000</td>\n",
              "      <td>0</td>\n",
              "      <td>0</td>\n",
              "      <td>1</td>\n",
              "      <td>30</td>\n",
              "      <td>60</td>\n",
              "      <td>30.0</td>\n",
              "      <td>30.0</td>\n",
              "      <td>10.0</td>\n",
              "      <td>0.05</td>\n",
              "      <td>NaN</td>\n",
              "      <td>Gossanized white marble</td>\n",
              "      <td>Marble</td>\n",
              "      <td>13-14_Au-Cu_46I05</td>\n",
              "    </tr>\n",
              "    <tr>\n",
              "      <th>2</th>\n",
              "      <td>KNB-3</td>\n",
              "      <td>KNB-3</td>\n",
              "      <td>23.888611</td>\n",
              "      <td>74.375278</td>\n",
              "      <td>0</td>\n",
              "      <td>0</td>\n",
              "      <td>1</td>\n",
              "      <td>20</td>\n",
              "      <td>50</td>\n",
              "      <td>90.0</td>\n",
              "      <td>25.0</td>\n",
              "      <td>100.0</td>\n",
              "      <td>0.05</td>\n",
              "      <td>NaN</td>\n",
              "      <td>Quartz vein in metabasic rock</td>\n",
              "      <td>Metabasics</td>\n",
              "      <td>13-14_Au-Cu_46I05</td>\n",
              "    </tr>\n",
              "    <tr>\n",
              "      <th>3</th>\n",
              "      <td>KNB-4</td>\n",
              "      <td>KNB-4</td>\n",
              "      <td>23.891389</td>\n",
              "      <td>74.381944</td>\n",
              "      <td>0</td>\n",
              "      <td>0</td>\n",
              "      <td>1</td>\n",
              "      <td>10</td>\n",
              "      <td>20</td>\n",
              "      <td>30.0</td>\n",
              "      <td>50.0</td>\n",
              "      <td>20.0</td>\n",
              "      <td>0.05</td>\n",
              "      <td>NaN</td>\n",
              "      <td>Ferruginized marble</td>\n",
              "      <td>Marble</td>\n",
              "      <td>13-14_Au-Cu_46I05</td>\n",
              "    </tr>\n",
              "    <tr>\n",
              "      <th>4</th>\n",
              "      <td>KNB-5</td>\n",
              "      <td>KNB-5</td>\n",
              "      <td>23.891389</td>\n",
              "      <td>74.386667</td>\n",
              "      <td>0</td>\n",
              "      <td>0</td>\n",
              "      <td>1</td>\n",
              "      <td>20</td>\n",
              "      <td>20</td>\n",
              "      <td>30.0</td>\n",
              "      <td>50.0</td>\n",
              "      <td>10.0</td>\n",
              "      <td>0.05</td>\n",
              "      <td>NaN</td>\n",
              "      <td>Ferruginized banded marble</td>\n",
              "      <td>Marble</td>\n",
              "      <td>13-14_Au-Cu_46I05</td>\n",
              "    </tr>\n",
              "  </tbody>\n",
              "</table>\n",
              "</div>\n",
              "    <div class=\"colab-df-buttons\">\n",
              "\n",
              "  <div class=\"colab-df-container\">\n",
              "    <button class=\"colab-df-convert\" onclick=\"convertToInteractive('df-37e9a7a8-f926-488e-9be9-235b64df46de')\"\n",
              "            title=\"Convert this dataframe to an interactive table.\"\n",
              "            style=\"display:none;\">\n",
              "\n",
              "  <svg xmlns=\"http://www.w3.org/2000/svg\" height=\"24px\" viewBox=\"0 -960 960 960\">\n",
              "    <path d=\"M120-120v-720h720v720H120Zm60-500h600v-160H180v160Zm220 220h160v-160H400v160Zm0 220h160v-160H400v160ZM180-400h160v-160H180v160Zm440 0h160v-160H620v160ZM180-180h160v-160H180v160Zm440 0h160v-160H620v160Z\"/>\n",
              "  </svg>\n",
              "    </button>\n",
              "\n",
              "  <style>\n",
              "    .colab-df-container {\n",
              "      display:flex;\n",
              "      gap: 12px;\n",
              "    }\n",
              "\n",
              "    .colab-df-convert {\n",
              "      background-color: #E8F0FE;\n",
              "      border: none;\n",
              "      border-radius: 50%;\n",
              "      cursor: pointer;\n",
              "      display: none;\n",
              "      fill: #1967D2;\n",
              "      height: 32px;\n",
              "      padding: 0 0 0 0;\n",
              "      width: 32px;\n",
              "    }\n",
              "\n",
              "    .colab-df-convert:hover {\n",
              "      background-color: #E2EBFA;\n",
              "      box-shadow: 0px 1px 2px rgba(60, 64, 67, 0.3), 0px 1px 3px 1px rgba(60, 64, 67, 0.15);\n",
              "      fill: #174EA6;\n",
              "    }\n",
              "\n",
              "    .colab-df-buttons div {\n",
              "      margin-bottom: 4px;\n",
              "    }\n",
              "\n",
              "    [theme=dark] .colab-df-convert {\n",
              "      background-color: #3B4455;\n",
              "      fill: #D2E3FC;\n",
              "    }\n",
              "\n",
              "    [theme=dark] .colab-df-convert:hover {\n",
              "      background-color: #434B5C;\n",
              "      box-shadow: 0px 1px 3px 1px rgba(0, 0, 0, 0.15);\n",
              "      filter: drop-shadow(0px 1px 2px rgba(0, 0, 0, 0.3));\n",
              "      fill: #FFFFFF;\n",
              "    }\n",
              "  </style>\n",
              "\n",
              "    <script>\n",
              "      const buttonEl =\n",
              "        document.querySelector('#df-37e9a7a8-f926-488e-9be9-235b64df46de button.colab-df-convert');\n",
              "      buttonEl.style.display =\n",
              "        google.colab.kernel.accessAllowed ? 'block' : 'none';\n",
              "\n",
              "      async function convertToInteractive(key) {\n",
              "        const element = document.querySelector('#df-37e9a7a8-f926-488e-9be9-235b64df46de');\n",
              "        const dataTable =\n",
              "          await google.colab.kernel.invokeFunction('convertToInteractive',\n",
              "                                                    [key], {});\n",
              "        if (!dataTable) return;\n",
              "\n",
              "        const docLinkHtml = 'Like what you see? Visit the ' +\n",
              "          '<a target=\"_blank\" href=https://colab.research.google.com/notebooks/data_table.ipynb>data table notebook</a>'\n",
              "          + ' to learn more about interactive tables.';\n",
              "        element.innerHTML = '';\n",
              "        dataTable['output_type'] = 'display_data';\n",
              "        await google.colab.output.renderOutput(dataTable, element);\n",
              "        const docLink = document.createElement('div');\n",
              "        docLink.innerHTML = docLinkHtml;\n",
              "        element.appendChild(docLink);\n",
              "      }\n",
              "    </script>\n",
              "  </div>\n",
              "\n",
              "\n",
              "<div id=\"df-ff1f831d-eb6e-475b-addb-060c5974223c\">\n",
              "  <button class=\"colab-df-quickchart\" onclick=\"quickchart('df-ff1f831d-eb6e-475b-addb-060c5974223c')\"\n",
              "            title=\"Suggest charts\"\n",
              "            style=\"display:none;\">\n",
              "\n",
              "<svg xmlns=\"http://www.w3.org/2000/svg\" height=\"24px\"viewBox=\"0 0 24 24\"\n",
              "     width=\"24px\">\n",
              "    <g>\n",
              "        <path d=\"M19 3H5c-1.1 0-2 .9-2 2v14c0 1.1.9 2 2 2h14c1.1 0 2-.9 2-2V5c0-1.1-.9-2-2-2zM9 17H7v-7h2v7zm4 0h-2V7h2v10zm4 0h-2v-4h2v4z\"/>\n",
              "    </g>\n",
              "</svg>\n",
              "  </button>\n",
              "\n",
              "<style>\n",
              "  .colab-df-quickchart {\n",
              "      --bg-color: #E8F0FE;\n",
              "      --fill-color: #1967D2;\n",
              "      --hover-bg-color: #E2EBFA;\n",
              "      --hover-fill-color: #174EA6;\n",
              "      --disabled-fill-color: #AAA;\n",
              "      --disabled-bg-color: #DDD;\n",
              "  }\n",
              "\n",
              "  [theme=dark] .colab-df-quickchart {\n",
              "      --bg-color: #3B4455;\n",
              "      --fill-color: #D2E3FC;\n",
              "      --hover-bg-color: #434B5C;\n",
              "      --hover-fill-color: #FFFFFF;\n",
              "      --disabled-bg-color: #3B4455;\n",
              "      --disabled-fill-color: #666;\n",
              "  }\n",
              "\n",
              "  .colab-df-quickchart {\n",
              "    background-color: var(--bg-color);\n",
              "    border: none;\n",
              "    border-radius: 50%;\n",
              "    cursor: pointer;\n",
              "    display: none;\n",
              "    fill: var(--fill-color);\n",
              "    height: 32px;\n",
              "    padding: 0;\n",
              "    width: 32px;\n",
              "  }\n",
              "\n",
              "  .colab-df-quickchart:hover {\n",
              "    background-color: var(--hover-bg-color);\n",
              "    box-shadow: 0 1px 2px rgba(60, 64, 67, 0.3), 0 1px 3px 1px rgba(60, 64, 67, 0.15);\n",
              "    fill: var(--button-hover-fill-color);\n",
              "  }\n",
              "\n",
              "  .colab-df-quickchart-complete:disabled,\n",
              "  .colab-df-quickchart-complete:disabled:hover {\n",
              "    background-color: var(--disabled-bg-color);\n",
              "    fill: var(--disabled-fill-color);\n",
              "    box-shadow: none;\n",
              "  }\n",
              "\n",
              "  .colab-df-spinner {\n",
              "    border: 2px solid var(--fill-color);\n",
              "    border-color: transparent;\n",
              "    border-bottom-color: var(--fill-color);\n",
              "    animation:\n",
              "      spin 1s steps(1) infinite;\n",
              "  }\n",
              "\n",
              "  @keyframes spin {\n",
              "    0% {\n",
              "      border-color: transparent;\n",
              "      border-bottom-color: var(--fill-color);\n",
              "      border-left-color: var(--fill-color);\n",
              "    }\n",
              "    20% {\n",
              "      border-color: transparent;\n",
              "      border-left-color: var(--fill-color);\n",
              "      border-top-color: var(--fill-color);\n",
              "    }\n",
              "    30% {\n",
              "      border-color: transparent;\n",
              "      border-left-color: var(--fill-color);\n",
              "      border-top-color: var(--fill-color);\n",
              "      border-right-color: var(--fill-color);\n",
              "    }\n",
              "    40% {\n",
              "      border-color: transparent;\n",
              "      border-right-color: var(--fill-color);\n",
              "      border-top-color: var(--fill-color);\n",
              "    }\n",
              "    60% {\n",
              "      border-color: transparent;\n",
              "      border-right-color: var(--fill-color);\n",
              "    }\n",
              "    80% {\n",
              "      border-color: transparent;\n",
              "      border-right-color: var(--fill-color);\n",
              "      border-bottom-color: var(--fill-color);\n",
              "    }\n",
              "    90% {\n",
              "      border-color: transparent;\n",
              "      border-bottom-color: var(--fill-color);\n",
              "    }\n",
              "  }\n",
              "</style>\n",
              "\n",
              "  <script>\n",
              "    async function quickchart(key) {\n",
              "      const quickchartButtonEl =\n",
              "        document.querySelector('#' + key + ' button');\n",
              "      quickchartButtonEl.disabled = true;  // To prevent multiple clicks.\n",
              "      quickchartButtonEl.classList.add('colab-df-spinner');\n",
              "      try {\n",
              "        const charts = await google.colab.kernel.invokeFunction(\n",
              "            'suggestCharts', [key], {});\n",
              "      } catch (error) {\n",
              "        console.error('Error during call to suggestCharts:', error);\n",
              "      }\n",
              "      quickchartButtonEl.classList.remove('colab-df-spinner');\n",
              "      quickchartButtonEl.classList.add('colab-df-quickchart-complete');\n",
              "    }\n",
              "    (() => {\n",
              "      let quickchartButtonEl =\n",
              "        document.querySelector('#df-ff1f831d-eb6e-475b-addb-060c5974223c button');\n",
              "      quickchartButtonEl.style.display =\n",
              "        google.colab.kernel.accessAllowed ? 'block' : 'none';\n",
              "    })();\n",
              "  </script>\n",
              "</div>\n",
              "\n",
              "    </div>\n",
              "  </div>\n"
            ],
            "application/vnd.google.colaboratory.intrinsic+json": {
              "type": "dataframe",
              "variable_name": "g4",
              "summary": "{\n  \"name\": \"g4\",\n  \"rows\": 1577,\n  \"fields\": [\n    {\n      \"column\": \"SampleNo\",\n      \"properties\": {\n        \"dtype\": \"string\",\n        \"num_unique_values\": 1501,\n        \"samples\": [\n          \"TB/BRS/G-56/2018-19\",\n          \"PTS 7/4/36335/2021-22\",\n          \"BRS 140\"\n        ],\n        \"semantic_type\": \"\",\n        \"description\": \"\"\n      }\n    },\n    {\n      \"column\": \"Borehole\",\n      \"properties\": {\n        \"dtype\": \"string\",\n        \"num_unique_values\": 1501,\n        \"samples\": [\n          \"TB/BRS/G-56/2018-19\",\n          \"PTS 7/4/36335/2021-22\",\n          \"BRS 140\"\n        ],\n        \"semantic_type\": \"\",\n        \"description\": \"\"\n      }\n    },\n    {\n      \"column\": \"Latitude\",\n      \"properties\": {\n        \"dtype\": \"number\",\n        \"std\": 5.231655117952668,\n        \"min\": 23.09694444,\n        \"max\": 74.53793889,\n        \"num_unique_values\": 860,\n        \"samples\": [\n          23.85247222,\n          24.09627777777778,\n          23.828\n        ],\n        \"semantic_type\": \"\",\n        \"description\": \"\"\n      }\n    },\n    {\n      \"column\": \"Longitude\",\n      \"properties\": {\n        \"dtype\": \"number\",\n        \"std\": 5.221341420643166,\n        \"min\": 23.76423611,\n        \"max\": 74.57304444444443,\n        \"num_unique_values\": 861,\n        \"samples\": [\n          74.37336111,\n          74.13177777777777,\n          74.39780555555556\n        ],\n        \"semantic_type\": \"\",\n        \"description\": \"\"\n      }\n    },\n    {\n      \"column\": \"Angle\",\n      \"properties\": {\n        \"dtype\": \"number\",\n        \"std\": 0,\n        \"min\": 0,\n        \"max\": 0,\n        \"num_unique_values\": 1,\n        \"samples\": [\n          0\n        ],\n        \"semantic_type\": \"\",\n        \"description\": \"\"\n      }\n    },\n    {\n      \"column\": \"Azimuth\",\n      \"properties\": {\n        \"dtype\": \"number\",\n        \"std\": 0,\n        \"min\": 0,\n        \"max\": 0,\n        \"num_unique_values\": 1,\n        \"samples\": [\n          0\n        ],\n        \"semantic_type\": \"\",\n        \"description\": \"\"\n      }\n    },\n    {\n      \"column\": \"SampleLength\",\n      \"properties\": {\n        \"dtype\": \"number\",\n        \"std\": 0,\n        \"min\": 1,\n        \"max\": 1,\n        \"num_unique_values\": 1,\n        \"samples\": [\n          1\n        ],\n        \"semantic_type\": \"\",\n        \"description\": \"\"\n      }\n    },\n    {\n      \"column\": \"Cu_ppm\",\n      \"properties\": {\n        \"dtype\": \"category\",\n        \"num_unique_values\": 450,\n        \"samples\": [\n          36\n        ],\n        \"semantic_type\": \"\",\n        \"description\": \"\"\n      }\n    },\n    {\n      \"column\": \"Co_ppm\",\n      \"properties\": {\n        \"dtype\": \"category\",\n        \"num_unique_values\": 227,\n        \"samples\": [\n          230\n        ],\n        \"semantic_type\": \"\",\n        \"description\": \"\"\n      }\n    },\n    {\n      \"column\": \"Ni_ppm\",\n      \"properties\": {\n        \"dtype\": \"number\",\n        \"std\": 125.25017295415086,\n        \"min\": 1.0,\n        \"max\": 1906.666666666667,\n        \"num_unique_values\": 309,\n        \"samples\": [\n          250.0\n        ],\n        \"semantic_type\": \"\",\n        \"description\": \"\"\n      }\n    },\n    {\n      \"column\": \"Pb_ppm\",\n      \"properties\": {\n        \"dtype\": \"number\",\n        \"std\": 74.8770438955356,\n        \"min\": 2.0,\n        \"max\": 2605.0,\n        \"num_unique_values\": 181,\n        \"samples\": [\n          61.66666666666666\n        ],\n        \"semantic_type\": \"\",\n        \"description\": \"\"\n      }\n    },\n    {\n      \"column\": \"Zn_ppm\",\n      \"properties\": {\n        \"dtype\": \"number\",\n        \"std\": 260.1076563257533,\n        \"min\": 2.0,\n        \"max\": 4965.0,\n        \"num_unique_values\": 306,\n        \"samples\": [\n          27.0\n        ],\n        \"semantic_type\": \"\",\n        \"description\": \"\"\n      }\n    },\n    {\n      \"column\": \"Au_ppm\",\n      \"properties\": {\n        \"dtype\": \"number\",\n        \"std\": 0.18587197066605332,\n        \"min\": 0.025,\n        \"max\": 3.575333333333333,\n        \"num_unique_values\": 63,\n        \"samples\": [\n          1.31\n        ],\n        \"semantic_type\": \"\",\n        \"description\": \"\"\n      }\n    },\n    {\n      \"column\": \"Ag_ppm\",\n      \"properties\": {\n        \"dtype\": \"number\",\n        \"std\": null,\n        \"min\": null,\n        \"max\": null,\n        \"num_unique_values\": 0,\n        \"samples\": [],\n        \"semantic_type\": \"\",\n        \"description\": \"\"\n      }\n    },\n    {\n      \"column\": \"Lithology\",\n      \"properties\": {\n        \"dtype\": \"category\",\n        \"num_unique_values\": 330,\n        \"samples\": [],\n        \"semantic_type\": \"\",\n        \"description\": \"\"\n      }\n    },\n    {\n      \"column\": \"MajorRockType\",\n      \"properties\": {\n        \"dtype\": \"category\",\n        \"num_unique_values\": 77,\n        \"samples\": [],\n        \"semantic_type\": \"\",\n        \"description\": \"\"\n      }\n    },\n    {\n      \"column\": \"FileName\",\n      \"properties\": {\n        \"dtype\": \"category\",\n        \"num_unique_values\": 53,\n        \"samples\": [],\n        \"semantic_type\": \"\",\n        \"description\": \"\"\n      }\n    }\n  ]\n}"
            }
          },
          "metadata": {},
          "execution_count": 7
        }
      ]
    },
    {
      "cell_type": "code",
      "source": [
        "g4.columns"
      ],
      "metadata": {
        "colab": {
          "base_uri": "https://localhost:8080/"
        },
        "id": "pL0rGo7k-V_l",
        "outputId": "a2bfa32f-94f6-41c3-bbd2-cc9df187f490"
      },
      "execution_count": null,
      "outputs": [
        {
          "output_type": "execute_result",
          "data": {
            "text/plain": [
              "Index(['SampleNo', 'Borehole', 'Latitude', 'Longitude', 'Angle', 'Azimuth',\n",
              "       'SampleLength', 'Cu_ppm', 'Co_ppm', 'Ni_ppm', 'Pb_ppm', 'Zn_ppm',\n",
              "       'Au_ppm', 'Ag_ppm', 'Lithology', 'MajorRockType', 'FileName'],\n",
              "      dtype='object')"
            ]
          },
          "metadata": {},
          "execution_count": 8
        }
      ]
    },
    {
      "cell_type": "code",
      "source": [
        "g2 = dict_keys['G2']\n",
        "g2.head()"
      ],
      "metadata": {
        "colab": {
          "base_uri": "https://localhost:8080/",
          "height": 292
        },
        "id": "JSN-L57d_Rd_",
        "outputId": "54805702-186d-4977-fb51-1eda85d1fe83"
      },
      "execution_count": null,
      "outputs": [
        {
          "output_type": "execute_result",
          "data": {
            "text/plain": [
              "  SampleNo BoreHole   Latitude  Longitude  Angle  Azimuth  SampleLength  \\\n",
              "0  RLD-1/1    RLD-1  24.777581  74.049853     45      205           0.2   \n",
              "1  RLD-1/2    RLD-1  24.777581  74.049853     45      205           0.5   \n",
              "2  RLD-1/3    RLD-1  24.777581  74.049853     45      205           0.5   \n",
              "3  RLD-1/4    RLD-1  24.777581  74.049853     45      205           0.5   \n",
              "4  RLD-1/5    RLD-1  24.777581  74.049853     45      205           0.5   \n",
              "\n",
              "  Cu_ppm Co_ppm Ni_ppm Pb_ppm Zn_ppm  Au_ppb  Ag_ppm Lithology MajorRockType  \\\n",
              "0   1500    NaN    NaN    NaN    NaN     NaN     NaN       NaN           NaN   \n",
              "1    225    NaN    NaN    NaN    NaN     NaN     NaN       NaN           NaN   \n",
              "2   1300    NaN    NaN    NaN    NaN     NaN     NaN       NaN           NaN   \n",
              "3    175    NaN    NaN    NaN    NaN     NaN     NaN       NaN           NaN   \n",
              "4    200    NaN    NaN    NaN    NaN     NaN     NaN       NaN           NaN   \n",
              "\n",
              "                        Filetype  \n",
              "0  TRIP_Saswat_G2_19-21_BM_45L01  \n",
              "1  TRIP_Saswat_G2_19-21_BM_45L01  \n",
              "2  TRIP_Saswat_G2_19-21_BM_45L01  \n",
              "3  TRIP_Saswat_G2_19-21_BM_45L01  \n",
              "4  TRIP_Saswat_G2_19-21_BM_45L01  "
            ],
            "text/html": [
              "\n",
              "  <div id=\"df-d426fd09-374b-40aa-a8ae-59c20ae755b5\" class=\"colab-df-container\">\n",
              "    <div>\n",
              "<style scoped>\n",
              "    .dataframe tbody tr th:only-of-type {\n",
              "        vertical-align: middle;\n",
              "    }\n",
              "\n",
              "    .dataframe tbody tr th {\n",
              "        vertical-align: top;\n",
              "    }\n",
              "\n",
              "    .dataframe thead th {\n",
              "        text-align: right;\n",
              "    }\n",
              "</style>\n",
              "<table border=\"1\" class=\"dataframe\">\n",
              "  <thead>\n",
              "    <tr style=\"text-align: right;\">\n",
              "      <th></th>\n",
              "      <th>SampleNo</th>\n",
              "      <th>BoreHole</th>\n",
              "      <th>Latitude</th>\n",
              "      <th>Longitude</th>\n",
              "      <th>Angle</th>\n",
              "      <th>Azimuth</th>\n",
              "      <th>SampleLength</th>\n",
              "      <th>Cu_ppm</th>\n",
              "      <th>Co_ppm</th>\n",
              "      <th>Ni_ppm</th>\n",
              "      <th>Pb_ppm</th>\n",
              "      <th>Zn_ppm</th>\n",
              "      <th>Au_ppb</th>\n",
              "      <th>Ag_ppm</th>\n",
              "      <th>Lithology</th>\n",
              "      <th>MajorRockType</th>\n",
              "      <th>Filetype</th>\n",
              "    </tr>\n",
              "  </thead>\n",
              "  <tbody>\n",
              "    <tr>\n",
              "      <th>0</th>\n",
              "      <td>RLD-1/1</td>\n",
              "      <td>RLD-1</td>\n",
              "      <td>24.777581</td>\n",
              "      <td>74.049853</td>\n",
              "      <td>45</td>\n",
              "      <td>205</td>\n",
              "      <td>0.2</td>\n",
              "      <td>1500</td>\n",
              "      <td>NaN</td>\n",
              "      <td>NaN</td>\n",
              "      <td>NaN</td>\n",
              "      <td>NaN</td>\n",
              "      <td>NaN</td>\n",
              "      <td>NaN</td>\n",
              "      <td>NaN</td>\n",
              "      <td>NaN</td>\n",
              "      <td>TRIP_Saswat_G2_19-21_BM_45L01</td>\n",
              "    </tr>\n",
              "    <tr>\n",
              "      <th>1</th>\n",
              "      <td>RLD-1/2</td>\n",
              "      <td>RLD-1</td>\n",
              "      <td>24.777581</td>\n",
              "      <td>74.049853</td>\n",
              "      <td>45</td>\n",
              "      <td>205</td>\n",
              "      <td>0.5</td>\n",
              "      <td>225</td>\n",
              "      <td>NaN</td>\n",
              "      <td>NaN</td>\n",
              "      <td>NaN</td>\n",
              "      <td>NaN</td>\n",
              "      <td>NaN</td>\n",
              "      <td>NaN</td>\n",
              "      <td>NaN</td>\n",
              "      <td>NaN</td>\n",
              "      <td>TRIP_Saswat_G2_19-21_BM_45L01</td>\n",
              "    </tr>\n",
              "    <tr>\n",
              "      <th>2</th>\n",
              "      <td>RLD-1/3</td>\n",
              "      <td>RLD-1</td>\n",
              "      <td>24.777581</td>\n",
              "      <td>74.049853</td>\n",
              "      <td>45</td>\n",
              "      <td>205</td>\n",
              "      <td>0.5</td>\n",
              "      <td>1300</td>\n",
              "      <td>NaN</td>\n",
              "      <td>NaN</td>\n",
              "      <td>NaN</td>\n",
              "      <td>NaN</td>\n",
              "      <td>NaN</td>\n",
              "      <td>NaN</td>\n",
              "      <td>NaN</td>\n",
              "      <td>NaN</td>\n",
              "      <td>TRIP_Saswat_G2_19-21_BM_45L01</td>\n",
              "    </tr>\n",
              "    <tr>\n",
              "      <th>3</th>\n",
              "      <td>RLD-1/4</td>\n",
              "      <td>RLD-1</td>\n",
              "      <td>24.777581</td>\n",
              "      <td>74.049853</td>\n",
              "      <td>45</td>\n",
              "      <td>205</td>\n",
              "      <td>0.5</td>\n",
              "      <td>175</td>\n",
              "      <td>NaN</td>\n",
              "      <td>NaN</td>\n",
              "      <td>NaN</td>\n",
              "      <td>NaN</td>\n",
              "      <td>NaN</td>\n",
              "      <td>NaN</td>\n",
              "      <td>NaN</td>\n",
              "      <td>NaN</td>\n",
              "      <td>TRIP_Saswat_G2_19-21_BM_45L01</td>\n",
              "    </tr>\n",
              "    <tr>\n",
              "      <th>4</th>\n",
              "      <td>RLD-1/5</td>\n",
              "      <td>RLD-1</td>\n",
              "      <td>24.777581</td>\n",
              "      <td>74.049853</td>\n",
              "      <td>45</td>\n",
              "      <td>205</td>\n",
              "      <td>0.5</td>\n",
              "      <td>200</td>\n",
              "      <td>NaN</td>\n",
              "      <td>NaN</td>\n",
              "      <td>NaN</td>\n",
              "      <td>NaN</td>\n",
              "      <td>NaN</td>\n",
              "      <td>NaN</td>\n",
              "      <td>NaN</td>\n",
              "      <td>NaN</td>\n",
              "      <td>TRIP_Saswat_G2_19-21_BM_45L01</td>\n",
              "    </tr>\n",
              "  </tbody>\n",
              "</table>\n",
              "</div>\n",
              "    <div class=\"colab-df-buttons\">\n",
              "\n",
              "  <div class=\"colab-df-container\">\n",
              "    <button class=\"colab-df-convert\" onclick=\"convertToInteractive('df-d426fd09-374b-40aa-a8ae-59c20ae755b5')\"\n",
              "            title=\"Convert this dataframe to an interactive table.\"\n",
              "            style=\"display:none;\">\n",
              "\n",
              "  <svg xmlns=\"http://www.w3.org/2000/svg\" height=\"24px\" viewBox=\"0 -960 960 960\">\n",
              "    <path d=\"M120-120v-720h720v720H120Zm60-500h600v-160H180v160Zm220 220h160v-160H400v160Zm0 220h160v-160H400v160ZM180-400h160v-160H180v160Zm440 0h160v-160H620v160ZM180-180h160v-160H180v160Zm440 0h160v-160H620v160Z\"/>\n",
              "  </svg>\n",
              "    </button>\n",
              "\n",
              "  <style>\n",
              "    .colab-df-container {\n",
              "      display:flex;\n",
              "      gap: 12px;\n",
              "    }\n",
              "\n",
              "    .colab-df-convert {\n",
              "      background-color: #E8F0FE;\n",
              "      border: none;\n",
              "      border-radius: 50%;\n",
              "      cursor: pointer;\n",
              "      display: none;\n",
              "      fill: #1967D2;\n",
              "      height: 32px;\n",
              "      padding: 0 0 0 0;\n",
              "      width: 32px;\n",
              "    }\n",
              "\n",
              "    .colab-df-convert:hover {\n",
              "      background-color: #E2EBFA;\n",
              "      box-shadow: 0px 1px 2px rgba(60, 64, 67, 0.3), 0px 1px 3px 1px rgba(60, 64, 67, 0.15);\n",
              "      fill: #174EA6;\n",
              "    }\n",
              "\n",
              "    .colab-df-buttons div {\n",
              "      margin-bottom: 4px;\n",
              "    }\n",
              "\n",
              "    [theme=dark] .colab-df-convert {\n",
              "      background-color: #3B4455;\n",
              "      fill: #D2E3FC;\n",
              "    }\n",
              "\n",
              "    [theme=dark] .colab-df-convert:hover {\n",
              "      background-color: #434B5C;\n",
              "      box-shadow: 0px 1px 3px 1px rgba(0, 0, 0, 0.15);\n",
              "      filter: drop-shadow(0px 1px 2px rgba(0, 0, 0, 0.3));\n",
              "      fill: #FFFFFF;\n",
              "    }\n",
              "  </style>\n",
              "\n",
              "    <script>\n",
              "      const buttonEl =\n",
              "        document.querySelector('#df-d426fd09-374b-40aa-a8ae-59c20ae755b5 button.colab-df-convert');\n",
              "      buttonEl.style.display =\n",
              "        google.colab.kernel.accessAllowed ? 'block' : 'none';\n",
              "\n",
              "      async function convertToInteractive(key) {\n",
              "        const element = document.querySelector('#df-d426fd09-374b-40aa-a8ae-59c20ae755b5');\n",
              "        const dataTable =\n",
              "          await google.colab.kernel.invokeFunction('convertToInteractive',\n",
              "                                                    [key], {});\n",
              "        if (!dataTable) return;\n",
              "\n",
              "        const docLinkHtml = 'Like what you see? Visit the ' +\n",
              "          '<a target=\"_blank\" href=https://colab.research.google.com/notebooks/data_table.ipynb>data table notebook</a>'\n",
              "          + ' to learn more about interactive tables.';\n",
              "        element.innerHTML = '';\n",
              "        dataTable['output_type'] = 'display_data';\n",
              "        await google.colab.output.renderOutput(dataTable, element);\n",
              "        const docLink = document.createElement('div');\n",
              "        docLink.innerHTML = docLinkHtml;\n",
              "        element.appendChild(docLink);\n",
              "      }\n",
              "    </script>\n",
              "  </div>\n",
              "\n",
              "\n",
              "<div id=\"df-36cd5898-3bba-4152-bc99-0d8b97f2445f\">\n",
              "  <button class=\"colab-df-quickchart\" onclick=\"quickchart('df-36cd5898-3bba-4152-bc99-0d8b97f2445f')\"\n",
              "            title=\"Suggest charts\"\n",
              "            style=\"display:none;\">\n",
              "\n",
              "<svg xmlns=\"http://www.w3.org/2000/svg\" height=\"24px\"viewBox=\"0 0 24 24\"\n",
              "     width=\"24px\">\n",
              "    <g>\n",
              "        <path d=\"M19 3H5c-1.1 0-2 .9-2 2v14c0 1.1.9 2 2 2h14c1.1 0 2-.9 2-2V5c0-1.1-.9-2-2-2zM9 17H7v-7h2v7zm4 0h-2V7h2v10zm4 0h-2v-4h2v4z\"/>\n",
              "    </g>\n",
              "</svg>\n",
              "  </button>\n",
              "\n",
              "<style>\n",
              "  .colab-df-quickchart {\n",
              "      --bg-color: #E8F0FE;\n",
              "      --fill-color: #1967D2;\n",
              "      --hover-bg-color: #E2EBFA;\n",
              "      --hover-fill-color: #174EA6;\n",
              "      --disabled-fill-color: #AAA;\n",
              "      --disabled-bg-color: #DDD;\n",
              "  }\n",
              "\n",
              "  [theme=dark] .colab-df-quickchart {\n",
              "      --bg-color: #3B4455;\n",
              "      --fill-color: #D2E3FC;\n",
              "      --hover-bg-color: #434B5C;\n",
              "      --hover-fill-color: #FFFFFF;\n",
              "      --disabled-bg-color: #3B4455;\n",
              "      --disabled-fill-color: #666;\n",
              "  }\n",
              "\n",
              "  .colab-df-quickchart {\n",
              "    background-color: var(--bg-color);\n",
              "    border: none;\n",
              "    border-radius: 50%;\n",
              "    cursor: pointer;\n",
              "    display: none;\n",
              "    fill: var(--fill-color);\n",
              "    height: 32px;\n",
              "    padding: 0;\n",
              "    width: 32px;\n",
              "  }\n",
              "\n",
              "  .colab-df-quickchart:hover {\n",
              "    background-color: var(--hover-bg-color);\n",
              "    box-shadow: 0 1px 2px rgba(60, 64, 67, 0.3), 0 1px 3px 1px rgba(60, 64, 67, 0.15);\n",
              "    fill: var(--button-hover-fill-color);\n",
              "  }\n",
              "\n",
              "  .colab-df-quickchart-complete:disabled,\n",
              "  .colab-df-quickchart-complete:disabled:hover {\n",
              "    background-color: var(--disabled-bg-color);\n",
              "    fill: var(--disabled-fill-color);\n",
              "    box-shadow: none;\n",
              "  }\n",
              "\n",
              "  .colab-df-spinner {\n",
              "    border: 2px solid var(--fill-color);\n",
              "    border-color: transparent;\n",
              "    border-bottom-color: var(--fill-color);\n",
              "    animation:\n",
              "      spin 1s steps(1) infinite;\n",
              "  }\n",
              "\n",
              "  @keyframes spin {\n",
              "    0% {\n",
              "      border-color: transparent;\n",
              "      border-bottom-color: var(--fill-color);\n",
              "      border-left-color: var(--fill-color);\n",
              "    }\n",
              "    20% {\n",
              "      border-color: transparent;\n",
              "      border-left-color: var(--fill-color);\n",
              "      border-top-color: var(--fill-color);\n",
              "    }\n",
              "    30% {\n",
              "      border-color: transparent;\n",
              "      border-left-color: var(--fill-color);\n",
              "      border-top-color: var(--fill-color);\n",
              "      border-right-color: var(--fill-color);\n",
              "    }\n",
              "    40% {\n",
              "      border-color: transparent;\n",
              "      border-right-color: var(--fill-color);\n",
              "      border-top-color: var(--fill-color);\n",
              "    }\n",
              "    60% {\n",
              "      border-color: transparent;\n",
              "      border-right-color: var(--fill-color);\n",
              "    }\n",
              "    80% {\n",
              "      border-color: transparent;\n",
              "      border-right-color: var(--fill-color);\n",
              "      border-bottom-color: var(--fill-color);\n",
              "    }\n",
              "    90% {\n",
              "      border-color: transparent;\n",
              "      border-bottom-color: var(--fill-color);\n",
              "    }\n",
              "  }\n",
              "</style>\n",
              "\n",
              "  <script>\n",
              "    async function quickchart(key) {\n",
              "      const quickchartButtonEl =\n",
              "        document.querySelector('#' + key + ' button');\n",
              "      quickchartButtonEl.disabled = true;  // To prevent multiple clicks.\n",
              "      quickchartButtonEl.classList.add('colab-df-spinner');\n",
              "      try {\n",
              "        const charts = await google.colab.kernel.invokeFunction(\n",
              "            'suggestCharts', [key], {});\n",
              "      } catch (error) {\n",
              "        console.error('Error during call to suggestCharts:', error);\n",
              "      }\n",
              "      quickchartButtonEl.classList.remove('colab-df-spinner');\n",
              "      quickchartButtonEl.classList.add('colab-df-quickchart-complete');\n",
              "    }\n",
              "    (() => {\n",
              "      let quickchartButtonEl =\n",
              "        document.querySelector('#df-36cd5898-3bba-4152-bc99-0d8b97f2445f button');\n",
              "      quickchartButtonEl.style.display =\n",
              "        google.colab.kernel.accessAllowed ? 'block' : 'none';\n",
              "    })();\n",
              "  </script>\n",
              "</div>\n",
              "\n",
              "    </div>\n",
              "  </div>\n"
            ],
            "application/vnd.google.colaboratory.intrinsic+json": {
              "type": "dataframe",
              "variable_name": "g2",
              "summary": "{\n  \"name\": \"g2\",\n  \"rows\": 5409,\n  \"fields\": [\n    {\n      \"column\": \"SampleNo\",\n      \"properties\": {\n        \"dtype\": \"string\",\n        \"num_unique_values\": 5408,\n        \"samples\": [\n          \"RJKMB-18/05\",\n          \"KMB-1/61\",\n          \"RJKMB-1/32\"\n        ],\n        \"semantic_type\": \"\",\n        \"description\": \"\"\n      }\n    },\n    {\n      \"column\": \"BoreHole\",\n      \"properties\": {\n        \"dtype\": \"category\",\n        \"num_unique_values\": 21,\n        \"samples\": [\n          \"RLD-1\",\n          \"RJLD-4\",\n          \"RJLD-6\"\n        ],\n        \"semantic_type\": \"\",\n        \"description\": \"\"\n      }\n    },\n    {\n      \"column\": \"Latitude\",\n      \"properties\": {\n        \"dtype\": \"number\",\n        \"std\": 0.31162622006075474,\n        \"min\": 24.7671875,\n        \"max\": 25.46999444444444,\n        \"num_unique_values\": 59,\n        \"samples\": [\n          24.77758055555556,\n          24.77380555555555,\n          25.46516944444445\n        ],\n        \"semantic_type\": \"\",\n        \"description\": \"\"\n      }\n    },\n    {\n      \"column\": \"Longitude\",\n      \"properties\": {\n        \"dtype\": \"number\",\n        \"std\": 7.869516896519105,\n        \"min\": 25.46095555555555,\n        \"max\": 74.66422222222222,\n        \"num_unique_values\": 59,\n        \"samples\": [\n          74.04985277777777,\n          74.05398611111112,\n          74.65818611111112\n        ],\n        \"semantic_type\": \"\",\n        \"description\": \"\"\n      }\n    },\n    {\n      \"column\": \"Angle\",\n      \"properties\": {\n        \"dtype\": \"number\",\n        \"std\": 1,\n        \"min\": 45,\n        \"max\": 50,\n        \"num_unique_values\": 2,\n        \"samples\": [\n          50,\n          45\n        ],\n        \"semantic_type\": \"\",\n        \"description\": \"\"\n      }\n    },\n    {\n      \"column\": \"Azimuth\",\n      \"properties\": {\n        \"dtype\": \"number\",\n        \"std\": 40,\n        \"min\": 205,\n        \"max\": 319,\n        \"num_unique_values\": 10,\n        \"samples\": [\n          319,\n          230\n        ],\n        \"semantic_type\": \"\",\n        \"description\": \"\"\n      }\n    },\n    {\n      \"column\": \"SampleLength\",\n      \"properties\": {\n        \"dtype\": \"number\",\n        \"std\": 0.2316729066501832,\n        \"min\": 0.0,\n        \"max\": 3.0,\n        \"num_unique_values\": 58,\n        \"samples\": [\n          0.2,\n          0.65\n        ],\n        \"semantic_type\": \"\",\n        \"description\": \"\"\n      }\n    },\n    {\n      \"column\": \"Cu_ppm\",\n      \"properties\": {\n        \"dtype\": \"category\",\n        \"num_unique_values\": 996,\n        \"samples\": [\n          691.1374999999999,\n          699.175\n        ],\n        \"semantic_type\": \"\",\n        \"description\": \"\"\n      }\n    },\n    {\n      \"column\": \"Co_ppm\",\n      \"properties\": {\n        \"dtype\": \"category\",\n        \"num_unique_values\": 128,\n        \"samples\": [\n          80,\n          54\n        ],\n        \"semantic_type\": \"\",\n        \"description\": \"\"\n      }\n    },\n    {\n      \"column\": \"Ni_ppm\",\n      \"properties\": {\n        \"dtype\": \"category\",\n        \"num_unique_values\": 236,\n        \"samples\": [\n          19,\n          22.8\n        ],\n        \"semantic_type\": \"\",\n        \"description\": \"\"\n      }\n    },\n    {\n      \"column\": \"Pb_ppm\",\n      \"properties\": {\n        \"dtype\": \"category\",\n        \"num_unique_values\": 79,\n        \"samples\": [\n          95,\n          \"<50\"\n        ],\n        \"semantic_type\": \"\",\n        \"description\": \"\"\n      }\n    },\n    {\n      \"column\": \"Zn_ppm\",\n      \"properties\": {\n        \"dtype\": \"category\",\n        \"num_unique_values\": 295,\n        \"samples\": [\n          17.0875,\n          20.725\n        ],\n        \"semantic_type\": \"\",\n        \"description\": \"\"\n      }\n    },\n    {\n      \"column\": \"Au_ppb\",\n      \"properties\": {\n        \"dtype\": \"number\",\n        \"std\": null,\n        \"min\": null,\n        \"max\": null,\n        \"num_unique_values\": 0,\n        \"samples\": [],\n        \"semantic_type\": \"\",\n        \"description\": \"\"\n      }\n    },\n    {\n      \"column\": \"Ag_ppm\",\n      \"properties\": {\n        \"dtype\": \"number\",\n        \"std\": null,\n        \"min\": null,\n        \"max\": null,\n        \"num_unique_values\": 0,\n        \"samples\": [],\n        \"semantic_type\": \"\",\n        \"description\": \"\"\n      }\n    },\n    {\n      \"column\": \"Lithology\",\n      \"properties\": {\n        \"dtype\": \"category\",\n        \"num_unique_values\": 61,\n        \"samples\": [],\n        \"semantic_type\": \"\",\n        \"description\": \"\"\n      }\n    },\n    {\n      \"column\": \"MajorRockType\",\n      \"properties\": {\n        \"dtype\": \"category\",\n        \"num_unique_values\": 11,\n        \"samples\": [],\n        \"semantic_type\": \"\",\n        \"description\": \"\"\n      }\n    },\n    {\n      \"column\": \"Filetype\",\n      \"properties\": {\n        \"dtype\": \"category\",\n        \"num_unique_values\": 2,\n        \"samples\": [],\n        \"semantic_type\": \"\",\n        \"description\": \"\"\n      }\n    }\n  ]\n}"
            }
          },
          "metadata": {},
          "execution_count": 9
        }
      ]
    },
    {
      "cell_type": "code",
      "source": [
        "g2.columns"
      ],
      "metadata": {
        "colab": {
          "base_uri": "https://localhost:8080/"
        },
        "id": "MuWlYKLH_Tlp",
        "outputId": "94382bcf-514b-4230-f363-4ae2f8695c31"
      },
      "execution_count": null,
      "outputs": [
        {
          "output_type": "execute_result",
          "data": {
            "text/plain": [
              "Index(['SampleNo', 'BoreHole', 'Latitude', 'Longitude', 'Angle', 'Azimuth',\n",
              "       'SampleLength', 'Cu_ppm', 'Co_ppm', 'Ni_ppm', 'Pb_ppm', 'Zn_ppm',\n",
              "       'Au_ppb', 'Ag_ppm', 'Lithology', 'MajorRockType', 'Filetype'],\n",
              "      dtype='object')"
            ]
          },
          "metadata": {},
          "execution_count": 10
        }
      ]
    },
    {
      "cell_type": "code",
      "source": [
        "metals = ['Pb_ppm', 'Ni_ppm', 'Cu_ppm', 'Zn_ppm', 'Co_ppm']\n",
        "for m in metals:\n",
        "  g3[m] =  pd.to_numeric(g3[m], errors='coerce')\n",
        "  g3[m] = g3[m].fillna(0).astype(int)"
      ],
      "metadata": {
        "id": "rdLCdoP26Jsi"
      },
      "execution_count": null,
      "outputs": []
    },
    {
      "cell_type": "code",
      "source": [
        "metals_g4 = ['Pb_ppm', 'Ni_ppm', 'Cu_ppm', 'Zn_ppm', 'Co_ppm']\n",
        "for m in metals_g4:\n",
        "  g4[m] =  pd.to_numeric(g4[m], errors='coerce')\n",
        "  g4[m] = g4[m].fillna(0).astype(int)"
      ],
      "metadata": {
        "id": "LPJjCv_G-bfv"
      },
      "execution_count": null,
      "outputs": []
    },
    {
      "cell_type": "code",
      "source": [
        "metals_g2 = ['Pb_ppm', 'Ni_ppm', 'Cu_ppm', 'Zn_ppm', 'Co_ppm']\n",
        "for m in metals_g2:\n",
        "  g2[m] =  pd.to_numeric(g2[m], errors='coerce')\n",
        "  g2[m] = g2[m].fillna(0).astype(int)"
      ],
      "metadata": {
        "id": "0GCDFH1q_bMA"
      },
      "execution_count": null,
      "outputs": []
    },
    {
      "cell_type": "code",
      "source": [
        "g3['Cu_ppm']"
      ],
      "metadata": {
        "colab": {
          "base_uri": "https://localhost:8080/",
          "height": 458
        },
        "id": "bR_7njq56bKK",
        "outputId": "ed3d8c37-b819-41c3-88eb-9f2df13c474d"
      },
      "execution_count": null,
      "outputs": [
        {
          "output_type": "execute_result",
          "data": {
            "text/plain": [
              "0        60\n",
              "1        70\n",
              "2        70\n",
              "3       130\n",
              "4        40\n",
              "       ... \n",
              "2208     10\n",
              "2209      5\n",
              "2210     70\n",
              "2211     10\n",
              "2212     30\n",
              "Name: Cu_ppm, Length: 2213, dtype: int64"
            ],
            "text/html": [
              "<div>\n",
              "<style scoped>\n",
              "    .dataframe tbody tr th:only-of-type {\n",
              "        vertical-align: middle;\n",
              "    }\n",
              "\n",
              "    .dataframe tbody tr th {\n",
              "        vertical-align: top;\n",
              "    }\n",
              "\n",
              "    .dataframe thead th {\n",
              "        text-align: right;\n",
              "    }\n",
              "</style>\n",
              "<table border=\"1\" class=\"dataframe\">\n",
              "  <thead>\n",
              "    <tr style=\"text-align: right;\">\n",
              "      <th></th>\n",
              "      <th>Cu_ppm</th>\n",
              "    </tr>\n",
              "  </thead>\n",
              "  <tbody>\n",
              "    <tr>\n",
              "      <th>0</th>\n",
              "      <td>60</td>\n",
              "    </tr>\n",
              "    <tr>\n",
              "      <th>1</th>\n",
              "      <td>70</td>\n",
              "    </tr>\n",
              "    <tr>\n",
              "      <th>2</th>\n",
              "      <td>70</td>\n",
              "    </tr>\n",
              "    <tr>\n",
              "      <th>3</th>\n",
              "      <td>130</td>\n",
              "    </tr>\n",
              "    <tr>\n",
              "      <th>4</th>\n",
              "      <td>40</td>\n",
              "    </tr>\n",
              "    <tr>\n",
              "      <th>...</th>\n",
              "      <td>...</td>\n",
              "    </tr>\n",
              "    <tr>\n",
              "      <th>2208</th>\n",
              "      <td>10</td>\n",
              "    </tr>\n",
              "    <tr>\n",
              "      <th>2209</th>\n",
              "      <td>5</td>\n",
              "    </tr>\n",
              "    <tr>\n",
              "      <th>2210</th>\n",
              "      <td>70</td>\n",
              "    </tr>\n",
              "    <tr>\n",
              "      <th>2211</th>\n",
              "      <td>10</td>\n",
              "    </tr>\n",
              "    <tr>\n",
              "      <th>2212</th>\n",
              "      <td>30</td>\n",
              "    </tr>\n",
              "  </tbody>\n",
              "</table>\n",
              "<p>2213 rows × 1 columns</p>\n",
              "</div><br><label><b>dtype:</b> int64</label>"
            ]
          },
          "metadata": {},
          "execution_count": 14
        }
      ]
    },
    {
      "cell_type": "code",
      "source": [
        "g4['Cu_ppm']"
      ],
      "metadata": {
        "colab": {
          "base_uri": "https://localhost:8080/",
          "height": 458
        },
        "id": "HN0QrZNt-8ZF",
        "outputId": "9ec268b0-42c8-4ef0-d7e9-31d15bb9d220"
      },
      "execution_count": null,
      "outputs": [
        {
          "output_type": "execute_result",
          "data": {
            "text/plain": [
              "0        20\n",
              "1        30\n",
              "2        20\n",
              "3        10\n",
              "4        20\n",
              "       ... \n",
              "1572    212\n",
              "1573    121\n",
              "1574    567\n",
              "1575     34\n",
              "1576    104\n",
              "Name: Cu_ppm, Length: 1577, dtype: int64"
            ],
            "text/html": [
              "<div>\n",
              "<style scoped>\n",
              "    .dataframe tbody tr th:only-of-type {\n",
              "        vertical-align: middle;\n",
              "    }\n",
              "\n",
              "    .dataframe tbody tr th {\n",
              "        vertical-align: top;\n",
              "    }\n",
              "\n",
              "    .dataframe thead th {\n",
              "        text-align: right;\n",
              "    }\n",
              "</style>\n",
              "<table border=\"1\" class=\"dataframe\">\n",
              "  <thead>\n",
              "    <tr style=\"text-align: right;\">\n",
              "      <th></th>\n",
              "      <th>Cu_ppm</th>\n",
              "    </tr>\n",
              "  </thead>\n",
              "  <tbody>\n",
              "    <tr>\n",
              "      <th>0</th>\n",
              "      <td>20</td>\n",
              "    </tr>\n",
              "    <tr>\n",
              "      <th>1</th>\n",
              "      <td>30</td>\n",
              "    </tr>\n",
              "    <tr>\n",
              "      <th>2</th>\n",
              "      <td>20</td>\n",
              "    </tr>\n",
              "    <tr>\n",
              "      <th>3</th>\n",
              "      <td>10</td>\n",
              "    </tr>\n",
              "    <tr>\n",
              "      <th>4</th>\n",
              "      <td>20</td>\n",
              "    </tr>\n",
              "    <tr>\n",
              "      <th>...</th>\n",
              "      <td>...</td>\n",
              "    </tr>\n",
              "    <tr>\n",
              "      <th>1572</th>\n",
              "      <td>212</td>\n",
              "    </tr>\n",
              "    <tr>\n",
              "      <th>1573</th>\n",
              "      <td>121</td>\n",
              "    </tr>\n",
              "    <tr>\n",
              "      <th>1574</th>\n",
              "      <td>567</td>\n",
              "    </tr>\n",
              "    <tr>\n",
              "      <th>1575</th>\n",
              "      <td>34</td>\n",
              "    </tr>\n",
              "    <tr>\n",
              "      <th>1576</th>\n",
              "      <td>104</td>\n",
              "    </tr>\n",
              "  </tbody>\n",
              "</table>\n",
              "<p>1577 rows × 1 columns</p>\n",
              "</div><br><label><b>dtype:</b> int64</label>"
            ]
          },
          "metadata": {},
          "execution_count": 15
        }
      ]
    },
    {
      "cell_type": "code",
      "source": [
        "from sklearn.ensemble import IsolationForest\n",
        "from scipy import stats\n",
        "\n",
        "def return_anomalies(df,metals):\n",
        "  z = np.abs(stats.zscore(df[metals]))\n",
        "  z_score_outliers = (z > 3).any(axis=1)\n",
        "\n",
        "  Q1 = df[metals].quantile(0.25)\n",
        "  Q3 = df[metals].quantile(0.75)\n",
        "  IQR = Q3 - Q1\n",
        "  iqr_outliers = ((df[metals] < (Q1 - 1.5 * IQR)) | (df[metals] > (Q3 + 1.5 * IQR))).any(axis=1)\n",
        "\n",
        "  iso_forest = IsolationForest(contamination='auto')\n",
        "  predictions = iso_forest.fit_predict(df[metals])\n",
        "  iso_forest_outliers = pd.Series(predictions == -1)\n",
        "\n",
        "  outlier_votes = pd.DataFrame({\n",
        "      'Z-Score': z_score_outliers,\n",
        "      'IQR': iqr_outliers,\n",
        "      'Isolation Forest': iso_forest_outliers\n",
        "  })\n",
        "\n",
        "  outlier_votes['votes'] = outlier_votes.sum(axis=1)\n",
        "  confirmed_outliers = outlier_votes[outlier_votes['votes'] >= 2]\n",
        "\n",
        "  print(\"Rows flagged as outliers by majority voting:\")\n",
        "  print(confirmed_outliers)\n",
        "\n",
        "  print(f\"Shape of original dataframe: {df.shape}\")\n",
        "  print(f\"Number of outlier dataframe: {len(confirmed_outliers)}\")\n",
        "\n",
        "  outlier_indices = outlier_votes[outlier_votes['votes'] >= 2].index\n",
        "\n",
        "  outlier_df = df.loc[outlier_indices]\n",
        "\n",
        "  print(\"Outlier Data:\")\n",
        "  print(outlier_df)\n",
        "\n",
        "  df['outlier_flag'] = 0\n",
        "\n",
        "  df.loc[outlier_indices, 'outlier_flag'] = 1\n",
        "\n",
        "  return df\n",
        "\n"
      ],
      "metadata": {
        "id": "KB0X-kuOOZCD"
      },
      "execution_count": null,
      "outputs": []
    },
    {
      "cell_type": "code",
      "source": [
        "g3_outliers = return_anomalies(g3,metals)\n",
        "g3.to_csv(\"/content/drive/MyDrive/DINESH_ALL_FINAL_CLEANED_DATA_28SEP2024/Rayan_G3_outliers_1610.csv\", index=False)"
      ],
      "metadata": {
        "colab": {
          "base_uri": "https://localhost:8080/"
        },
        "id": "4z75LOdl9grk",
        "outputId": "edc76652-b33e-444f-a3b4-81b69087484d"
      },
      "execution_count": null,
      "outputs": [
        {
          "output_type": "stream",
          "name": "stdout",
          "text": [
            "Rows flagged as outliers by majority voting:\n",
            "      Z-Score   IQR  Isolation Forest  votes\n",
            "15      False  True              True      2\n",
            "20      False  True              True      2\n",
            "21       True  True              True      3\n",
            "34       True  True              True      3\n",
            "35       True  True              True      3\n",
            "...       ...   ...               ...    ...\n",
            "2180     True  True              True      3\n",
            "2185     True  True              True      3\n",
            "2186     True  True              True      3\n",
            "2198    False  True              True      2\n",
            "2206    False  True              True      2\n",
            "\n",
            "[160 rows x 4 columns]\n",
            "Shape of original dataframe: (2213, 18)\n",
            "Number of outlier dataframe: 160\n",
            "Outlier Data:\n",
            "         SampleNo BoreHole   Latitude  Longitude  Angle  Azimuth  \\\n",
            "15       BKD-2/16    BKD-2  23.950011  74.301556     45      250   \n",
            "20       BKD-2/21    BKD-2  23.950011  74.301556     45      250   \n",
            "21       BKD-2/22    BKD-2  23.950011  74.301556     45      250   \n",
            "34       BKD-2/35    BKD-2  23.950011  74.301556     45      250   \n",
            "35       BKD-2/36    BKD-2  23.950011  74.301556     45      250   \n",
            "...           ...      ...        ...        ...    ...      ...   \n",
            "2180  RJMK-14/134  RJMK-14  23.965670  74.299470     45       83   \n",
            "2185  RJMK-14/139  RJMK-14  23.965670  74.299470     45       83   \n",
            "2186  RJMK-14/140  RJMK-14  23.965670  74.299470     45       83   \n",
            "2198    RJMK-15/5  RJMK-15  23.963360  74.297810     45       30   \n",
            "2206   RJMK-15/13  RJMK-15  23.963360  74.297810     45       30   \n",
            "\n",
            "      SampleLength  Cu_ppm  Co_ppm  Ni_ppm  Pb_ppm  Zn_ppm  Au_ppb  Ag PPM  \\\n",
            "15             0.4     970      70      40      15      20    0.03     NaN   \n",
            "20             0.3    1300      20      70      15      30    2.03     NaN   \n",
            "21             0.3    6300      60     110      15      40    0.75     NaN   \n",
            "34             0.3    7500      50      30      40      80    0.16     NaN   \n",
            "35             0.3    7700      30      20      40      50    0.78     NaN   \n",
            "...            ...     ...     ...     ...     ...     ...     ...     ...   \n",
            "2180           0.3       0     200     260      25      20    0.05     NaN   \n",
            "2185           0.3    2900      30      50      25      80    0.18     NaN   \n",
            "2186           0.3    5100     740     360      25      10    5.86     NaN   \n",
            "2198           0.3      30     110      50      70      30    0.05     NaN   \n",
            "2206           0.3     210      60      80      70     100    0.05     NaN   \n",
            "\n",
            "                              Lithology MajorRockType              FileName  \\\n",
            "15                        Mylonite zone      Mylonite     G3_12-13_aU_46I05   \n",
            "20                        Mylonite zone      Mylonite     G3_12-13_aU_46I05   \n",
            "21                        Mylonite zone      Mylonite     G3_12-13_aU_46I05   \n",
            "34                      Dolomite marble        Marble     G3_12-13_aU_46I05   \n",
            "35                      Dolomite marble        Marble     G3_12-13_aU_46I05   \n",
            "...                                 ...           ...                   ...   \n",
            "2180  Amphibolitized dolomitic marbles.        Marble  G3_15-17_Au-BM_46I05   \n",
            "2185  Amphibolitized dolomitic marbles.        Marble  G3_15-17_Au-BM_46I05   \n",
            "2186  Amphibolitized dolomitic marbles.        Marble  G3_15-17_Au-BM_46I05   \n",
            "2198       Chloritized dolomitic marble        Marble  G3_15-17_Au-BM_46I05   \n",
            "2206       Chloritized dolomitic marble        Marble  G3_15-17_Au-BM_46I05   \n",
            "\n",
            "      Unnamed: 17  \n",
            "15            NaN  \n",
            "20            NaN  \n",
            "21            NaN  \n",
            "34            NaN  \n",
            "35            NaN  \n",
            "...           ...  \n",
            "2180          5.0  \n",
            "2185          5.0  \n",
            "2186          5.0  \n",
            "2198          5.0  \n",
            "2206          5.0  \n",
            "\n",
            "[160 rows x 18 columns]\n"
          ]
        }
      ]
    },
    {
      "cell_type": "code",
      "source": [
        "g4_outliers = return_anomalies(g4,metals_g4)\n",
        "g4_outliers.to_csv(\"/content/drive/MyDrive/DINESH_ALL_FINAL_CLEANED_DATA_28SEP2024/Rayan_G4_outliers_1610.csv\", index=False)"
      ],
      "metadata": {
        "colab": {
          "base_uri": "https://localhost:8080/"
        },
        "id": "4MgWpw5u9nFE",
        "outputId": "1f6c27ea-c94e-489d-ef82-00b9d23c1590"
      },
      "execution_count": null,
      "outputs": [
        {
          "output_type": "stream",
          "name": "stdout",
          "text": [
            "Rows flagged as outliers by majority voting:\n",
            "      Z-Score   IQR  Isolation Forest  votes\n",
            "39       True  True              True      3\n",
            "42      False  True              True      2\n",
            "46      False  True              True      2\n",
            "47      False  True              True      2\n",
            "56      False  True              True      2\n",
            "...       ...   ...               ...    ...\n",
            "1552     True  True              True      3\n",
            "1557     True  True              True      3\n",
            "1559    False  True              True      2\n",
            "1560     True  True              True      3\n",
            "1574    False  True              True      2\n",
            "\n",
            "[153 rows x 4 columns]\n",
            "Shape of original dataframe: (1577, 18)\n",
            "Number of outlier dataframe: 153\n",
            "Outlier Data:\n",
            "       SampleNo   Borehole   Latitude  Longitude  Angle  Azimuth  \\\n",
            "39      KNB-40     KNB-40   23.873611  74.383611      0        0   \n",
            "42      KNB-43     KNB-43   23.835556  74.431944      0        0   \n",
            "46      KNB-47     KNB-47   23.851944  74.439167      0        0   \n",
            "47      KNB-48     KNB-48   23.853333  74.429167      0        0   \n",
            "56      KNB-57     KNB-57   23.847778  74.424444      0        0   \n",
            "...         ...        ...        ...        ...    ...      ...   \n",
            "1552  PK BRS 20  PK BRS 20  23.783000  74.479400      0        0   \n",
            "1557   UN BRS 2   UN BRS 2  23.755633  74.495413      0        0   \n",
            "1559   UN BRS 4   UN BRS 4  23.756184  74.495057      0        0   \n",
            "1560   UN BRS 5   UN BRS 5  23.756039  74.494871      0        0   \n",
            "1574   UN/CH4/1   UN/CH4/1  23.753000  74.498000      0        0   \n",
            "\n",
            "      SampleLength  Cu_ppm  Co_ppm  Ni_ppm  Pb_ppm  Zn_ppm  Au_ppm  Ag_ppm  \\\n",
            "39               1    9900      15      20      25      30    0.05     NaN   \n",
            "42               1    1900     230     300      60      15    0.05     NaN   \n",
            "46               1     700      80     410     120     600    0.05     NaN   \n",
            "47               1     250      60     120     140     180    0.05     NaN   \n",
            "56               1     270      70     160     200     500    0.05     NaN   \n",
            "...            ...     ...     ...     ...     ...     ...     ...     ...   \n",
            "1552             1      25     260     280      25    1300    0.05     NaN   \n",
            "1557             1     180     175     465      25     120    0.05     NaN   \n",
            "1559             1     120     215     355      25      30    0.05     NaN   \n",
            "1560             1     220     225     485      25      60    0.05     NaN   \n",
            "1574             1     567     257     259      25      49    0.05     NaN   \n",
            "\n",
            "                                              Lithology     MajorRockType  \\\n",
            "39        Garnet hornblende epidote quartz rock (GHEQ)               GHEQ   \n",
            "42       Ferruginized/gossanized grey dolomitic marble   Dolomitic Marble   \n",
            "46    Gossanized grey marble with phyllitic intercal...            Marble   \n",
            "47                                         Grey schist             Schist   \n",
            "56                          Ferruginized banded marble             Marble   \n",
            "...                                                 ...               ...   \n",
            "1552                      Ferruginised zone in phyllite          Phyllite   \n",
            "1557                                   Ferruginous rock       Ferruginous   \n",
            "1559                                   Ferruginous rock       Ferruginous   \n",
            "1560                                   Ferruginous rock       Ferruginous   \n",
            "1574  Ferruginised zone and part of Jasperoid at the...         Jasperoid   \n",
            "\n",
            "                     FileName  outlier_flag  \n",
            "39          13-14_Au-Cu_46I05             1  \n",
            "42          13-14_Au-Cu_46I05             1  \n",
            "46          13-14_Au-Cu_46I05             1  \n",
            "47          13-14_Au-Cu_46I05             1  \n",
            "56          13-14_Au-Cu_46I05             1  \n",
            "...                       ...           ...  \n",
            "1552  G3_19-20_Au-BM_46I05-28             1  \n",
            "1557  G3_19-20_Au-BM_46I05-33             1  \n",
            "1559  G3_19-20_Au-BM_46I05-35             1  \n",
            "1560  G3_19-20_Au-BM_46I05-36             1  \n",
            "1574  G3_19-20_Au-BM_46I05-50             1  \n",
            "\n",
            "[153 rows x 18 columns]\n"
          ]
        }
      ]
    },
    {
      "cell_type": "code",
      "source": [
        "g2_outliers = return_anomalies(g2,metals_g2)\n",
        "g2_outliers.to_csv(\"/content/drive/MyDrive/DINESH_ALL_FINAL_CLEANED_DATA_28SEP2024/Rayan_G2_outliers_1610.csv\", index=False)"
      ],
      "metadata": {
        "colab": {
          "base_uri": "https://localhost:8080/"
        },
        "id": "U01xZCSt-zK4",
        "outputId": "4e48b765-afe8-4364-e983-8d5881c87ffe"
      },
      "execution_count": null,
      "outputs": [
        {
          "output_type": "stream",
          "name": "stdout",
          "text": [
            "Rows flagged as outliers by majority voting:\n",
            "      Z-Score   IQR  Isolation Forest  votes\n",
            "15      False  True              True      2\n",
            "79      False  True              True      2\n",
            "87      False  True              True      2\n",
            "109     False  True              True      2\n",
            "125     False  True              True      2\n",
            "...       ...   ...               ...    ...\n",
            "5222    False  True              True      2\n",
            "5223    False  True              True      2\n",
            "5229    False  True              True      2\n",
            "5282    False  True              True      2\n",
            "5341    False  True              True      2\n",
            "\n",
            "[634 rows x 4 columns]\n",
            "Shape of original dataframe: (5409, 18)\n",
            "Number of outlier dataframe: 634\n",
            "Outlier Data:\n",
            "         SampleNo BoreHole   Latitude  Longitude  Angle  Azimuth  \\\n",
            "15       RLD-1/16    RLD-1  24.777581  74.049853     45      205   \n",
            "79       RLD-1/80    RLD-1  24.777581  74.049853     45      205   \n",
            "87       RLD-1/88    RLD-1  24.777581  74.049853     45      205   \n",
            "109     RLD-1/110    RLD-1  24.777581  74.049853     45      205   \n",
            "125     RLD-1/126    RLD-1  24.777581  74.049853     45      205   \n",
            "...           ...      ...        ...        ...    ...      ...   \n",
            "5222  RJKMB-30/12      NaN  25.466517  74.662033     45      319   \n",
            "5223  RJKMB-30/13      NaN  25.466517  74.662033     45      319   \n",
            "5229  RJKMB-30/19      NaN  25.466517  74.662033     45      319   \n",
            "5282  RJKMB-30/72      NaN  25.466517  74.662033     45      319   \n",
            "5341  RJKMB-29/34      NaN  25.467103  74.660697     45      310   \n",
            "\n",
            "      SampleLength  Cu_ppm  Co_ppm  Ni_ppm  Pb_ppm  Zn_ppm  Au_ppb  Ag_ppm  \\\n",
            "15            0.50   28700       0       0       0       0     NaN     NaN   \n",
            "79            0.50   10500       0       0       0       0     NaN     NaN   \n",
            "87            0.50   27500       0       0       0       0     NaN     NaN   \n",
            "109           0.50   10800       0       0       0       0     NaN     NaN   \n",
            "125           0.50   11800       0       0       0       0     NaN     NaN   \n",
            "...            ...     ...     ...     ...     ...     ...     ...     ...   \n",
            "5222          1.00     275      35     405      55      95     NaN     NaN   \n",
            "5223          1.00     210      35     375      50      90     NaN     NaN   \n",
            "5229          1.05    1300     160     130      30      40     NaN     NaN   \n",
            "5282          1.00    8400       0     130      40      30     NaN     NaN   \n",
            "5341          1.00    9300       0      30       0      50     NaN     NaN   \n",
            "\n",
            "     Lithology      MajorRockType                         Filetype  \\\n",
            "15         NaN                NaN    TRIP_Saswat_G2_19-21_BM_45L01   \n",
            "79         NaN                NaN    TRIP_Saswat_G2_19-21_BM_45L01   \n",
            "87         NaN                NaN    TRIP_Saswat_G2_19-21_BM_45L01   \n",
            "109        NaN                NaN    TRIP_Saswat_G2_19-21_BM_45L01   \n",
            "125        NaN                NaN    TRIP_Saswat_G2_19-21_BM_45L01   \n",
            "...        ...                ...                              ...   \n",
            "5222      QBSG  Quartz and Schist  Drill_hole_data_G2_18-19_Cu_45K   \n",
            "5223      QBSG  Quartz and Schist  Drill_hole_data_G2_18-19_Cu_45K   \n",
            "5229      QBSG  Quartz and Schist  Drill_hole_data_G2_18-19_Cu_45K   \n",
            "5282        CS      Calc-silicate  Drill_hole_data_G2_18-19_Cu_45K   \n",
            "5341       AMB        Amphibolite  Drill_hole_data_G2_18-19_Cu_45K   \n",
            "\n",
            "      outlier_flag  \n",
            "15               1  \n",
            "79               0  \n",
            "87               1  \n",
            "109              0  \n",
            "125              1  \n",
            "...            ...  \n",
            "5222             1  \n",
            "5223             1  \n",
            "5229             1  \n",
            "5282             1  \n",
            "5341             0  \n",
            "\n",
            "[634 rows x 18 columns]\n"
          ]
        }
      ]
    },
    {
      "cell_type": "code",
      "source": [
        "g1 = dict_keys['G1']\n",
        "g1.head()"
      ],
      "metadata": {
        "colab": {
          "base_uri": "https://localhost:8080/",
          "height": 206
        },
        "id": "LNQ1IqYVk_nC",
        "outputId": "3f8754a6-6221-477d-8cf3-94161a981d85"
      },
      "execution_count": null,
      "outputs": [
        {
          "output_type": "execute_result",
          "data": {
            "text/plain": [
              "  SampleNo Borehole   Latitude  Longitude  SampleLength Cu_ppm Co_ppm Ni_ppm  \\\n",
              "0   KE-1/1     KE-1  24.089722  74.226944          0.50    100     25     75   \n",
              "1   KE-1/2     KE-1  24.089722  74.226944          0.50    200     75    100   \n",
              "2   KE-1/3     KE-1  24.089722  74.226944          0.32     75     25     50   \n",
              "3   KE-1/4     KE-1  24.089722  74.226944          0.18    150     25    100   \n",
              "4   KE-1/5     KE-1  24.089722  74.226944          0.50    125     25     75   \n",
              "\n",
              "  Pb_ppm Zn_ppm Au_ppb Ag_ppm Lithology MajorRockType         FileType  \n",
              "0     25   12.5     25    2.5       NaN          CBPH  Borehole sample  \n",
              "1     25   12.5     25    2.5       NaN          CBPH  Borehole sample  \n",
              "2     25   12.5     25    2.5       NaN          CBPH  Borehole sample  \n",
              "3     25   12.5     25    2.5       NaN          CBPH  Borehole sample  \n",
              "4     25   12.5     25    2.5       NaN          SPLT  Borehole sample  "
            ],
            "text/html": [
              "\n",
              "  <div id=\"df-44384598-a27b-4f82-882a-c3aa3432008d\" class=\"colab-df-container\">\n",
              "    <div>\n",
              "<style scoped>\n",
              "    .dataframe tbody tr th:only-of-type {\n",
              "        vertical-align: middle;\n",
              "    }\n",
              "\n",
              "    .dataframe tbody tr th {\n",
              "        vertical-align: top;\n",
              "    }\n",
              "\n",
              "    .dataframe thead th {\n",
              "        text-align: right;\n",
              "    }\n",
              "</style>\n",
              "<table border=\"1\" class=\"dataframe\">\n",
              "  <thead>\n",
              "    <tr style=\"text-align: right;\">\n",
              "      <th></th>\n",
              "      <th>SampleNo</th>\n",
              "      <th>Borehole</th>\n",
              "      <th>Latitude</th>\n",
              "      <th>Longitude</th>\n",
              "      <th>SampleLength</th>\n",
              "      <th>Cu_ppm</th>\n",
              "      <th>Co_ppm</th>\n",
              "      <th>Ni_ppm</th>\n",
              "      <th>Pb_ppm</th>\n",
              "      <th>Zn_ppm</th>\n",
              "      <th>Au_ppb</th>\n",
              "      <th>Ag_ppm</th>\n",
              "      <th>Lithology</th>\n",
              "      <th>MajorRockType</th>\n",
              "      <th>FileType</th>\n",
              "    </tr>\n",
              "  </thead>\n",
              "  <tbody>\n",
              "    <tr>\n",
              "      <th>0</th>\n",
              "      <td>KE-1/1</td>\n",
              "      <td>KE-1</td>\n",
              "      <td>24.089722</td>\n",
              "      <td>74.226944</td>\n",
              "      <td>0.50</td>\n",
              "      <td>100</td>\n",
              "      <td>25</td>\n",
              "      <td>75</td>\n",
              "      <td>25</td>\n",
              "      <td>12.5</td>\n",
              "      <td>25</td>\n",
              "      <td>2.5</td>\n",
              "      <td>NaN</td>\n",
              "      <td>CBPH</td>\n",
              "      <td>Borehole sample</td>\n",
              "    </tr>\n",
              "    <tr>\n",
              "      <th>1</th>\n",
              "      <td>KE-1/2</td>\n",
              "      <td>KE-1</td>\n",
              "      <td>24.089722</td>\n",
              "      <td>74.226944</td>\n",
              "      <td>0.50</td>\n",
              "      <td>200</td>\n",
              "      <td>75</td>\n",
              "      <td>100</td>\n",
              "      <td>25</td>\n",
              "      <td>12.5</td>\n",
              "      <td>25</td>\n",
              "      <td>2.5</td>\n",
              "      <td>NaN</td>\n",
              "      <td>CBPH</td>\n",
              "      <td>Borehole sample</td>\n",
              "    </tr>\n",
              "    <tr>\n",
              "      <th>2</th>\n",
              "      <td>KE-1/3</td>\n",
              "      <td>KE-1</td>\n",
              "      <td>24.089722</td>\n",
              "      <td>74.226944</td>\n",
              "      <td>0.32</td>\n",
              "      <td>75</td>\n",
              "      <td>25</td>\n",
              "      <td>50</td>\n",
              "      <td>25</td>\n",
              "      <td>12.5</td>\n",
              "      <td>25</td>\n",
              "      <td>2.5</td>\n",
              "      <td>NaN</td>\n",
              "      <td>CBPH</td>\n",
              "      <td>Borehole sample</td>\n",
              "    </tr>\n",
              "    <tr>\n",
              "      <th>3</th>\n",
              "      <td>KE-1/4</td>\n",
              "      <td>KE-1</td>\n",
              "      <td>24.089722</td>\n",
              "      <td>74.226944</td>\n",
              "      <td>0.18</td>\n",
              "      <td>150</td>\n",
              "      <td>25</td>\n",
              "      <td>100</td>\n",
              "      <td>25</td>\n",
              "      <td>12.5</td>\n",
              "      <td>25</td>\n",
              "      <td>2.5</td>\n",
              "      <td>NaN</td>\n",
              "      <td>CBPH</td>\n",
              "      <td>Borehole sample</td>\n",
              "    </tr>\n",
              "    <tr>\n",
              "      <th>4</th>\n",
              "      <td>KE-1/5</td>\n",
              "      <td>KE-1</td>\n",
              "      <td>24.089722</td>\n",
              "      <td>74.226944</td>\n",
              "      <td>0.50</td>\n",
              "      <td>125</td>\n",
              "      <td>25</td>\n",
              "      <td>75</td>\n",
              "      <td>25</td>\n",
              "      <td>12.5</td>\n",
              "      <td>25</td>\n",
              "      <td>2.5</td>\n",
              "      <td>NaN</td>\n",
              "      <td>SPLT</td>\n",
              "      <td>Borehole sample</td>\n",
              "    </tr>\n",
              "  </tbody>\n",
              "</table>\n",
              "</div>\n",
              "    <div class=\"colab-df-buttons\">\n",
              "\n",
              "  <div class=\"colab-df-container\">\n",
              "    <button class=\"colab-df-convert\" onclick=\"convertToInteractive('df-44384598-a27b-4f82-882a-c3aa3432008d')\"\n",
              "            title=\"Convert this dataframe to an interactive table.\"\n",
              "            style=\"display:none;\">\n",
              "\n",
              "  <svg xmlns=\"http://www.w3.org/2000/svg\" height=\"24px\" viewBox=\"0 -960 960 960\">\n",
              "    <path d=\"M120-120v-720h720v720H120Zm60-500h600v-160H180v160Zm220 220h160v-160H400v160Zm0 220h160v-160H400v160ZM180-400h160v-160H180v160Zm440 0h160v-160H620v160ZM180-180h160v-160H180v160Zm440 0h160v-160H620v160Z\"/>\n",
              "  </svg>\n",
              "    </button>\n",
              "\n",
              "  <style>\n",
              "    .colab-df-container {\n",
              "      display:flex;\n",
              "      gap: 12px;\n",
              "    }\n",
              "\n",
              "    .colab-df-convert {\n",
              "      background-color: #E8F0FE;\n",
              "      border: none;\n",
              "      border-radius: 50%;\n",
              "      cursor: pointer;\n",
              "      display: none;\n",
              "      fill: #1967D2;\n",
              "      height: 32px;\n",
              "      padding: 0 0 0 0;\n",
              "      width: 32px;\n",
              "    }\n",
              "\n",
              "    .colab-df-convert:hover {\n",
              "      background-color: #E2EBFA;\n",
              "      box-shadow: 0px 1px 2px rgba(60, 64, 67, 0.3), 0px 1px 3px 1px rgba(60, 64, 67, 0.15);\n",
              "      fill: #174EA6;\n",
              "    }\n",
              "\n",
              "    .colab-df-buttons div {\n",
              "      margin-bottom: 4px;\n",
              "    }\n",
              "\n",
              "    [theme=dark] .colab-df-convert {\n",
              "      background-color: #3B4455;\n",
              "      fill: #D2E3FC;\n",
              "    }\n",
              "\n",
              "    [theme=dark] .colab-df-convert:hover {\n",
              "      background-color: #434B5C;\n",
              "      box-shadow: 0px 1px 3px 1px rgba(0, 0, 0, 0.15);\n",
              "      filter: drop-shadow(0px 1px 2px rgba(0, 0, 0, 0.3));\n",
              "      fill: #FFFFFF;\n",
              "    }\n",
              "  </style>\n",
              "\n",
              "    <script>\n",
              "      const buttonEl =\n",
              "        document.querySelector('#df-44384598-a27b-4f82-882a-c3aa3432008d button.colab-df-convert');\n",
              "      buttonEl.style.display =\n",
              "        google.colab.kernel.accessAllowed ? 'block' : 'none';\n",
              "\n",
              "      async function convertToInteractive(key) {\n",
              "        const element = document.querySelector('#df-44384598-a27b-4f82-882a-c3aa3432008d');\n",
              "        const dataTable =\n",
              "          await google.colab.kernel.invokeFunction('convertToInteractive',\n",
              "                                                    [key], {});\n",
              "        if (!dataTable) return;\n",
              "\n",
              "        const docLinkHtml = 'Like what you see? Visit the ' +\n",
              "          '<a target=\"_blank\" href=https://colab.research.google.com/notebooks/data_table.ipynb>data table notebook</a>'\n",
              "          + ' to learn more about interactive tables.';\n",
              "        element.innerHTML = '';\n",
              "        dataTable['output_type'] = 'display_data';\n",
              "        await google.colab.output.renderOutput(dataTable, element);\n",
              "        const docLink = document.createElement('div');\n",
              "        docLink.innerHTML = docLinkHtml;\n",
              "        element.appendChild(docLink);\n",
              "      }\n",
              "    </script>\n",
              "  </div>\n",
              "\n",
              "\n",
              "<div id=\"df-db26104a-dc88-4d18-b8d9-065ab9f3aacd\">\n",
              "  <button class=\"colab-df-quickchart\" onclick=\"quickchart('df-db26104a-dc88-4d18-b8d9-065ab9f3aacd')\"\n",
              "            title=\"Suggest charts\"\n",
              "            style=\"display:none;\">\n",
              "\n",
              "<svg xmlns=\"http://www.w3.org/2000/svg\" height=\"24px\"viewBox=\"0 0 24 24\"\n",
              "     width=\"24px\">\n",
              "    <g>\n",
              "        <path d=\"M19 3H5c-1.1 0-2 .9-2 2v14c0 1.1.9 2 2 2h14c1.1 0 2-.9 2-2V5c0-1.1-.9-2-2-2zM9 17H7v-7h2v7zm4 0h-2V7h2v10zm4 0h-2v-4h2v4z\"/>\n",
              "    </g>\n",
              "</svg>\n",
              "  </button>\n",
              "\n",
              "<style>\n",
              "  .colab-df-quickchart {\n",
              "      --bg-color: #E8F0FE;\n",
              "      --fill-color: #1967D2;\n",
              "      --hover-bg-color: #E2EBFA;\n",
              "      --hover-fill-color: #174EA6;\n",
              "      --disabled-fill-color: #AAA;\n",
              "      --disabled-bg-color: #DDD;\n",
              "  }\n",
              "\n",
              "  [theme=dark] .colab-df-quickchart {\n",
              "      --bg-color: #3B4455;\n",
              "      --fill-color: #D2E3FC;\n",
              "      --hover-bg-color: #434B5C;\n",
              "      --hover-fill-color: #FFFFFF;\n",
              "      --disabled-bg-color: #3B4455;\n",
              "      --disabled-fill-color: #666;\n",
              "  }\n",
              "\n",
              "  .colab-df-quickchart {\n",
              "    background-color: var(--bg-color);\n",
              "    border: none;\n",
              "    border-radius: 50%;\n",
              "    cursor: pointer;\n",
              "    display: none;\n",
              "    fill: var(--fill-color);\n",
              "    height: 32px;\n",
              "    padding: 0;\n",
              "    width: 32px;\n",
              "  }\n",
              "\n",
              "  .colab-df-quickchart:hover {\n",
              "    background-color: var(--hover-bg-color);\n",
              "    box-shadow: 0 1px 2px rgba(60, 64, 67, 0.3), 0 1px 3px 1px rgba(60, 64, 67, 0.15);\n",
              "    fill: var(--button-hover-fill-color);\n",
              "  }\n",
              "\n",
              "  .colab-df-quickchart-complete:disabled,\n",
              "  .colab-df-quickchart-complete:disabled:hover {\n",
              "    background-color: var(--disabled-bg-color);\n",
              "    fill: var(--disabled-fill-color);\n",
              "    box-shadow: none;\n",
              "  }\n",
              "\n",
              "  .colab-df-spinner {\n",
              "    border: 2px solid var(--fill-color);\n",
              "    border-color: transparent;\n",
              "    border-bottom-color: var(--fill-color);\n",
              "    animation:\n",
              "      spin 1s steps(1) infinite;\n",
              "  }\n",
              "\n",
              "  @keyframes spin {\n",
              "    0% {\n",
              "      border-color: transparent;\n",
              "      border-bottom-color: var(--fill-color);\n",
              "      border-left-color: var(--fill-color);\n",
              "    }\n",
              "    20% {\n",
              "      border-color: transparent;\n",
              "      border-left-color: var(--fill-color);\n",
              "      border-top-color: var(--fill-color);\n",
              "    }\n",
              "    30% {\n",
              "      border-color: transparent;\n",
              "      border-left-color: var(--fill-color);\n",
              "      border-top-color: var(--fill-color);\n",
              "      border-right-color: var(--fill-color);\n",
              "    }\n",
              "    40% {\n",
              "      border-color: transparent;\n",
              "      border-right-color: var(--fill-color);\n",
              "      border-top-color: var(--fill-color);\n",
              "    }\n",
              "    60% {\n",
              "      border-color: transparent;\n",
              "      border-right-color: var(--fill-color);\n",
              "    }\n",
              "    80% {\n",
              "      border-color: transparent;\n",
              "      border-right-color: var(--fill-color);\n",
              "      border-bottom-color: var(--fill-color);\n",
              "    }\n",
              "    90% {\n",
              "      border-color: transparent;\n",
              "      border-bottom-color: var(--fill-color);\n",
              "    }\n",
              "  }\n",
              "</style>\n",
              "\n",
              "  <script>\n",
              "    async function quickchart(key) {\n",
              "      const quickchartButtonEl =\n",
              "        document.querySelector('#' + key + ' button');\n",
              "      quickchartButtonEl.disabled = true;  // To prevent multiple clicks.\n",
              "      quickchartButtonEl.classList.add('colab-df-spinner');\n",
              "      try {\n",
              "        const charts = await google.colab.kernel.invokeFunction(\n",
              "            'suggestCharts', [key], {});\n",
              "      } catch (error) {\n",
              "        console.error('Error during call to suggestCharts:', error);\n",
              "      }\n",
              "      quickchartButtonEl.classList.remove('colab-df-spinner');\n",
              "      quickchartButtonEl.classList.add('colab-df-quickchart-complete');\n",
              "    }\n",
              "    (() => {\n",
              "      let quickchartButtonEl =\n",
              "        document.querySelector('#df-db26104a-dc88-4d18-b8d9-065ab9f3aacd button');\n",
              "      quickchartButtonEl.style.display =\n",
              "        google.colab.kernel.accessAllowed ? 'block' : 'none';\n",
              "    })();\n",
              "  </script>\n",
              "</div>\n",
              "\n",
              "    </div>\n",
              "  </div>\n"
            ],
            "application/vnd.google.colaboratory.intrinsic+json": {
              "type": "dataframe",
              "variable_name": "g1",
              "summary": "{\n  \"name\": \"g1\",\n  \"rows\": 3744,\n  \"fields\": [\n    {\n      \"column\": \"SampleNo\",\n      \"properties\": {\n        \"dtype\": \"string\",\n        \"num_unique_values\": 3744,\n        \"samples\": [\n          \"KG-7_121\",\n          \"CS/RJAM-2/55\",\n          \"KE-1/352\"\n        ],\n        \"semantic_type\": \"\",\n        \"description\": \"\"\n      }\n    },\n    {\n      \"column\": \"Borehole\",\n      \"properties\": {\n        \"dtype\": \"category\",\n        \"num_unique_values\": 26,\n        \"samples\": [\n          \"TME-3\",\n          \"KG-3\",\n          \"KE-1\"\n        ],\n        \"semantic_type\": \"\",\n        \"description\": \"\"\n      }\n    },\n    {\n      \"column\": \"Latitude\",\n      \"properties\": {\n        \"dtype\": \"category\",\n        \"num_unique_values\": 23,\n        \"samples\": [\n          23.836944,\n          23.84583333333333,\n          24.0897222\n        ],\n        \"semantic_type\": \"\",\n        \"description\": \"\"\n      }\n    },\n    {\n      \"column\": \"Longitude\",\n      \"properties\": {\n        \"dtype\": \"date\",\n        \"min\": \"1970-01-01 00:00:00.000000074\",\n        \"max\": \"1974-01-01 00:00:00\",\n        \"num_unique_values\": 18,\n        \"samples\": [\n          74.2269444,\n          74.31740277777777,\n          74.371944\n        ],\n        \"semantic_type\": \"\",\n        \"description\": \"\"\n      }\n    },\n    {\n      \"column\": \"SampleLength\",\n      \"properties\": {\n        \"dtype\": \"number\",\n        \"std\": 0.1651493893461074,\n        \"min\": 0.0,\n        \"max\": 1.35,\n        \"num_unique_values\": 73,\n        \"samples\": [\n          0.1,\n          0.88,\n          0.29\n        ],\n        \"semantic_type\": \"\",\n        \"description\": \"\"\n      }\n    },\n    {\n      \"column\": \"Cu_ppm\",\n      \"properties\": {\n        \"dtype\": \"category\",\n        \"num_unique_values\": 503,\n        \"samples\": [\n          480,\n          83,\n          537\n        ],\n        \"semantic_type\": \"\",\n        \"description\": \"\"\n      }\n    },\n    {\n      \"column\": \"Co_ppm\",\n      \"properties\": {\n        \"dtype\": \"category\",\n        \"num_unique_values\": 185,\n        \"samples\": [\n          97,\n          325,\n          116\n        ],\n        \"semantic_type\": \"\",\n        \"description\": \"\"\n      }\n    },\n    {\n      \"column\": \"Ni_ppm\",\n      \"properties\": {\n        \"dtype\": \"category\",\n        \"num_unique_values\": 207,\n        \"samples\": [\n          194,\n          32,\n          68\n        ],\n        \"semantic_type\": \"\",\n        \"description\": \"\"\n      }\n    },\n    {\n      \"column\": \"Pb_ppm\",\n      \"properties\": {\n        \"dtype\": \"category\",\n        \"num_unique_values\": 87,\n        \"samples\": [\n          20,\n          25,\n          30\n        ],\n        \"semantic_type\": \"\",\n        \"description\": \"\"\n      }\n    },\n    {\n      \"column\": \"Zn_ppm\",\n      \"properties\": {\n        \"dtype\": \"category\",\n        \"num_unique_values\": 227,\n        \"samples\": [\n          15,\n          295,\n          24\n        ],\n        \"semantic_type\": \"\",\n        \"description\": \"\"\n      }\n    },\n    {\n      \"column\": \"Au_ppb\",\n      \"properties\": {\n        \"dtype\": \"category\",\n        \"num_unique_values\": 330,\n        \"samples\": [\n          300,\n          0.85,\n          2.76\n        ],\n        \"semantic_type\": \"\",\n        \"description\": \"\"\n      }\n    },\n    {\n      \"column\": \"Ag_ppm\",\n      \"properties\": {\n        \"dtype\": \"category\",\n        \"num_unique_values\": 4,\n        \"samples\": [\n          5,\n          \"n.a.\",\n          2.5\n        ],\n        \"semantic_type\": \"\",\n        \"description\": \"\"\n      }\n    },\n    {\n      \"column\": \"Lithology\",\n      \"properties\": {\n        \"dtype\": \"category\",\n        \"num_unique_values\": 3,\n        \"samples\": [\n          \"gossan/ferruginised capping, ancient workings and malachite staining\",\n          \"gossan/ferruginised capping,  malachite staining\",\n          \"fine specks, grains, flakes, films, dust and dendrites of variable shape \"\n        ],\n        \"semantic_type\": \"\",\n        \"description\": \"\"\n      }\n    },\n    {\n      \"column\": \"MajorRockType\",\n      \"properties\": {\n        \"dtype\": \"category\",\n        \"num_unique_values\": 51,\n        \"samples\": [\n          \"Carbonated and Amphibolised Keratophyre\",\n          \"Ampbhibole marble\",\n          \"Ampbhibolised Keratophyre\"\n        ],\n        \"semantic_type\": \"\",\n        \"description\": \"\"\n      }\n    },\n    {\n      \"column\": \"FileType\",\n      \"properties\": {\n        \"dtype\": \"category\",\n        \"num_unique_values\": 2,\n        \"samples\": [\n          \"Borehole sample, Cd values are in ppm\",\n          \"Borehole sample\"\n        ],\n        \"semantic_type\": \"\",\n        \"description\": \"\"\n      }\n    }\n  ]\n}"
            }
          },
          "metadata": {},
          "execution_count": 28
        }
      ]
    },
    {
      "cell_type": "code",
      "source": [
        "g1.shape"
      ],
      "metadata": {
        "colab": {
          "base_uri": "https://localhost:8080/"
        },
        "id": "sr2kcF508AIz",
        "outputId": "2807bbfc-84eb-4815-9d6e-d5b4d7028880"
      },
      "execution_count": null,
      "outputs": [
        {
          "output_type": "execute_result",
          "data": {
            "text/plain": [
              "(3744, 15)"
            ]
          },
          "metadata": {},
          "execution_count": 29
        }
      ]
    },
    {
      "cell_type": "code",
      "source": [
        "g1.columns"
      ],
      "metadata": {
        "colab": {
          "base_uri": "https://localhost:8080/"
        },
        "id": "cPvJLef68Deh",
        "outputId": "dabe4657-d7ed-44db-8daf-afd82f155622"
      },
      "execution_count": null,
      "outputs": [
        {
          "output_type": "execute_result",
          "data": {
            "text/plain": [
              "Index(['SampleNo', 'Borehole', 'Latitude', 'Longitude', 'SampleLength',\n",
              "       'Cu_ppm', 'Co_ppm', 'Ni_ppm', 'Pb_ppm', 'Zn_ppm', 'Au_ppb', 'Ag_ppm',\n",
              "       'Lithology', 'MajorRockType', 'FileType'],\n",
              "      dtype='object')"
            ]
          },
          "metadata": {},
          "execution_count": 30
        }
      ]
    },
    {
      "cell_type": "code",
      "source": [
        "for m in metals:\n",
        "  g1[m] =  pd.to_numeric(g1[m], errors='coerce')\n",
        "  g1[m] = g1[m].fillna(0).astype(int)"
      ],
      "metadata": {
        "id": "eP2emgzirjqN"
      },
      "execution_count": null,
      "outputs": []
    },
    {
      "cell_type": "code",
      "source": [
        "g1_outliers = return_anomalies(g1,metals)\n",
        "g1_outliers.to_csv(\"/content/drive/MyDrive/DINESH_ALL_FINAL_CLEANED_DATA_28SEP2024/Rayan_G1_outliers_1610.csv\", index=False)"
      ],
      "metadata": {
        "colab": {
          "base_uri": "https://localhost:8080/"
        },
        "id": "6nDOcDpWrjtg",
        "outputId": "1bbabf7b-dcbf-49ac-9822-a70a52511ab3"
      },
      "execution_count": null,
      "outputs": [
        {
          "output_type": "stream",
          "name": "stdout",
          "text": [
            "Rows flagged as outliers by majority voting:\n",
            "      Z-Score   IQR  Isolation Forest  votes\n",
            "52       True  True              True      3\n",
            "53       True  True              True      3\n",
            "56       True  True              True      3\n",
            "152      True  True              True      3\n",
            "160      True  True              True      3\n",
            "...       ...   ...               ...    ...\n",
            "3682     True  True              True      3\n",
            "3683     True  True              True      3\n",
            "3684     True  True              True      3\n",
            "3728     True  True              True      3\n",
            "3737    False  True              True      2\n",
            "\n",
            "[292 rows x 4 columns]\n",
            "Shape of original dataframe: (3744, 15)\n",
            "Number of outlier dataframe: 292\n",
            "Outlier Data:\n",
            "      SampleNo Borehole   Latitude  Longitude  SampleLength  Cu_ppm  Co_ppm  \\\n",
            "52     KE-1/53     KE-1  24.089722  74.226944          0.15     125      12   \n",
            "53     KE-1/54     KE-1  24.089722  74.226944          0.20     200      12   \n",
            "56     KE-1/57     KE-1  24.089722  74.226944          0.20     100      25   \n",
            "152   KE-1/153     KE-1  24.089722  74.226944          0.15      12      25   \n",
            "160   KE-1/161     KE-1  24.089722  74.226944          0.50      12      25   \n",
            "...        ...      ...        ...        ...           ...     ...     ...   \n",
            "3682  KG-10_30    KG-10  23.810417  74.374722          0.40   10400       0   \n",
            "3683  KG-10_31    KG-10  23.810417  74.374722          0.35    9900     324   \n",
            "3684  KG-10_32    KG-10  23.810417  74.374722          0.35    5300     605   \n",
            "3728   KG-12_4    KG-12  23.816111     74.375          0.35    1500     246   \n",
            "3737  KG-12_13    KG-12  23.816111     74.375          0.30     791      85   \n",
            "\n",
            "      Ni_ppm  Pb_ppm  Zn_ppm Au_ppb Ag_ppm Lithology MajorRockType  \\\n",
            "52        50     350      12     25    2.5       NaN          DLMB   \n",
            "53        50     225      12     25    2.5       NaN          DLMB   \n",
            "56        50    1300      12     25    2.5       NaN          CNPH   \n",
            "152       25     350      25     25    2.5       NaN          DMQC   \n",
            "160       50     500      25     25    2.5       NaN          DLMB   \n",
            "...      ...     ...     ...    ...    ...       ...           ...   \n",
            "3682      31       0      21    100     <5       NaN           NaN   \n",
            "3683     392       0      33    550     <5       NaN           NaN   \n",
            "3684     762       0      18    440     <5       NaN           NaN   \n",
            "3728     135       0      12    550     <5       NaN           NaN   \n",
            "3737     200       0      12    520     <5       NaN           NaN   \n",
            "\n",
            "             FileType  \n",
            "52    Borehole sample  \n",
            "53    Borehole sample  \n",
            "56    Borehole sample  \n",
            "152   Borehole sample  \n",
            "160   Borehole sample  \n",
            "...               ...  \n",
            "3682              NaN  \n",
            "3683              NaN  \n",
            "3684              NaN  \n",
            "3728              NaN  \n",
            "3737              NaN  \n",
            "\n",
            "[292 rows x 15 columns]\n"
          ]
        }
      ]
    },
    {
      "cell_type": "code",
      "source": [
        "dict_keys.keys()"
      ],
      "metadata": {
        "colab": {
          "base_uri": "https://localhost:8080/"
        },
        "id": "jDE4ItT9r4Mq",
        "outputId": "7608f2df-ca4d-4454-f528-93febdf0a1b2"
      },
      "execution_count": null,
      "outputs": [
        {
          "output_type": "execute_result",
          "data": {
            "text/plain": [
              "dict_keys(['G1', 'G2', 'G3', 'G4', 'Soil Samples', 'SSS'])"
            ]
          },
          "metadata": {},
          "execution_count": 30
        }
      ]
    },
    {
      "cell_type": "code",
      "source": [
        "soil_samples = dict_keys['Soil Samples']\n",
        "soil_samples.head()"
      ],
      "metadata": {
        "colab": {
          "base_uri": "https://localhost:8080/",
          "height": 206
        },
        "id": "tN0kBjBrryZP",
        "outputId": "199e219f-c9bd-46a0-da52-296b1d21e12e"
      },
      "execution_count": null,
      "outputs": [
        {
          "output_type": "execute_result",
          "data": {
            "text/plain": [
              "   S.No.    SoilSampleNo.  Longitude   Latitude  Angle  Azimuth  \\\n",
              "0    NaN              NaN        NaN        NaN    NaN      NaN   \n",
              "1    1.0  45G16/A1/R/2015  73.789806  25.234722    0.0      0.0   \n",
              "2    2.0  45G16/A1/C/2015  73.789806  25.234722    0.0      0.0   \n",
              "3    3.0  45G16/B1/R/2015  73.833111  25.180417    0.0      0.0   \n",
              "4    4.0  45G16/B1/C/2015  73.833111  25.180417    0.0      0.0   \n",
              "\n",
              "   Sample Length     Cu     Co     Ni     Pb     Zn     Au     Ag  Lithology  \\\n",
              "0            NaN  (ppm)  (ppm)  (ppm)  (ppm)  (ppm)  (ppb)  (ppm)        NaN   \n",
              "1            1.0     53     17     39     45     95      1    NaN        NaN   \n",
              "2            1.0     43     17     30     45     93      1    NaN        NaN   \n",
              "3            1.0    136     31     69     11     80      1    NaN        NaN   \n",
              "4            1.0     74     17     60     25     64      1    NaN        NaN   \n",
              "\n",
              "   MajorRockType  FileName  \n",
              "0            NaN       NaN  \n",
              "1            NaN       NaN  \n",
              "2            NaN       NaN  \n",
              "3            NaN       NaN  \n",
              "4            NaN       NaN  "
            ],
            "text/html": [
              "\n",
              "  <div id=\"df-4556392f-3906-4afa-819b-43cd0ecf4d14\" class=\"colab-df-container\">\n",
              "    <div>\n",
              "<style scoped>\n",
              "    .dataframe tbody tr th:only-of-type {\n",
              "        vertical-align: middle;\n",
              "    }\n",
              "\n",
              "    .dataframe tbody tr th {\n",
              "        vertical-align: top;\n",
              "    }\n",
              "\n",
              "    .dataframe thead th {\n",
              "        text-align: right;\n",
              "    }\n",
              "</style>\n",
              "<table border=\"1\" class=\"dataframe\">\n",
              "  <thead>\n",
              "    <tr style=\"text-align: right;\">\n",
              "      <th></th>\n",
              "      <th>S.No.</th>\n",
              "      <th>SoilSampleNo.</th>\n",
              "      <th>Longitude</th>\n",
              "      <th>Latitude</th>\n",
              "      <th>Angle</th>\n",
              "      <th>Azimuth</th>\n",
              "      <th>Sample Length</th>\n",
              "      <th>Cu</th>\n",
              "      <th>Co</th>\n",
              "      <th>Ni</th>\n",
              "      <th>Pb</th>\n",
              "      <th>Zn</th>\n",
              "      <th>Au</th>\n",
              "      <th>Ag</th>\n",
              "      <th>Lithology</th>\n",
              "      <th>MajorRockType</th>\n",
              "      <th>FileName</th>\n",
              "    </tr>\n",
              "  </thead>\n",
              "  <tbody>\n",
              "    <tr>\n",
              "      <th>0</th>\n",
              "      <td>NaN</td>\n",
              "      <td>NaN</td>\n",
              "      <td>NaN</td>\n",
              "      <td>NaN</td>\n",
              "      <td>NaN</td>\n",
              "      <td>NaN</td>\n",
              "      <td>NaN</td>\n",
              "      <td>(ppm)</td>\n",
              "      <td>(ppm)</td>\n",
              "      <td>(ppm)</td>\n",
              "      <td>(ppm)</td>\n",
              "      <td>(ppm)</td>\n",
              "      <td>(ppb)</td>\n",
              "      <td>(ppm)</td>\n",
              "      <td>NaN</td>\n",
              "      <td>NaN</td>\n",
              "      <td>NaN</td>\n",
              "    </tr>\n",
              "    <tr>\n",
              "      <th>1</th>\n",
              "      <td>1.0</td>\n",
              "      <td>45G16/A1/R/2015</td>\n",
              "      <td>73.789806</td>\n",
              "      <td>25.234722</td>\n",
              "      <td>0.0</td>\n",
              "      <td>0.0</td>\n",
              "      <td>1.0</td>\n",
              "      <td>53</td>\n",
              "      <td>17</td>\n",
              "      <td>39</td>\n",
              "      <td>45</td>\n",
              "      <td>95</td>\n",
              "      <td>1</td>\n",
              "      <td>NaN</td>\n",
              "      <td>NaN</td>\n",
              "      <td>NaN</td>\n",
              "      <td>NaN</td>\n",
              "    </tr>\n",
              "    <tr>\n",
              "      <th>2</th>\n",
              "      <td>2.0</td>\n",
              "      <td>45G16/A1/C/2015</td>\n",
              "      <td>73.789806</td>\n",
              "      <td>25.234722</td>\n",
              "      <td>0.0</td>\n",
              "      <td>0.0</td>\n",
              "      <td>1.0</td>\n",
              "      <td>43</td>\n",
              "      <td>17</td>\n",
              "      <td>30</td>\n",
              "      <td>45</td>\n",
              "      <td>93</td>\n",
              "      <td>1</td>\n",
              "      <td>NaN</td>\n",
              "      <td>NaN</td>\n",
              "      <td>NaN</td>\n",
              "      <td>NaN</td>\n",
              "    </tr>\n",
              "    <tr>\n",
              "      <th>3</th>\n",
              "      <td>3.0</td>\n",
              "      <td>45G16/B1/R/2015</td>\n",
              "      <td>73.833111</td>\n",
              "      <td>25.180417</td>\n",
              "      <td>0.0</td>\n",
              "      <td>0.0</td>\n",
              "      <td>1.0</td>\n",
              "      <td>136</td>\n",
              "      <td>31</td>\n",
              "      <td>69</td>\n",
              "      <td>11</td>\n",
              "      <td>80</td>\n",
              "      <td>1</td>\n",
              "      <td>NaN</td>\n",
              "      <td>NaN</td>\n",
              "      <td>NaN</td>\n",
              "      <td>NaN</td>\n",
              "    </tr>\n",
              "    <tr>\n",
              "      <th>4</th>\n",
              "      <td>4.0</td>\n",
              "      <td>45G16/B1/C/2015</td>\n",
              "      <td>73.833111</td>\n",
              "      <td>25.180417</td>\n",
              "      <td>0.0</td>\n",
              "      <td>0.0</td>\n",
              "      <td>1.0</td>\n",
              "      <td>74</td>\n",
              "      <td>17</td>\n",
              "      <td>60</td>\n",
              "      <td>25</td>\n",
              "      <td>64</td>\n",
              "      <td>1</td>\n",
              "      <td>NaN</td>\n",
              "      <td>NaN</td>\n",
              "      <td>NaN</td>\n",
              "      <td>NaN</td>\n",
              "    </tr>\n",
              "  </tbody>\n",
              "</table>\n",
              "</div>\n",
              "    <div class=\"colab-df-buttons\">\n",
              "\n",
              "  <div class=\"colab-df-container\">\n",
              "    <button class=\"colab-df-convert\" onclick=\"convertToInteractive('df-4556392f-3906-4afa-819b-43cd0ecf4d14')\"\n",
              "            title=\"Convert this dataframe to an interactive table.\"\n",
              "            style=\"display:none;\">\n",
              "\n",
              "  <svg xmlns=\"http://www.w3.org/2000/svg\" height=\"24px\" viewBox=\"0 -960 960 960\">\n",
              "    <path d=\"M120-120v-720h720v720H120Zm60-500h600v-160H180v160Zm220 220h160v-160H400v160Zm0 220h160v-160H400v160ZM180-400h160v-160H180v160Zm440 0h160v-160H620v160ZM180-180h160v-160H180v160Zm440 0h160v-160H620v160Z\"/>\n",
              "  </svg>\n",
              "    </button>\n",
              "\n",
              "  <style>\n",
              "    .colab-df-container {\n",
              "      display:flex;\n",
              "      gap: 12px;\n",
              "    }\n",
              "\n",
              "    .colab-df-convert {\n",
              "      background-color: #E8F0FE;\n",
              "      border: none;\n",
              "      border-radius: 50%;\n",
              "      cursor: pointer;\n",
              "      display: none;\n",
              "      fill: #1967D2;\n",
              "      height: 32px;\n",
              "      padding: 0 0 0 0;\n",
              "      width: 32px;\n",
              "    }\n",
              "\n",
              "    .colab-df-convert:hover {\n",
              "      background-color: #E2EBFA;\n",
              "      box-shadow: 0px 1px 2px rgba(60, 64, 67, 0.3), 0px 1px 3px 1px rgba(60, 64, 67, 0.15);\n",
              "      fill: #174EA6;\n",
              "    }\n",
              "\n",
              "    .colab-df-buttons div {\n",
              "      margin-bottom: 4px;\n",
              "    }\n",
              "\n",
              "    [theme=dark] .colab-df-convert {\n",
              "      background-color: #3B4455;\n",
              "      fill: #D2E3FC;\n",
              "    }\n",
              "\n",
              "    [theme=dark] .colab-df-convert:hover {\n",
              "      background-color: #434B5C;\n",
              "      box-shadow: 0px 1px 3px 1px rgba(0, 0, 0, 0.15);\n",
              "      filter: drop-shadow(0px 1px 2px rgba(0, 0, 0, 0.3));\n",
              "      fill: #FFFFFF;\n",
              "    }\n",
              "  </style>\n",
              "\n",
              "    <script>\n",
              "      const buttonEl =\n",
              "        document.querySelector('#df-4556392f-3906-4afa-819b-43cd0ecf4d14 button.colab-df-convert');\n",
              "      buttonEl.style.display =\n",
              "        google.colab.kernel.accessAllowed ? 'block' : 'none';\n",
              "\n",
              "      async function convertToInteractive(key) {\n",
              "        const element = document.querySelector('#df-4556392f-3906-4afa-819b-43cd0ecf4d14');\n",
              "        const dataTable =\n",
              "          await google.colab.kernel.invokeFunction('convertToInteractive',\n",
              "                                                    [key], {});\n",
              "        if (!dataTable) return;\n",
              "\n",
              "        const docLinkHtml = 'Like what you see? Visit the ' +\n",
              "          '<a target=\"_blank\" href=https://colab.research.google.com/notebooks/data_table.ipynb>data table notebook</a>'\n",
              "          + ' to learn more about interactive tables.';\n",
              "        element.innerHTML = '';\n",
              "        dataTable['output_type'] = 'display_data';\n",
              "        await google.colab.output.renderOutput(dataTable, element);\n",
              "        const docLink = document.createElement('div');\n",
              "        docLink.innerHTML = docLinkHtml;\n",
              "        element.appendChild(docLink);\n",
              "      }\n",
              "    </script>\n",
              "  </div>\n",
              "\n",
              "\n",
              "<div id=\"df-20cf1084-2c15-44ce-b694-b62706210459\">\n",
              "  <button class=\"colab-df-quickchart\" onclick=\"quickchart('df-20cf1084-2c15-44ce-b694-b62706210459')\"\n",
              "            title=\"Suggest charts\"\n",
              "            style=\"display:none;\">\n",
              "\n",
              "<svg xmlns=\"http://www.w3.org/2000/svg\" height=\"24px\"viewBox=\"0 0 24 24\"\n",
              "     width=\"24px\">\n",
              "    <g>\n",
              "        <path d=\"M19 3H5c-1.1 0-2 .9-2 2v14c0 1.1.9 2 2 2h14c1.1 0 2-.9 2-2V5c0-1.1-.9-2-2-2zM9 17H7v-7h2v7zm4 0h-2V7h2v10zm4 0h-2v-4h2v4z\"/>\n",
              "    </g>\n",
              "</svg>\n",
              "  </button>\n",
              "\n",
              "<style>\n",
              "  .colab-df-quickchart {\n",
              "      --bg-color: #E8F0FE;\n",
              "      --fill-color: #1967D2;\n",
              "      --hover-bg-color: #E2EBFA;\n",
              "      --hover-fill-color: #174EA6;\n",
              "      --disabled-fill-color: #AAA;\n",
              "      --disabled-bg-color: #DDD;\n",
              "  }\n",
              "\n",
              "  [theme=dark] .colab-df-quickchart {\n",
              "      --bg-color: #3B4455;\n",
              "      --fill-color: #D2E3FC;\n",
              "      --hover-bg-color: #434B5C;\n",
              "      --hover-fill-color: #FFFFFF;\n",
              "      --disabled-bg-color: #3B4455;\n",
              "      --disabled-fill-color: #666;\n",
              "  }\n",
              "\n",
              "  .colab-df-quickchart {\n",
              "    background-color: var(--bg-color);\n",
              "    border: none;\n",
              "    border-radius: 50%;\n",
              "    cursor: pointer;\n",
              "    display: none;\n",
              "    fill: var(--fill-color);\n",
              "    height: 32px;\n",
              "    padding: 0;\n",
              "    width: 32px;\n",
              "  }\n",
              "\n",
              "  .colab-df-quickchart:hover {\n",
              "    background-color: var(--hover-bg-color);\n",
              "    box-shadow: 0 1px 2px rgba(60, 64, 67, 0.3), 0 1px 3px 1px rgba(60, 64, 67, 0.15);\n",
              "    fill: var(--button-hover-fill-color);\n",
              "  }\n",
              "\n",
              "  .colab-df-quickchart-complete:disabled,\n",
              "  .colab-df-quickchart-complete:disabled:hover {\n",
              "    background-color: var(--disabled-bg-color);\n",
              "    fill: var(--disabled-fill-color);\n",
              "    box-shadow: none;\n",
              "  }\n",
              "\n",
              "  .colab-df-spinner {\n",
              "    border: 2px solid var(--fill-color);\n",
              "    border-color: transparent;\n",
              "    border-bottom-color: var(--fill-color);\n",
              "    animation:\n",
              "      spin 1s steps(1) infinite;\n",
              "  }\n",
              "\n",
              "  @keyframes spin {\n",
              "    0% {\n",
              "      border-color: transparent;\n",
              "      border-bottom-color: var(--fill-color);\n",
              "      border-left-color: var(--fill-color);\n",
              "    }\n",
              "    20% {\n",
              "      border-color: transparent;\n",
              "      border-left-color: var(--fill-color);\n",
              "      border-top-color: var(--fill-color);\n",
              "    }\n",
              "    30% {\n",
              "      border-color: transparent;\n",
              "      border-left-color: var(--fill-color);\n",
              "      border-top-color: var(--fill-color);\n",
              "      border-right-color: var(--fill-color);\n",
              "    }\n",
              "    40% {\n",
              "      border-color: transparent;\n",
              "      border-right-color: var(--fill-color);\n",
              "      border-top-color: var(--fill-color);\n",
              "    }\n",
              "    60% {\n",
              "      border-color: transparent;\n",
              "      border-right-color: var(--fill-color);\n",
              "    }\n",
              "    80% {\n",
              "      border-color: transparent;\n",
              "      border-right-color: var(--fill-color);\n",
              "      border-bottom-color: var(--fill-color);\n",
              "    }\n",
              "    90% {\n",
              "      border-color: transparent;\n",
              "      border-bottom-color: var(--fill-color);\n",
              "    }\n",
              "  }\n",
              "</style>\n",
              "\n",
              "  <script>\n",
              "    async function quickchart(key) {\n",
              "      const quickchartButtonEl =\n",
              "        document.querySelector('#' + key + ' button');\n",
              "      quickchartButtonEl.disabled = true;  // To prevent multiple clicks.\n",
              "      quickchartButtonEl.classList.add('colab-df-spinner');\n",
              "      try {\n",
              "        const charts = await google.colab.kernel.invokeFunction(\n",
              "            'suggestCharts', [key], {});\n",
              "      } catch (error) {\n",
              "        console.error('Error during call to suggestCharts:', error);\n",
              "      }\n",
              "      quickchartButtonEl.classList.remove('colab-df-spinner');\n",
              "      quickchartButtonEl.classList.add('colab-df-quickchart-complete');\n",
              "    }\n",
              "    (() => {\n",
              "      let quickchartButtonEl =\n",
              "        document.querySelector('#df-20cf1084-2c15-44ce-b694-b62706210459 button');\n",
              "      quickchartButtonEl.style.display =\n",
              "        google.colab.kernel.accessAllowed ? 'block' : 'none';\n",
              "    })();\n",
              "  </script>\n",
              "</div>\n",
              "\n",
              "    </div>\n",
              "  </div>\n"
            ],
            "application/vnd.google.colaboratory.intrinsic+json": {
              "type": "dataframe",
              "variable_name": "soil_samples",
              "summary": "{\n  \"name\": \"soil_samples\",\n  \"rows\": 271,\n  \"fields\": [\n    {\n      \"column\": \"S.No.\",\n      \"properties\": {\n        \"dtype\": \"number\",\n        \"std\": 78.08649050892222,\n        \"min\": 1.0,\n        \"max\": 270.0,\n        \"num_unique_values\": 270,\n        \"samples\": [\n          31.0,\n          117.0,\n          80.0\n        ],\n        \"semantic_type\": \"\",\n        \"description\": \"\"\n      }\n    },\n    {\n      \"column\": \"SoilSampleNo.\",\n      \"properties\": {\n        \"dtype\": \"string\",\n        \"num_unique_values\": 270,\n        \"samples\": [\n          \"45H14/007/R/15\",\n          \"45L07/005/R/16\",\n          \"45L 3/A-2/R/SS/2016-17\"\n        ],\n        \"semantic_type\": \"\",\n        \"description\": \"\"\n      }\n    },\n    {\n      \"column\": \"Longitude\",\n      \"properties\": {\n        \"dtype\": \"number\",\n        \"std\": 0.5459340318027538,\n        \"min\": 72.0,\n        \"max\": 74.4968,\n        \"num_unique_values\": 133,\n        \"samples\": [\n          74.3775,\n          74.4968,\n          72.14\n        ],\n        \"semantic_type\": \"\",\n        \"description\": \"\"\n      }\n    },\n    {\n      \"column\": \"Latitude\",\n      \"properties\": {\n        \"dtype\": \"number\",\n        \"std\": 0.4316404538457387,\n        \"min\": 23.52686111,\n        \"max\": 25.24508333,\n        \"num_unique_values\": 135,\n        \"samples\": [\n          24.79375,\n          24.0863,\n          24.98138889\n        ],\n        \"semantic_type\": \"\",\n        \"description\": \"\"\n      }\n    },\n    {\n      \"column\": \"Angle\",\n      \"properties\": {\n        \"dtype\": \"number\",\n        \"std\": 0.0,\n        \"min\": 0.0,\n        \"max\": 0.0,\n        \"num_unique_values\": 1,\n        \"samples\": [\n          0.0\n        ],\n        \"semantic_type\": \"\",\n        \"description\": \"\"\n      }\n    },\n    {\n      \"column\": \"Azimuth\",\n      \"properties\": {\n        \"dtype\": \"number\",\n        \"std\": 0.0,\n        \"min\": 0.0,\n        \"max\": 0.0,\n        \"num_unique_values\": 1,\n        \"samples\": [\n          0.0\n        ],\n        \"semantic_type\": \"\",\n        \"description\": \"\"\n      }\n    },\n    {\n      \"column\": \"Sample Length\",\n      \"properties\": {\n        \"dtype\": \"number\",\n        \"std\": 0.0,\n        \"min\": 1.0,\n        \"max\": 1.0,\n        \"num_unique_values\": 1,\n        \"samples\": [\n          1.0\n        ],\n        \"semantic_type\": \"\",\n        \"description\": \"\"\n      }\n    },\n    {\n      \"column\": \"Cu\",\n      \"properties\": {\n        \"dtype\": \"category\",\n        \"num_unique_values\": 101,\n        \"samples\": [\n          7\n        ],\n        \"semantic_type\": \"\",\n        \"description\": \"\"\n      }\n    },\n    {\n      \"column\": \"Co\",\n      \"properties\": {\n        \"dtype\": \"category\",\n        \"num_unique_values\": 49,\n        \"samples\": [\n          54\n        ],\n        \"semantic_type\": \"\",\n        \"description\": \"\"\n      }\n    },\n    {\n      \"column\": \"Ni\",\n      \"properties\": {\n        \"dtype\": \"category\",\n        \"num_unique_values\": 93,\n        \"samples\": [\n          29\n        ],\n        \"semantic_type\": \"\",\n        \"description\": \"\"\n      }\n    },\n    {\n      \"column\": \"Pb\",\n      \"properties\": {\n        \"dtype\": \"category\",\n        \"num_unique_values\": 53,\n        \"samples\": [\n          54\n        ],\n        \"semantic_type\": \"\",\n        \"description\": \"\"\n      }\n    },\n    {\n      \"column\": \"Zn\",\n      \"properties\": {\n        \"dtype\": \"category\",\n        \"num_unique_values\": 96,\n        \"samples\": [\n          30\n        ],\n        \"semantic_type\": \"\",\n        \"description\": \"\"\n      }\n    },\n    {\n      \"column\": \"Au\",\n      \"properties\": {\n        \"dtype\": \"category\",\n        \"num_unique_values\": 11,\n        \"samples\": [\n          0.003\n        ],\n        \"semantic_type\": \"\",\n        \"description\": \"\"\n      }\n    },\n    {\n      \"column\": \"Ag\",\n      \"properties\": {\n        \"dtype\": \"category\",\n        \"num_unique_values\": 1,\n        \"samples\": [\n          \"(ppm)\"\n        ],\n        \"semantic_type\": \"\",\n        \"description\": \"\"\n      }\n    },\n    {\n      \"column\": \"Lithology\",\n      \"properties\": {\n        \"dtype\": \"number\",\n        \"std\": null,\n        \"min\": null,\n        \"max\": null,\n        \"num_unique_values\": 0,\n        \"samples\": [],\n        \"semantic_type\": \"\",\n        \"description\": \"\"\n      }\n    },\n    {\n      \"column\": \"MajorRockType\",\n      \"properties\": {\n        \"dtype\": \"number\",\n        \"std\": null,\n        \"min\": null,\n        \"max\": null,\n        \"num_unique_values\": 0,\n        \"samples\": [],\n        \"semantic_type\": \"\",\n        \"description\": \"\"\n      }\n    },\n    {\n      \"column\": \"FileName\",\n      \"properties\": {\n        \"dtype\": \"number\",\n        \"std\": null,\n        \"min\": null,\n        \"max\": null,\n        \"num_unique_values\": 0,\n        \"samples\": [],\n        \"semantic_type\": \"\",\n        \"description\": \"\"\n      }\n    }\n  ]\n}"
            }
          },
          "metadata": {},
          "execution_count": 17
        }
      ]
    },
    {
      "cell_type": "code",
      "source": [
        "soil_samples.columns"
      ],
      "metadata": {
        "colab": {
          "base_uri": "https://localhost:8080/"
        },
        "id": "jablS0-KrzHl",
        "outputId": "1f942588-032b-465c-ddb2-d0948f7d4a42"
      },
      "execution_count": null,
      "outputs": [
        {
          "output_type": "execute_result",
          "data": {
            "text/plain": [
              "Index(['S.No.', 'SoilSampleNo.', 'Longitude', 'Latitude', 'Angle', 'Azimuth',\n",
              "       'Sample Length', 'Cu', 'Co', 'Ni', 'Pb', 'Zn', 'Au', 'Ag', 'Lithology',\n",
              "       'MajorRockType', 'FileName'],\n",
              "      dtype='object')"
            ]
          },
          "metadata": {},
          "execution_count": 18
        }
      ]
    },
    {
      "cell_type": "code",
      "source": [
        "metals_unfiltered = ['Pb','Ni','Co','Cu','Zn']\n",
        "for m in metals_unfiltered:\n",
        "  soil_samples[m] =  pd.to_numeric(soil_samples[m], errors='coerce')\n",
        "  soil_samples[m] = soil_samples[m].fillna(0).astype(int)"
      ],
      "metadata": {
        "id": "lkJcqCsqrzTt"
      },
      "execution_count": null,
      "outputs": []
    },
    {
      "cell_type": "code",
      "source": [
        "soil_samples_outliers = return_anomalies(soil_samples,metals_unfiltered)\n",
        "soil_samples_outliers.to_csv(\"/content/drive/MyDrive/DINESH_ALL_FINAL_CLEANED_DATA_28SEP2024/Rayan_soil_samples_outliers_1610.csv\", index=False)"
      ],
      "metadata": {
        "colab": {
          "base_uri": "https://localhost:8080/"
        },
        "id": "Bki1BXq9rjwA",
        "outputId": "8aecc4a6-ab7a-46f9-fc25-d5be701d3515"
      },
      "execution_count": null,
      "outputs": [
        {
          "output_type": "stream",
          "name": "stdout",
          "text": [
            "Rows flagged as outliers by majority voting:\n",
            "     Z-Score   IQR  Isolation Forest  votes\n",
            "17     False  True              True      2\n",
            "18     False  True              True      2\n",
            "25     False  True              True      2\n",
            "39     False  True              True      2\n",
            "46      True  True              True      3\n",
            "129     True  True              True      3\n",
            "137     True  True              True      3\n",
            "138     True  True              True      3\n",
            "145     True  True              True      3\n",
            "146     True  True              True      3\n",
            "186     True  True              True      3\n",
            "206     True  True             False      2\n",
            "223    False  True              True      2\n",
            "232    False  True              True      2\n",
            "245    False  True              True      2\n",
            "249     True  True              True      3\n",
            "259     True  True              True      3\n",
            "260     True  True              True      3\n",
            "265    False  True              True      2\n",
            "Shape of original dataframe: (271, 17)\n",
            "Number of outlier dataframe: 19\n",
            "Outlier Data:\n",
            "     S.No.     SoilSampleNo.  Longitude   Latitude  Angle  Azimuth  \\\n",
            "17    17.0   45G16/C1/R/2015  73.912861  25.245083    0.0      0.0   \n",
            "18    18.0   45G16/C1/C/2015  73.912861  25.245083    0.0      0.0   \n",
            "25    25.0    45H14/004/R/15  73.822044  24.620425    0.0      0.0   \n",
            "39    39.0     45H15/A2/R/15  73.876778  24.267222    0.0      0.0   \n",
            "46    46.0     45H15/A5/C/15  73.885056  24.349944    0.0      0.0   \n",
            "129  129.0    45 L08/A2/C/13  74.394500  24.039500    0.0      0.0   \n",
            "137  137.0    45 L08/A6/C/14  74.428900  24.086300    0.0      0.0   \n",
            "138  138.0    45 L08/A6/R/14  74.428900  24.086300    0.0      0.0   \n",
            "145  145.0   46E14/A1/C/2016  73.812500  23.542778    0.0      0.0   \n",
            "146  146.0   46E14/A1/R/2016  73.812500  23.542778    0.0      0.0   \n",
            "186  186.0      45L6/A3/C/17  74.469639  24.540808    0.0      0.0   \n",
            "206  206.0      45H13/4/C/15  73.814972  24.865056    0.0      0.0   \n",
            "223  223.0  45H16/007/R/S/14  73.762417  24.191472    0.0      0.0   \n",
            "232  232.0  45H16/007/C/S/14  73.762417  24.191472    0.0      0.0   \n",
            "245  245.0      45L01/6/R/17  74.177000  24.842028    0.0      0.0   \n",
            "249  249.0      45L01/8/R/16  74.129500  24.980528    0.0      0.0   \n",
            "259  259.0    46I05/004/R/14  74.296472  23.880722    0.0      0.0   \n",
            "260  260.0    46I05/004/C/14  74.296472  23.880722    0.0      0.0   \n",
            "265  265.0    46I05/007/R/14  74.280111  23.981667    0.0      0.0   \n",
            "\n",
            "     Sample Length   Cu   Co    Ni  Pb   Zn      Au   Ag  Lithology  \\\n",
            "17             1.0   51   35   296  12   79       1  NaN        NaN   \n",
            "18             1.0  125   54   421  12   91       1  NaN        NaN   \n",
            "25             1.0  104   33    75  54  139     NaN  NaN        NaN   \n",
            "39             1.0  209   25    53  34   86     NaN  NaN        NaN   \n",
            "46             1.0    4   42   101  11  163     NaN  NaN        NaN   \n",
            "129            1.0  291   53    50   9   98   0.001  NaN        NaN   \n",
            "137            1.0   89   49    88  53  150  0.0005  NaN        NaN   \n",
            "138            1.0   79   58    86  65  130  0.0005  NaN        NaN   \n",
            "145            1.0   15   67  3626   0   19     NaN  NaN        NaN   \n",
            "146            1.0   27  112  3419  11   34     NaN  NaN        NaN   \n",
            "186            1.0  421   13    48   8  105     NaN  NaN        NaN   \n",
            "206            1.0   35   15    41  60   69     NaN  NaN        NaN   \n",
            "223            1.0  128   47    97  15   95     NaN  NaN        NaN   \n",
            "232            1.0  217   29    85  10  105     NaN  NaN        NaN   \n",
            "245            1.0   75   25   113  56  104       3  NaN        NaN   \n",
            "249            1.0   56   26    56  75  176       2  NaN        NaN   \n",
            "259            1.0  532   59    93  14   36      27  NaN        NaN   \n",
            "260            1.0  596   65    81  16   30      14  NaN        NaN   \n",
            "265            1.0   95   40    80   3   40       3  NaN        NaN   \n",
            "\n",
            "     MajorRockType  FileName  \n",
            "17             NaN       NaN  \n",
            "18             NaN       NaN  \n",
            "25             NaN       NaN  \n",
            "39             NaN       NaN  \n",
            "46             NaN       NaN  \n",
            "129            NaN       NaN  \n",
            "137            NaN       NaN  \n",
            "138            NaN       NaN  \n",
            "145            NaN       NaN  \n",
            "146            NaN       NaN  \n",
            "186            NaN       NaN  \n",
            "206            NaN       NaN  \n",
            "223            NaN       NaN  \n",
            "232            NaN       NaN  \n",
            "245            NaN       NaN  \n",
            "249            NaN       NaN  \n",
            "259            NaN       NaN  \n",
            "260            NaN       NaN  \n",
            "265            NaN       NaN  \n"
          ]
        }
      ]
    },
    {
      "cell_type": "code",
      "source": [
        "stream_sediment = dict_keys['SSS']\n",
        "stream_sediment.head()"
      ],
      "metadata": {
        "colab": {
          "base_uri": "https://localhost:8080/",
          "height": 206
        },
        "id": "wdmNkrn3s9mr",
        "outputId": "bd887130-93f2-4909-fe3e-056a7637c96a"
      },
      "execution_count": null,
      "outputs": [
        {
          "output_type": "execute_result",
          "data": {
            "text/plain": [
              "   S. No. Composite Sample No.  Longitude  Latitude  Angle  Azimuth  \\\n",
              "0     NaN                  NaN        NaN       NaN    NaN      NaN   \n",
              "1     1.0       45G16/001/S/14      73.76    25.009    0.0      0.0   \n",
              "2     2.0       45G16/002/S/14      73.78    25.009    0.0      0.0   \n",
              "3     3.0       45G16/003/S/14      73.80    25.009    0.0      0.0   \n",
              "4     4.0       45G16/004/S/14      73.82    25.009    0.0      0.0   \n",
              "\n",
              "   Sample Length   Cu   Co   Ni   Pb   Zn   Au     Ag  Lithology  \\\n",
              "0            NaN  ppm  ppm  ppm  ppm  ppm  ppb  (ppm)        NaN   \n",
              "1            1.0   28   25   89   17   68    2    NaN        NaN   \n",
              "2            1.0   43   23   63   21   69    1    NaN        NaN   \n",
              "3            1.0   43   23   93   21   89    1    NaN        NaN   \n",
              "4            1.0   36   23   70   22   78    1    NaN        NaN   \n",
              "\n",
              "   MajorRockType  FileName  \n",
              "0            NaN       NaN  \n",
              "1            NaN       NaN  \n",
              "2            NaN       NaN  \n",
              "3            NaN       NaN  \n",
              "4            NaN       NaN  "
            ],
            "text/html": [
              "\n",
              "  <div id=\"df-bafc6699-dec7-448d-8c18-1d17cbf3785f\" class=\"colab-df-container\">\n",
              "    <div>\n",
              "<style scoped>\n",
              "    .dataframe tbody tr th:only-of-type {\n",
              "        vertical-align: middle;\n",
              "    }\n",
              "\n",
              "    .dataframe tbody tr th {\n",
              "        vertical-align: top;\n",
              "    }\n",
              "\n",
              "    .dataframe thead th {\n",
              "        text-align: right;\n",
              "    }\n",
              "</style>\n",
              "<table border=\"1\" class=\"dataframe\">\n",
              "  <thead>\n",
              "    <tr style=\"text-align: right;\">\n",
              "      <th></th>\n",
              "      <th>S. No.</th>\n",
              "      <th>Composite Sample No.</th>\n",
              "      <th>Longitude</th>\n",
              "      <th>Latitude</th>\n",
              "      <th>Angle</th>\n",
              "      <th>Azimuth</th>\n",
              "      <th>Sample Length</th>\n",
              "      <th>Cu</th>\n",
              "      <th>Co</th>\n",
              "      <th>Ni</th>\n",
              "      <th>Pb</th>\n",
              "      <th>Zn</th>\n",
              "      <th>Au</th>\n",
              "      <th>Ag</th>\n",
              "      <th>Lithology</th>\n",
              "      <th>MajorRockType</th>\n",
              "      <th>FileName</th>\n",
              "    </tr>\n",
              "  </thead>\n",
              "  <tbody>\n",
              "    <tr>\n",
              "      <th>0</th>\n",
              "      <td>NaN</td>\n",
              "      <td>NaN</td>\n",
              "      <td>NaN</td>\n",
              "      <td>NaN</td>\n",
              "      <td>NaN</td>\n",
              "      <td>NaN</td>\n",
              "      <td>NaN</td>\n",
              "      <td>ppm</td>\n",
              "      <td>ppm</td>\n",
              "      <td>ppm</td>\n",
              "      <td>ppm</td>\n",
              "      <td>ppm</td>\n",
              "      <td>ppb</td>\n",
              "      <td>(ppm)</td>\n",
              "      <td>NaN</td>\n",
              "      <td>NaN</td>\n",
              "      <td>NaN</td>\n",
              "    </tr>\n",
              "    <tr>\n",
              "      <th>1</th>\n",
              "      <td>1.0</td>\n",
              "      <td>45G16/001/S/14</td>\n",
              "      <td>73.76</td>\n",
              "      <td>25.009</td>\n",
              "      <td>0.0</td>\n",
              "      <td>0.0</td>\n",
              "      <td>1.0</td>\n",
              "      <td>28</td>\n",
              "      <td>25</td>\n",
              "      <td>89</td>\n",
              "      <td>17</td>\n",
              "      <td>68</td>\n",
              "      <td>2</td>\n",
              "      <td>NaN</td>\n",
              "      <td>NaN</td>\n",
              "      <td>NaN</td>\n",
              "      <td>NaN</td>\n",
              "    </tr>\n",
              "    <tr>\n",
              "      <th>2</th>\n",
              "      <td>2.0</td>\n",
              "      <td>45G16/002/S/14</td>\n",
              "      <td>73.78</td>\n",
              "      <td>25.009</td>\n",
              "      <td>0.0</td>\n",
              "      <td>0.0</td>\n",
              "      <td>1.0</td>\n",
              "      <td>43</td>\n",
              "      <td>23</td>\n",
              "      <td>63</td>\n",
              "      <td>21</td>\n",
              "      <td>69</td>\n",
              "      <td>1</td>\n",
              "      <td>NaN</td>\n",
              "      <td>NaN</td>\n",
              "      <td>NaN</td>\n",
              "      <td>NaN</td>\n",
              "    </tr>\n",
              "    <tr>\n",
              "      <th>3</th>\n",
              "      <td>3.0</td>\n",
              "      <td>45G16/003/S/14</td>\n",
              "      <td>73.80</td>\n",
              "      <td>25.009</td>\n",
              "      <td>0.0</td>\n",
              "      <td>0.0</td>\n",
              "      <td>1.0</td>\n",
              "      <td>43</td>\n",
              "      <td>23</td>\n",
              "      <td>93</td>\n",
              "      <td>21</td>\n",
              "      <td>89</td>\n",
              "      <td>1</td>\n",
              "      <td>NaN</td>\n",
              "      <td>NaN</td>\n",
              "      <td>NaN</td>\n",
              "      <td>NaN</td>\n",
              "    </tr>\n",
              "    <tr>\n",
              "      <th>4</th>\n",
              "      <td>4.0</td>\n",
              "      <td>45G16/004/S/14</td>\n",
              "      <td>73.82</td>\n",
              "      <td>25.009</td>\n",
              "      <td>0.0</td>\n",
              "      <td>0.0</td>\n",
              "      <td>1.0</td>\n",
              "      <td>36</td>\n",
              "      <td>23</td>\n",
              "      <td>70</td>\n",
              "      <td>22</td>\n",
              "      <td>78</td>\n",
              "      <td>1</td>\n",
              "      <td>NaN</td>\n",
              "      <td>NaN</td>\n",
              "      <td>NaN</td>\n",
              "      <td>NaN</td>\n",
              "    </tr>\n",
              "  </tbody>\n",
              "</table>\n",
              "</div>\n",
              "    <div class=\"colab-df-buttons\">\n",
              "\n",
              "  <div class=\"colab-df-container\">\n",
              "    <button class=\"colab-df-convert\" onclick=\"convertToInteractive('df-bafc6699-dec7-448d-8c18-1d17cbf3785f')\"\n",
              "            title=\"Convert this dataframe to an interactive table.\"\n",
              "            style=\"display:none;\">\n",
              "\n",
              "  <svg xmlns=\"http://www.w3.org/2000/svg\" height=\"24px\" viewBox=\"0 -960 960 960\">\n",
              "    <path d=\"M120-120v-720h720v720H120Zm60-500h600v-160H180v160Zm220 220h160v-160H400v160Zm0 220h160v-160H400v160ZM180-400h160v-160H180v160Zm440 0h160v-160H620v160ZM180-180h160v-160H180v160Zm440 0h160v-160H620v160Z\"/>\n",
              "  </svg>\n",
              "    </button>\n",
              "\n",
              "  <style>\n",
              "    .colab-df-container {\n",
              "      display:flex;\n",
              "      gap: 12px;\n",
              "    }\n",
              "\n",
              "    .colab-df-convert {\n",
              "      background-color: #E8F0FE;\n",
              "      border: none;\n",
              "      border-radius: 50%;\n",
              "      cursor: pointer;\n",
              "      display: none;\n",
              "      fill: #1967D2;\n",
              "      height: 32px;\n",
              "      padding: 0 0 0 0;\n",
              "      width: 32px;\n",
              "    }\n",
              "\n",
              "    .colab-df-convert:hover {\n",
              "      background-color: #E2EBFA;\n",
              "      box-shadow: 0px 1px 2px rgba(60, 64, 67, 0.3), 0px 1px 3px 1px rgba(60, 64, 67, 0.15);\n",
              "      fill: #174EA6;\n",
              "    }\n",
              "\n",
              "    .colab-df-buttons div {\n",
              "      margin-bottom: 4px;\n",
              "    }\n",
              "\n",
              "    [theme=dark] .colab-df-convert {\n",
              "      background-color: #3B4455;\n",
              "      fill: #D2E3FC;\n",
              "    }\n",
              "\n",
              "    [theme=dark] .colab-df-convert:hover {\n",
              "      background-color: #434B5C;\n",
              "      box-shadow: 0px 1px 3px 1px rgba(0, 0, 0, 0.15);\n",
              "      filter: drop-shadow(0px 1px 2px rgba(0, 0, 0, 0.3));\n",
              "      fill: #FFFFFF;\n",
              "    }\n",
              "  </style>\n",
              "\n",
              "    <script>\n",
              "      const buttonEl =\n",
              "        document.querySelector('#df-bafc6699-dec7-448d-8c18-1d17cbf3785f button.colab-df-convert');\n",
              "      buttonEl.style.display =\n",
              "        google.colab.kernel.accessAllowed ? 'block' : 'none';\n",
              "\n",
              "      async function convertToInteractive(key) {\n",
              "        const element = document.querySelector('#df-bafc6699-dec7-448d-8c18-1d17cbf3785f');\n",
              "        const dataTable =\n",
              "          await google.colab.kernel.invokeFunction('convertToInteractive',\n",
              "                                                    [key], {});\n",
              "        if (!dataTable) return;\n",
              "\n",
              "        const docLinkHtml = 'Like what you see? Visit the ' +\n",
              "          '<a target=\"_blank\" href=https://colab.research.google.com/notebooks/data_table.ipynb>data table notebook</a>'\n",
              "          + ' to learn more about interactive tables.';\n",
              "        element.innerHTML = '';\n",
              "        dataTable['output_type'] = 'display_data';\n",
              "        await google.colab.output.renderOutput(dataTable, element);\n",
              "        const docLink = document.createElement('div');\n",
              "        docLink.innerHTML = docLinkHtml;\n",
              "        element.appendChild(docLink);\n",
              "      }\n",
              "    </script>\n",
              "  </div>\n",
              "\n",
              "\n",
              "<div id=\"df-bb94d315-4ef5-44d4-911f-ca4dcd6dae6b\">\n",
              "  <button class=\"colab-df-quickchart\" onclick=\"quickchart('df-bb94d315-4ef5-44d4-911f-ca4dcd6dae6b')\"\n",
              "            title=\"Suggest charts\"\n",
              "            style=\"display:none;\">\n",
              "\n",
              "<svg xmlns=\"http://www.w3.org/2000/svg\" height=\"24px\"viewBox=\"0 0 24 24\"\n",
              "     width=\"24px\">\n",
              "    <g>\n",
              "        <path d=\"M19 3H5c-1.1 0-2 .9-2 2v14c0 1.1.9 2 2 2h14c1.1 0 2-.9 2-2V5c0-1.1-.9-2-2-2zM9 17H7v-7h2v7zm4 0h-2V7h2v10zm4 0h-2v-4h2v4z\"/>\n",
              "    </g>\n",
              "</svg>\n",
              "  </button>\n",
              "\n",
              "<style>\n",
              "  .colab-df-quickchart {\n",
              "      --bg-color: #E8F0FE;\n",
              "      --fill-color: #1967D2;\n",
              "      --hover-bg-color: #E2EBFA;\n",
              "      --hover-fill-color: #174EA6;\n",
              "      --disabled-fill-color: #AAA;\n",
              "      --disabled-bg-color: #DDD;\n",
              "  }\n",
              "\n",
              "  [theme=dark] .colab-df-quickchart {\n",
              "      --bg-color: #3B4455;\n",
              "      --fill-color: #D2E3FC;\n",
              "      --hover-bg-color: #434B5C;\n",
              "      --hover-fill-color: #FFFFFF;\n",
              "      --disabled-bg-color: #3B4455;\n",
              "      --disabled-fill-color: #666;\n",
              "  }\n",
              "\n",
              "  .colab-df-quickchart {\n",
              "    background-color: var(--bg-color);\n",
              "    border: none;\n",
              "    border-radius: 50%;\n",
              "    cursor: pointer;\n",
              "    display: none;\n",
              "    fill: var(--fill-color);\n",
              "    height: 32px;\n",
              "    padding: 0;\n",
              "    width: 32px;\n",
              "  }\n",
              "\n",
              "  .colab-df-quickchart:hover {\n",
              "    background-color: var(--hover-bg-color);\n",
              "    box-shadow: 0 1px 2px rgba(60, 64, 67, 0.3), 0 1px 3px 1px rgba(60, 64, 67, 0.15);\n",
              "    fill: var(--button-hover-fill-color);\n",
              "  }\n",
              "\n",
              "  .colab-df-quickchart-complete:disabled,\n",
              "  .colab-df-quickchart-complete:disabled:hover {\n",
              "    background-color: var(--disabled-bg-color);\n",
              "    fill: var(--disabled-fill-color);\n",
              "    box-shadow: none;\n",
              "  }\n",
              "\n",
              "  .colab-df-spinner {\n",
              "    border: 2px solid var(--fill-color);\n",
              "    border-color: transparent;\n",
              "    border-bottom-color: var(--fill-color);\n",
              "    animation:\n",
              "      spin 1s steps(1) infinite;\n",
              "  }\n",
              "\n",
              "  @keyframes spin {\n",
              "    0% {\n",
              "      border-color: transparent;\n",
              "      border-bottom-color: var(--fill-color);\n",
              "      border-left-color: var(--fill-color);\n",
              "    }\n",
              "    20% {\n",
              "      border-color: transparent;\n",
              "      border-left-color: var(--fill-color);\n",
              "      border-top-color: var(--fill-color);\n",
              "    }\n",
              "    30% {\n",
              "      border-color: transparent;\n",
              "      border-left-color: var(--fill-color);\n",
              "      border-top-color: var(--fill-color);\n",
              "      border-right-color: var(--fill-color);\n",
              "    }\n",
              "    40% {\n",
              "      border-color: transparent;\n",
              "      border-right-color: var(--fill-color);\n",
              "      border-top-color: var(--fill-color);\n",
              "    }\n",
              "    60% {\n",
              "      border-color: transparent;\n",
              "      border-right-color: var(--fill-color);\n",
              "    }\n",
              "    80% {\n",
              "      border-color: transparent;\n",
              "      border-right-color: var(--fill-color);\n",
              "      border-bottom-color: var(--fill-color);\n",
              "    }\n",
              "    90% {\n",
              "      border-color: transparent;\n",
              "      border-bottom-color: var(--fill-color);\n",
              "    }\n",
              "  }\n",
              "</style>\n",
              "\n",
              "  <script>\n",
              "    async function quickchart(key) {\n",
              "      const quickchartButtonEl =\n",
              "        document.querySelector('#' + key + ' button');\n",
              "      quickchartButtonEl.disabled = true;  // To prevent multiple clicks.\n",
              "      quickchartButtonEl.classList.add('colab-df-spinner');\n",
              "      try {\n",
              "        const charts = await google.colab.kernel.invokeFunction(\n",
              "            'suggestCharts', [key], {});\n",
              "      } catch (error) {\n",
              "        console.error('Error during call to suggestCharts:', error);\n",
              "      }\n",
              "      quickchartButtonEl.classList.remove('colab-df-spinner');\n",
              "      quickchartButtonEl.classList.add('colab-df-quickchart-complete');\n",
              "    }\n",
              "    (() => {\n",
              "      let quickchartButtonEl =\n",
              "        document.querySelector('#df-bb94d315-4ef5-44d4-911f-ca4dcd6dae6b button');\n",
              "      quickchartButtonEl.style.display =\n",
              "        google.colab.kernel.accessAllowed ? 'block' : 'none';\n",
              "    })();\n",
              "  </script>\n",
              "</div>\n",
              "\n",
              "    </div>\n",
              "  </div>\n"
            ],
            "application/vnd.google.colaboratory.intrinsic+json": {
              "type": "dataframe",
              "variable_name": "stream_sediment",
              "summary": "{\n  \"name\": \"stream_sediment\",\n  \"rows\": 3454,\n  \"fields\": [\n    {\n      \"column\": \"S. No.\",\n      \"properties\": {\n        \"dtype\": \"number\",\n        \"std\": 52.37019557668408,\n        \"min\": 1.0,\n        \"max\": 182.0,\n        \"num_unique_values\": 182,\n        \"samples\": [\n          20.0,\n          43.0,\n          155.0\n        ],\n        \"semantic_type\": \"\",\n        \"description\": \"\"\n      }\n    },\n    {\n      \"column\": \"Composite Sample No.\",\n      \"properties\": {\n        \"dtype\": \"string\",\n        \"num_unique_values\": 3450,\n        \"samples\": [\n          \"45L2/176/S/16\",\n          \"45G16/052/S/14\",\n          \"45H16/017/S/14\"\n        ],\n        \"semantic_type\": \"\",\n        \"description\": \"\"\n      }\n    },\n    {\n      \"column\": \"Longitude\",\n      \"properties\": {\n        \"dtype\": \"number\",\n        \"std\": 23.223068025968427,\n        \"min\": 23.51,\n        \"max\": 74.5,\n        \"num_unique_values\": 343,\n        \"samples\": [\n          74.04899,\n          24.39,\n          24.33\n        ],\n        \"semantic_type\": \"\",\n        \"description\": \"\"\n      }\n    },\n    {\n      \"column\": \"Latitude\",\n      \"properties\": {\n        \"dtype\": \"number\",\n        \"std\": 23.066625039672708,\n        \"min\": 23.50903,\n        \"max\": 74.5,\n        \"num_unique_values\": 192,\n        \"samples\": [\n          24.40405556,\n          24.74373889,\n          25.2436\n        ],\n        \"semantic_type\": \"\",\n        \"description\": \"\"\n      }\n    },\n    {\n      \"column\": \"Angle\",\n      \"properties\": {\n        \"dtype\": \"number\",\n        \"std\": 0.0,\n        \"min\": 0.0,\n        \"max\": 0.0,\n        \"num_unique_values\": 1,\n        \"samples\": [\n          0.0\n        ],\n        \"semantic_type\": \"\",\n        \"description\": \"\"\n      }\n    },\n    {\n      \"column\": \"Azimuth\",\n      \"properties\": {\n        \"dtype\": \"number\",\n        \"std\": 0.0,\n        \"min\": 0.0,\n        \"max\": 0.0,\n        \"num_unique_values\": 1,\n        \"samples\": [\n          0.0\n        ],\n        \"semantic_type\": \"\",\n        \"description\": \"\"\n      }\n    },\n    {\n      \"column\": \"Sample Length\",\n      \"properties\": {\n        \"dtype\": \"number\",\n        \"std\": 0.0,\n        \"min\": 1.0,\n        \"max\": 1.0,\n        \"num_unique_values\": 1,\n        \"samples\": [\n          1.0\n        ],\n        \"semantic_type\": \"\",\n        \"description\": \"\"\n      }\n    },\n    {\n      \"column\": \"Cu\",\n      \"properties\": {\n        \"dtype\": \"category\",\n        \"num_unique_values\": 145,\n        \"samples\": [\n          16\n        ],\n        \"semantic_type\": \"\",\n        \"description\": \"\"\n      }\n    },\n    {\n      \"column\": \"Co\",\n      \"properties\": {\n        \"dtype\": \"category\",\n        \"num_unique_values\": 61,\n        \"samples\": [\n          \"ppm\"\n        ],\n        \"semantic_type\": \"\",\n        \"description\": \"\"\n      }\n    },\n    {\n      \"column\": \"Ni\",\n      \"properties\": {\n        \"dtype\": \"category\",\n        \"num_unique_values\": 162,\n        \"samples\": [\n          2\n        ],\n        \"semantic_type\": \"\",\n        \"description\": \"\"\n      }\n    },\n    {\n      \"column\": \"Pb\",\n      \"properties\": {\n        \"dtype\": \"category\",\n        \"num_unique_values\": 101,\n        \"samples\": [\n          1.5\n        ],\n        \"semantic_type\": \"\",\n        \"description\": \"\"\n      }\n    },\n    {\n      \"column\": \"Zn\",\n      \"properties\": {\n        \"dtype\": \"category\",\n        \"num_unique_values\": 202,\n        \"samples\": [\n          47\n        ],\n        \"semantic_type\": \"\",\n        \"description\": \"\"\n      }\n    },\n    {\n      \"column\": \"Au\",\n      \"properties\": {\n        \"dtype\": \"category\",\n        \"num_unique_values\": 467,\n        \"samples\": [\n          307.14\n        ],\n        \"semantic_type\": \"\",\n        \"description\": \"\"\n      }\n    },\n    {\n      \"column\": \"Ag\",\n      \"properties\": {\n        \"dtype\": \"category\",\n        \"num_unique_values\": 1,\n        \"samples\": [\n          \"(ppm)\"\n        ],\n        \"semantic_type\": \"\",\n        \"description\": \"\"\n      }\n    },\n    {\n      \"column\": \"Lithology\",\n      \"properties\": {\n        \"dtype\": \"number\",\n        \"std\": null,\n        \"min\": null,\n        \"max\": null,\n        \"num_unique_values\": 0,\n        \"samples\": [],\n        \"semantic_type\": \"\",\n        \"description\": \"\"\n      }\n    },\n    {\n      \"column\": \"MajorRockType\",\n      \"properties\": {\n        \"dtype\": \"number\",\n        \"std\": null,\n        \"min\": null,\n        \"max\": null,\n        \"num_unique_values\": 0,\n        \"samples\": [],\n        \"semantic_type\": \"\",\n        \"description\": \"\"\n      }\n    },\n    {\n      \"column\": \"FileName\",\n      \"properties\": {\n        \"dtype\": \"number\",\n        \"std\": null,\n        \"min\": null,\n        \"max\": null,\n        \"num_unique_values\": 0,\n        \"samples\": [],\n        \"semantic_type\": \"\",\n        \"description\": \"\"\n      }\n    }\n  ]\n}"
            }
          },
          "metadata": {},
          "execution_count": 20
        }
      ]
    },
    {
      "cell_type": "code",
      "source": [
        "stream_sediment.columns"
      ],
      "metadata": {
        "colab": {
          "base_uri": "https://localhost:8080/"
        },
        "id": "nOhXlXudtCoo",
        "outputId": "ff3dc603-2b00-4f1c-b4d4-c03600bc4fc2"
      },
      "execution_count": null,
      "outputs": [
        {
          "output_type": "execute_result",
          "data": {
            "text/plain": [
              "Index(['S. No.', 'Composite Sample No.', 'Longitude', 'Latitude', 'Angle',\n",
              "       'Azimuth', 'Sample Length', 'Cu', 'Co', 'Ni', 'Pb', 'Zn', 'Au', 'Ag',\n",
              "       'Lithology', 'MajorRockType', 'FileName'],\n",
              "      dtype='object')"
            ]
          },
          "metadata": {},
          "execution_count": 21
        }
      ]
    },
    {
      "cell_type": "code",
      "source": [
        "for m in metals_unfiltered:\n",
        "  stream_sediment[m] =  pd.to_numeric(stream_sediment[m], errors='coerce')\n",
        "  stream_sediment[m] = stream_sediment[m].fillna(0).astype(int)"
      ],
      "metadata": {
        "id": "0VNYfFYntFHJ"
      },
      "execution_count": null,
      "outputs": []
    },
    {
      "cell_type": "code",
      "source": [
        "stream_sediment_outliers = return_anomalies(stream_sediment,metals_unfiltered)\n",
        "stream_sediment_outliers.to_csv(\"/content/drive/MyDrive/DINESH_ALL_FINAL_CLEANED_DATA_28SEP2024/Rayan_stream_sediment_outliers_1610.csv\", index=False)"
      ],
      "metadata": {
        "colab": {
          "base_uri": "https://localhost:8080/"
        },
        "id": "wbt8kiTwtHCk",
        "outputId": "0d8f61e9-6e92-4eaa-e42f-ce9b6de78d02"
      },
      "execution_count": null,
      "outputs": [
        {
          "output_type": "stream",
          "name": "stdout",
          "text": [
            "Rows flagged as outliers by majority voting:\n",
            "      Z-Score   IQR  Isolation Forest  votes\n",
            "0       False  True              True      2\n",
            "173     False  True              True      2\n",
            "174      True  True             False      2\n",
            "204     False  True              True      2\n",
            "256      True  True              True      3\n",
            "...       ...   ...               ...    ...\n",
            "3396     True  True              True      3\n",
            "3397    False  True              True      2\n",
            "3402     True  True              True      3\n",
            "3409    False  True              True      2\n",
            "3422     True  True              True      3\n",
            "\n",
            "[197 rows x 4 columns]\n",
            "Shape of original dataframe: (3454, 17)\n",
            "Number of outlier dataframe: 197\n",
            "Outlier Data:\n",
            "      S. No. Composite Sample No.  Longitude  Latitude  Angle  Azimuth  \\\n",
            "0        NaN                  NaN        NaN       NaN    NaN      NaN   \n",
            "173    173.0       45G16/178/S/14     73.919    25.245    0.0      0.0   \n",
            "174    174.0       45G16/179/S/14     73.939    25.245    0.0      0.0   \n",
            "204     27.0       45H13/027/S/16     73.760    24.800    0.0      0.0   \n",
            "256     79.0       45H13/079/S/15     73.760    24.870    0.0      0.0   \n",
            "...      ...                  ...        ...       ...    ...      ...   \n",
            "3396   125.0       46I05/125/S/14     23.920    74.400    0.0      0.0   \n",
            "3397   126.0       46I05/126/S/14     23.920    74.420    0.0      0.0   \n",
            "3402   131.0       46I05/131/S/14     23.940    74.260    0.0      0.0   \n",
            "3409   138.0       46I05/138/S/14     23.940    74.400    0.0      0.0   \n",
            "3422   151.0       46I05/151/S/14     23.960    74.400    0.0      0.0   \n",
            "\n",
            "      Sample Length   Cu  Co   Ni   Pb   Zn   Au     Ag  Lithology  \\\n",
            "0               NaN    0   0    0    0    0  ppb  (ppm)        NaN   \n",
            "173             1.0   44  36  172   24   80    1    NaN        NaN   \n",
            "174             1.0   48  43   73   19   87    1    NaN        NaN   \n",
            "204             1.0   96  31   97   32   98  NaN    NaN        NaN   \n",
            "256             1.0  249  25   79  112  171  NaN    NaN        NaN   \n",
            "...             ...  ...  ..  ...  ...  ...  ...    ...        ...   \n",
            "3396            1.0  190  52  212   11   73  NaN    NaN        NaN   \n",
            "3397            1.0   53  41   73   73  223  NaN    NaN        NaN   \n",
            "3402            1.0  132  41   73    7   49  NaN    NaN        NaN   \n",
            "3409            1.0   46  41   71   22  255  NaN    NaN        NaN   \n",
            "3422            1.0  336  37  114   22   95  NaN    NaN        NaN   \n",
            "\n",
            "      MajorRockType  FileName  \n",
            "0               NaN       NaN  \n",
            "173             NaN       NaN  \n",
            "174             NaN       NaN  \n",
            "204             NaN       NaN  \n",
            "256             NaN       NaN  \n",
            "...             ...       ...  \n",
            "3396            NaN       NaN  \n",
            "3397            NaN       NaN  \n",
            "3402            NaN       NaN  \n",
            "3409            NaN       NaN  \n",
            "3422            NaN       NaN  \n",
            "\n",
            "[197 rows x 17 columns]\n"
          ]
        }
      ]
    },
    {
      "cell_type": "code",
      "source": [
        "Xs_zn = ['Angle', 'Azimuth','SampleLength','Pb_ppm', 'Ni_ppm', 'Zn_ppm', 'Co_ppm']\n",
        "ys_cu = ['Cu_target']\n",
        "\n",
        "Xs_cu = ['Angle', 'Azimuth','SampleLength','Pb_ppm', 'Ni_ppm', 'Cu_ppm', 'Co_ppm']\n",
        "ys_zn = ['Zn_target']\n",
        "\n",
        "Xs_zn_ss = ['Angle', 'Azimuth','Sample Length','Pb','Ni','Zn','Co']\n",
        "\n",
        "Xs_cu_ss = ['Angle', 'Azimuth','Sample Length','Pb','Ni','Cu','Co']\n",
        "\n",
        "Xs_g1_zn = ['SampleLength','Pb_ppm', 'Ni_ppm', 'Zn_ppm', 'Co_ppm']\n",
        "Xs_g1_cu = ['SampleLength','Pb_ppm', 'Ni_ppm', 'Cu_ppm', 'Co_ppm']"
      ],
      "metadata": {
        "id": "GGjUxL-HDU_n"
      },
      "execution_count": null,
      "outputs": []
    },
    {
      "cell_type": "code",
      "source": [
        "def create_cu_target_column(df, threshold):\n",
        "  cu_column = 'Cu_ppm' if 'Cu_ppm' in df.columns else 'Cu'\n",
        "  df['Cu_target'] = (df[cu_column] > threshold).astype(int)\n",
        "  return df"
      ],
      "metadata": {
        "id": "1xMxfvWReAAh"
      },
      "execution_count": null,
      "outputs": []
    },
    {
      "cell_type": "code",
      "source": [
        "g1 = create_cu_target_column(g1, 500)\n",
        "g2 = create_cu_target_column(g2, 400)\n",
        "g3 = create_cu_target_column(g3, 300)\n",
        "g4 = create_cu_target_column(g4, 200)\n",
        "soil_samples = create_cu_target_column(soil_samples, 100)\n",
        "stream_sediment = create_cu_target_column(stream_sediment, 150)\n"
      ],
      "metadata": {
        "id": "mQKKgSYCevFD"
      },
      "execution_count": null,
      "outputs": []
    },
    {
      "cell_type": "code",
      "source": [
        "g1['Cu_target'].value_counts()"
      ],
      "metadata": {
        "colab": {
          "base_uri": "https://localhost:8080/",
          "height": 178
        },
        "id": "LNZrkveue-HW",
        "outputId": "b3dbc38a-7831-4f0f-982b-b461482eec37"
      },
      "execution_count": null,
      "outputs": [
        {
          "output_type": "execute_result",
          "data": {
            "text/plain": [
              "Cu_target\n",
              "0    3403\n",
              "1     341\n",
              "Name: count, dtype: int64"
            ],
            "text/html": [
              "<div>\n",
              "<style scoped>\n",
              "    .dataframe tbody tr th:only-of-type {\n",
              "        vertical-align: middle;\n",
              "    }\n",
              "\n",
              "    .dataframe tbody tr th {\n",
              "        vertical-align: top;\n",
              "    }\n",
              "\n",
              "    .dataframe thead th {\n",
              "        text-align: right;\n",
              "    }\n",
              "</style>\n",
              "<table border=\"1\" class=\"dataframe\">\n",
              "  <thead>\n",
              "    <tr style=\"text-align: right;\">\n",
              "      <th></th>\n",
              "      <th>count</th>\n",
              "    </tr>\n",
              "    <tr>\n",
              "      <th>Cu_target</th>\n",
              "      <th></th>\n",
              "    </tr>\n",
              "  </thead>\n",
              "  <tbody>\n",
              "    <tr>\n",
              "      <th>0</th>\n",
              "      <td>3403</td>\n",
              "    </tr>\n",
              "    <tr>\n",
              "      <th>1</th>\n",
              "      <td>341</td>\n",
              "    </tr>\n",
              "  </tbody>\n",
              "</table>\n",
              "</div><br><label><b>dtype:</b> int64</label>"
            ]
          },
          "metadata": {},
          "execution_count": 33
        }
      ]
    },
    {
      "cell_type": "code",
      "source": [
        "g2['Cu_target'].value_counts()"
      ],
      "metadata": {
        "colab": {
          "base_uri": "https://localhost:8080/",
          "height": 178
        },
        "id": "JiQGeD4yfKOG",
        "outputId": "59eb1c19-4958-4108-a1be-5a05c13e84f7"
      },
      "execution_count": null,
      "outputs": [
        {
          "output_type": "execute_result",
          "data": {
            "text/plain": [
              "Cu_target\n",
              "1    3316\n",
              "0    2093\n",
              "Name: count, dtype: int64"
            ],
            "text/html": [
              "<div>\n",
              "<style scoped>\n",
              "    .dataframe tbody tr th:only-of-type {\n",
              "        vertical-align: middle;\n",
              "    }\n",
              "\n",
              "    .dataframe tbody tr th {\n",
              "        vertical-align: top;\n",
              "    }\n",
              "\n",
              "    .dataframe thead th {\n",
              "        text-align: right;\n",
              "    }\n",
              "</style>\n",
              "<table border=\"1\" class=\"dataframe\">\n",
              "  <thead>\n",
              "    <tr style=\"text-align: right;\">\n",
              "      <th></th>\n",
              "      <th>count</th>\n",
              "    </tr>\n",
              "    <tr>\n",
              "      <th>Cu_target</th>\n",
              "      <th></th>\n",
              "    </tr>\n",
              "  </thead>\n",
              "  <tbody>\n",
              "    <tr>\n",
              "      <th>1</th>\n",
              "      <td>3316</td>\n",
              "    </tr>\n",
              "    <tr>\n",
              "      <th>0</th>\n",
              "      <td>2093</td>\n",
              "    </tr>\n",
              "  </tbody>\n",
              "</table>\n",
              "</div><br><label><b>dtype:</b> int64</label>"
            ]
          },
          "metadata": {},
          "execution_count": 34
        }
      ]
    },
    {
      "cell_type": "code",
      "source": [
        "g3['Cu_target'].value_counts()"
      ],
      "metadata": {
        "colab": {
          "base_uri": "https://localhost:8080/",
          "height": 178
        },
        "id": "Hl0VnHBqfMyE",
        "outputId": "a6c15e6b-5a99-4547-9b5b-bc4e2c2f121c"
      },
      "execution_count": null,
      "outputs": [
        {
          "output_type": "execute_result",
          "data": {
            "text/plain": [
              "Cu_target\n",
              "0    1843\n",
              "1     370\n",
              "Name: count, dtype: int64"
            ],
            "text/html": [
              "<div>\n",
              "<style scoped>\n",
              "    .dataframe tbody tr th:only-of-type {\n",
              "        vertical-align: middle;\n",
              "    }\n",
              "\n",
              "    .dataframe tbody tr th {\n",
              "        vertical-align: top;\n",
              "    }\n",
              "\n",
              "    .dataframe thead th {\n",
              "        text-align: right;\n",
              "    }\n",
              "</style>\n",
              "<table border=\"1\" class=\"dataframe\">\n",
              "  <thead>\n",
              "    <tr style=\"text-align: right;\">\n",
              "      <th></th>\n",
              "      <th>count</th>\n",
              "    </tr>\n",
              "    <tr>\n",
              "      <th>Cu_target</th>\n",
              "      <th></th>\n",
              "    </tr>\n",
              "  </thead>\n",
              "  <tbody>\n",
              "    <tr>\n",
              "      <th>0</th>\n",
              "      <td>1843</td>\n",
              "    </tr>\n",
              "    <tr>\n",
              "      <th>1</th>\n",
              "      <td>370</td>\n",
              "    </tr>\n",
              "  </tbody>\n",
              "</table>\n",
              "</div><br><label><b>dtype:</b> int64</label>"
            ]
          },
          "metadata": {},
          "execution_count": 35
        }
      ]
    },
    {
      "cell_type": "code",
      "source": [
        "g4['Cu_target'].value_counts()"
      ],
      "metadata": {
        "colab": {
          "base_uri": "https://localhost:8080/",
          "height": 178
        },
        "id": "Kqp-VjUTfPAJ",
        "outputId": "cf3a72e1-f685-4ab9-fa54-4f096c78e260"
      },
      "execution_count": null,
      "outputs": [
        {
          "output_type": "execute_result",
          "data": {
            "text/plain": [
              "Cu_target\n",
              "0    1193\n",
              "1     384\n",
              "Name: count, dtype: int64"
            ],
            "text/html": [
              "<div>\n",
              "<style scoped>\n",
              "    .dataframe tbody tr th:only-of-type {\n",
              "        vertical-align: middle;\n",
              "    }\n",
              "\n",
              "    .dataframe tbody tr th {\n",
              "        vertical-align: top;\n",
              "    }\n",
              "\n",
              "    .dataframe thead th {\n",
              "        text-align: right;\n",
              "    }\n",
              "</style>\n",
              "<table border=\"1\" class=\"dataframe\">\n",
              "  <thead>\n",
              "    <tr style=\"text-align: right;\">\n",
              "      <th></th>\n",
              "      <th>count</th>\n",
              "    </tr>\n",
              "    <tr>\n",
              "      <th>Cu_target</th>\n",
              "      <th></th>\n",
              "    </tr>\n",
              "  </thead>\n",
              "  <tbody>\n",
              "    <tr>\n",
              "      <th>0</th>\n",
              "      <td>1193</td>\n",
              "    </tr>\n",
              "    <tr>\n",
              "      <th>1</th>\n",
              "      <td>384</td>\n",
              "    </tr>\n",
              "  </tbody>\n",
              "</table>\n",
              "</div><br><label><b>dtype:</b> int64</label>"
            ]
          },
          "metadata": {},
          "execution_count": 36
        }
      ]
    },
    {
      "cell_type": "code",
      "source": [
        "stream_sediment['Cu_target'].value_counts()"
      ],
      "metadata": {
        "colab": {
          "base_uri": "https://localhost:8080/",
          "height": 178
        },
        "id": "nK5o4ew4fPKv",
        "outputId": "1746a2de-f321-4ca0-aeb9-c038b613b4e0"
      },
      "execution_count": null,
      "outputs": [
        {
          "output_type": "execute_result",
          "data": {
            "text/plain": [
              "Cu_target\n",
              "0    3431\n",
              "1      23\n",
              "Name: count, dtype: int64"
            ],
            "text/html": [
              "<div>\n",
              "<style scoped>\n",
              "    .dataframe tbody tr th:only-of-type {\n",
              "        vertical-align: middle;\n",
              "    }\n",
              "\n",
              "    .dataframe tbody tr th {\n",
              "        vertical-align: top;\n",
              "    }\n",
              "\n",
              "    .dataframe thead th {\n",
              "        text-align: right;\n",
              "    }\n",
              "</style>\n",
              "<table border=\"1\" class=\"dataframe\">\n",
              "  <thead>\n",
              "    <tr style=\"text-align: right;\">\n",
              "      <th></th>\n",
              "      <th>count</th>\n",
              "    </tr>\n",
              "    <tr>\n",
              "      <th>Cu_target</th>\n",
              "      <th></th>\n",
              "    </tr>\n",
              "  </thead>\n",
              "  <tbody>\n",
              "    <tr>\n",
              "      <th>0</th>\n",
              "      <td>3431</td>\n",
              "    </tr>\n",
              "    <tr>\n",
              "      <th>1</th>\n",
              "      <td>23</td>\n",
              "    </tr>\n",
              "  </tbody>\n",
              "</table>\n",
              "</div><br><label><b>dtype:</b> int64</label>"
            ]
          },
          "metadata": {},
          "execution_count": 37
        }
      ]
    },
    {
      "cell_type": "code",
      "source": [
        "soil_samples['Cu_target'].value_counts()"
      ],
      "metadata": {
        "colab": {
          "base_uri": "https://localhost:8080/",
          "height": 178
        },
        "id": "RueUy79xfPPu",
        "outputId": "c8a9cf52-c63b-4818-e8c0-189acbbd3b90"
      },
      "execution_count": null,
      "outputs": [
        {
          "output_type": "execute_result",
          "data": {
            "text/plain": [
              "Cu_target\n",
              "0    251\n",
              "1     20\n",
              "Name: count, dtype: int64"
            ],
            "text/html": [
              "<div>\n",
              "<style scoped>\n",
              "    .dataframe tbody tr th:only-of-type {\n",
              "        vertical-align: middle;\n",
              "    }\n",
              "\n",
              "    .dataframe tbody tr th {\n",
              "        vertical-align: top;\n",
              "    }\n",
              "\n",
              "    .dataframe thead th {\n",
              "        text-align: right;\n",
              "    }\n",
              "</style>\n",
              "<table border=\"1\" class=\"dataframe\">\n",
              "  <thead>\n",
              "    <tr style=\"text-align: right;\">\n",
              "      <th></th>\n",
              "      <th>count</th>\n",
              "    </tr>\n",
              "    <tr>\n",
              "      <th>Cu_target</th>\n",
              "      <th></th>\n",
              "    </tr>\n",
              "  </thead>\n",
              "  <tbody>\n",
              "    <tr>\n",
              "      <th>0</th>\n",
              "      <td>251</td>\n",
              "    </tr>\n",
              "    <tr>\n",
              "      <th>1</th>\n",
              "      <td>20</td>\n",
              "    </tr>\n",
              "  </tbody>\n",
              "</table>\n",
              "</div><br><label><b>dtype:</b> int64</label>"
            ]
          },
          "metadata": {},
          "execution_count": 38
        }
      ]
    },
    {
      "cell_type": "code",
      "source": [
        "from sklearn.model_selection import train_test_split\n",
        "from xgboost import XGBClassifier\n",
        "from sklearn.metrics import accuracy_score, f1_score\n",
        "\n",
        "def classification_test(Xs,ys):\n",
        "  X_train, X_test, y_train, y_test = train_test_split(Xs, ys, test_size=0.2, random_state=42)\n",
        "\n",
        "  model = XGBClassifier(random_state = 42)\n",
        "\n",
        "  model.fit(X_train, y_train)\n",
        "\n",
        "  y_pred = model.predict(X_test)\n",
        "\n",
        "  score = accuracy_score(y_test, y_pred)\n",
        "  f1 = f1_score(y_test, y_pred)\n",
        "\n",
        "  print(f'Accuracy: {score}')\n",
        "  print(f'F1 score: {f1}')\n",
        "\n",
        "  return model"
      ],
      "metadata": {
        "id": "asWZ3opAVM2A"
      },
      "execution_count": null,
      "outputs": []
    },
    {
      "cell_type": "code",
      "source": [
        "def plot_feature_importance(model, Xs):\n",
        "  feature_importances = model.feature_importances_\n",
        "\n",
        "  feature_importance_df = pd.DataFrame({'Feature': Xs.columns, 'Importance': feature_importances})\n",
        "  feature_importance_df = feature_importance_df.sort_values(by='Importance', ascending=False)\n",
        "\n",
        "  print(feature_importance_df)\n",
        "\n",
        "  plt.figure(figsize=(10, 6))\n",
        "  plt.barh(feature_importance_df['Feature'], feature_importance_df['Importance'])\n",
        "  plt.xlabel('Importance')\n",
        "  plt.ylabel('Feature')\n",
        "  plt.title('XGBoost Feature Importance')\n",
        "  plt.show()"
      ],
      "metadata": {
        "id": "KqJLcmvOi4g0"
      },
      "execution_count": null,
      "outputs": []
    },
    {
      "cell_type": "code",
      "source": [
        "m_G3_cu = classification_test(g3[Xs_zn],g3[ys_cu])"
      ],
      "metadata": {
        "colab": {
          "base_uri": "https://localhost:8080/"
        },
        "id": "O0b96LG6Veqg",
        "outputId": "29bf9bdd-3f93-489e-d1a2-7f54c4254f58"
      },
      "execution_count": null,
      "outputs": [
        {
          "output_type": "stream",
          "name": "stdout",
          "text": [
            "Accuracy: 0.8487584650112867\n",
            "F1 score: 0.41739130434782606\n"
          ]
        }
      ]
    },
    {
      "cell_type": "code",
      "source": [
        "m_G4_cu = classification_test(g4[Xs_zn],g4[ys_cu])"
      ],
      "metadata": {
        "colab": {
          "base_uri": "https://localhost:8080/"
        },
        "id": "MXAg0GbKVmrM",
        "outputId": "7a2d76a1-25fb-4efe-ace3-a5dad123162b"
      },
      "execution_count": null,
      "outputs": [
        {
          "output_type": "stream",
          "name": "stdout",
          "text": [
            "Accuracy: 0.8322784810126582\n",
            "F1 score: 0.5954198473282443\n"
          ]
        }
      ]
    },
    {
      "cell_type": "code",
      "source": [
        "m_G2_cu = classification_test(g2[Xs_zn],g2[ys_cu])"
      ],
      "metadata": {
        "colab": {
          "base_uri": "https://localhost:8080/"
        },
        "id": "e04YQIQ5VpmY",
        "outputId": "4f1ff69b-89b7-4ab7-dbc9-5d0604933cbe"
      },
      "execution_count": null,
      "outputs": [
        {
          "output_type": "stream",
          "name": "stdout",
          "text": [
            "Accuracy: 0.7624768946395564\n",
            "F1 score: 0.8048595292331056\n"
          ]
        }
      ]
    },
    {
      "cell_type": "code",
      "source": [
        "m_G1_cu = classification_test(g1[Xs_g1_zn],g1[ys_cu])"
      ],
      "metadata": {
        "colab": {
          "base_uri": "https://localhost:8080/"
        },
        "id": "4KIgYn5ugpwl",
        "outputId": "c9680228-2cd0-4f1f-b433-d14763db53f6"
      },
      "execution_count": null,
      "outputs": [
        {
          "output_type": "stream",
          "name": "stdout",
          "text": [
            "Accuracy: 0.9185580774365821\n",
            "F1 score: 0.3146067415730337\n"
          ]
        }
      ]
    },
    {
      "cell_type": "code",
      "source": [
        "m_SS_cu = classification_test(soil_samples[Xs_zn_ss],soil_samples[ys_cu])"
      ],
      "metadata": {
        "colab": {
          "base_uri": "https://localhost:8080/"
        },
        "id": "YZs355U7g5bg",
        "outputId": "75d98c35-5e98-49e2-cbfc-0335af1b0e21"
      },
      "execution_count": null,
      "outputs": [
        {
          "output_type": "stream",
          "name": "stdout",
          "text": [
            "Accuracy: 0.8727272727272727\n",
            "F1 score: 0.0\n"
          ]
        }
      ]
    },
    {
      "cell_type": "code",
      "source": [
        "m_SSS_cu = classification_test(stream_sediment[Xs_zn_ss],stream_sediment[ys_cu])"
      ],
      "metadata": {
        "colab": {
          "base_uri": "https://localhost:8080/"
        },
        "id": "VdcNg_fchbxG",
        "outputId": "9386d019-f297-411d-f32c-e87902843b97"
      },
      "execution_count": null,
      "outputs": [
        {
          "output_type": "stream",
          "name": "stdout",
          "text": [
            "Accuracy: 0.9884225759768451\n",
            "F1 score: 0.0\n"
          ]
        }
      ]
    },
    {
      "cell_type": "code",
      "source": [
        "plot_feature_importance(m_G3_cu, g3[Xs_zn])"
      ],
      "metadata": {
        "colab": {
          "base_uri": "https://localhost:8080/",
          "height": 703
        },
        "id": "o4vDkw8WjmWG",
        "outputId": "baa79298-6bf3-428d-eda6-43f8ef058da1"
      },
      "execution_count": null,
      "outputs": [
        {
          "output_type": "stream",
          "name": "stdout",
          "text": [
            "        Feature  Importance\n",
            "6        Co_ppm    0.229619\n",
            "1       Azimuth    0.192706\n",
            "5        Zn_ppm    0.152786\n",
            "2  SampleLength    0.135895\n",
            "4        Ni_ppm    0.123211\n",
            "3        Pb_ppm    0.109519\n",
            "0         Angle    0.056266\n"
          ]
        },
        {
          "output_type": "display_data",
          "data": {
            "text/plain": [
              "<Figure size 1000x600 with 1 Axes>"
            ],
            "image/png": "[encoded data removed]"
          },
          "metadata": {}
        }
      ]
    },
    {
      "cell_type": "code",
      "source": [
        "plot_feature_importance(m_G4_cu, g4[Xs_zn])"
      ],
      "metadata": {
        "colab": {
          "base_uri": "https://localhost:8080/",
          "height": 703
        },
        "id": "isFU1vxFjsd_",
        "outputId": "31e5e0c9-35c7-49b6-ce2f-e1212199921c"
      },
      "execution_count": null,
      "outputs": [
        {
          "output_type": "stream",
          "name": "stdout",
          "text": [
            "        Feature  Importance\n",
            "6        Co_ppm    0.356678\n",
            "3        Pb_ppm    0.255042\n",
            "5        Zn_ppm    0.221107\n",
            "4        Ni_ppm    0.167174\n",
            "0         Angle    0.000000\n",
            "1       Azimuth    0.000000\n",
            "2  SampleLength    0.000000\n"
          ]
        },
        {
          "output_type": "display_data",
          "data": {
            "text/plain": [
              "<Figure size 1000x600 with 1 Axes>"
            ],
            "image/png": "[encoded data removed]"
          },
          "metadata": {}
        }
      ]
    },
    {
      "cell_type": "code",
      "source": [
        "plot_feature_importance(m_G2_cu, g2[Xs_zn])"
      ],
      "metadata": {
        "colab": {
          "base_uri": "https://localhost:8080/",
          "height": 703
        },
        "id": "17g08wFFjvce",
        "outputId": "946ce555-dc79-46dc-94f1-be6b6fbb7dfe"
      },
      "execution_count": null,
      "outputs": [
        {
          "output_type": "stream",
          "name": "stdout",
          "text": [
            "        Feature  Importance\n",
            "1       Azimuth    0.341550\n",
            "4        Ni_ppm    0.134147\n",
            "0         Angle    0.128414\n",
            "5        Zn_ppm    0.118742\n",
            "2  SampleLength    0.098706\n",
            "6        Co_ppm    0.092417\n",
            "3        Pb_ppm    0.086023\n"
          ]
        },
        {
          "output_type": "display_data",
          "data": {
            "text/plain": [
              "<Figure size 1000x600 with 1 Axes>"
            ],
            "image/png": "[encoded data removed]"
          },
          "metadata": {}
        }
      ]
    },
    {
      "cell_type": "code",
      "source": [
        "plot_feature_importance(m_G1_cu, g1[Xs_g1_zn])"
      ],
      "metadata": {
        "colab": {
          "base_uri": "https://localhost:8080/",
          "height": 668
        },
        "id": "Oy_VA2_-jv-Z",
        "outputId": "50130a2b-e4e4-45b1-b080-84a4511abdf9"
      },
      "execution_count": null,
      "outputs": [
        {
          "output_type": "stream",
          "name": "stdout",
          "text": [
            "        Feature  Importance\n",
            "4        Co_ppm    0.253185\n",
            "0  SampleLength    0.246340\n",
            "1        Pb_ppm    0.221580\n",
            "3        Zn_ppm    0.148916\n",
            "2        Ni_ppm    0.129978\n"
          ]
        },
        {
          "output_type": "display_data",
          "data": {
            "text/plain": [
              "<Figure size 1000x600 with 1 Axes>"
            ],
            "image/png": "[encoded data removed]"
          },
          "metadata": {}
        }
      ]
    },
    {
      "cell_type": "code",
      "source": [
        "plot_feature_importance(m_SS_cu, soil_samples[Xs_zn_ss])"
      ],
      "metadata": {
        "colab": {
          "base_uri": "https://localhost:8080/",
          "height": 703
        },
        "id": "wTGSxyiwjwBO",
        "outputId": "4d902126-4983-417e-ca04-608cf043285f"
      },
      "execution_count": null,
      "outputs": [
        {
          "output_type": "stream",
          "name": "stdout",
          "text": [
            "         Feature  Importance\n",
            "6             Co    0.533449\n",
            "3             Pb    0.219609\n",
            "5             Zn    0.157398\n",
            "4             Ni    0.089544\n",
            "0          Angle    0.000000\n",
            "1        Azimuth    0.000000\n",
            "2  Sample Length    0.000000\n"
          ]
        },
        {
          "output_type": "display_data",
          "data": {
            "text/plain": [
              "<Figure size 1000x600 with 1 Axes>"
            ],
            "image/png": "[encoded data removed]"
          },
          "metadata": {}
        }
      ]
    },
    {
      "cell_type": "code",
      "source": [
        "plot_feature_importance(m_SSS_cu, stream_sediment[Xs_zn_ss])"
      ],
      "metadata": {
        "colab": {
          "base_uri": "https://localhost:8080/",
          "height": 703
        },
        "id": "dF7sixS7jwDw",
        "outputId": "12814ef8-c437-480e-c886-bd5bf7995ed1"
      },
      "execution_count": null,
      "outputs": [
        {
          "output_type": "stream",
          "name": "stdout",
          "text": [
            "         Feature  Importance\n",
            "6             Co    0.347730\n",
            "5             Zn    0.227270\n",
            "3             Pb    0.221560\n",
            "4             Ni    0.203439\n",
            "0          Angle    0.000000\n",
            "1        Azimuth    0.000000\n",
            "2  Sample Length    0.000000\n"
          ]
        },
        {
          "output_type": "display_data",
          "data": {
            "text/plain": [
              "<Figure size 1000x600 with 1 Axes>"
            ],
            "image/png": "[encoded data removed]"
          },
          "metadata": {}
        }
      ]
    },
    {
      "cell_type": "code",
      "source": [
        "import pandas as pd\n",
        "\n",
        "data = {\n",
        "    'Feature': ['Co_ppm', 'Pb_ppm', 'Zn_ppm', 'Ni_ppm', 'Angle', 'Azimuth', 'SampleLength',\n",
        "                'Co_ppm', 'Azimuth', 'Zn_ppm', 'SampleLength', 'Ni_ppm', 'Pb_ppm', 'Angle',\n",
        "                'Azimuth', 'Ni_ppm', 'Angle', 'Zn_ppm', 'SampleLength', 'Co_ppm', 'Pb_ppm',\n",
        "                'Co_ppm', 'SampleLength', 'Pb_ppm', 'Zn_ppm', 'Ni_ppm',\n",
        "                'Co', 'Pb', 'Zn', 'Ni', 'Angle', 'Azimuth', 'Sample Length',\n",
        "                'Co', 'Zn', 'Pb', 'Ni', 'Angle', 'Azimuth', 'Sample Length'],\n",
        "    'Importance': [0.356678, 0.255042, 0.221107, 0.167174, 0.000000, 0.000000, 0.000000,\n",
        "                   0.229619, 0.192706, 0.152786, 0.135895, 0.123211, 0.109519, 0.056266,\n",
        "                   0.341550, 0.134147, 0.128414, 0.118742, 0.098706, 0.092417, 0.086023,\n",
        "                   0.253185, 0.246340, 0.221580, 0.148916, 0.129978,\n",
        "                   0.533449, 0.219609, 0.157398, 0.089544, 0.000000, 0.000000, 0.000000,\n",
        "                   0.347730, 0.227270, 0.221560, 0.203439, 0.000000, 0.000000, 0.000000]\n",
        "}\n",
        "\n",
        "importance_df_cu = pd.DataFrame(data)\n",
        "\n",
        "name_map = {\n",
        "    'Co_ppm': 'Co_ppm', 'Co': 'Co_ppm',\n",
        "    'Pb_ppm': 'Pb_ppm', 'Pb': 'Pb_ppm',\n",
        "    'Zn_ppm': 'Zn_ppm', 'Zn': 'Zn_ppm',\n",
        "    'Ni_ppm': 'Ni_ppm', 'Ni': 'Ni_ppm',\n",
        "    'Angle': 'Angle',\n",
        "    'Azimuth': 'Azimuth',\n",
        "    'SampleLength': 'SampleLength', 'Sample Length': 'SampleLength'\n",
        "}\n",
        "importance_df_cu['Feature'] = importance_df_cu['Feature'].map(name_map)\n",
        "\n",
        "summary_df_cu = importance_df_cu.groupby('Feature').agg({\n",
        "    'Importance': ['mean', 'max', 'min']\n",
        "}).reset_index()\n",
        "\n",
        "summary_df_cu.columns = ['Feature', 'Mean Importance', 'Max Importance', 'Min Importance']\n",
        "summary_df_cu = summary_df_cu.sort_values(by='Mean Importance', ascending=False)\n",
        "\n",
        "\n",
        "print(summary_df_cu)\n"
      ],
      "metadata": {
        "colab": {
          "base_uri": "https://localhost:8080/"
        },
        "id": "7IbfvzoNIXBN",
        "outputId": "9affbbb5-53fd-4d94-bb10-8707dea6f34e"
      },
      "execution_count": null,
      "outputs": [
        {
          "output_type": "stream",
          "name": "stdout",
          "text": [
            "        Feature  Mean Importance  Max Importance  Min Importance\n",
            "2        Co_ppm         0.302180        0.533449        0.092417\n",
            "4        Pb_ppm         0.185555        0.255042        0.086023\n",
            "6        Zn_ppm         0.171037        0.227270        0.118742\n",
            "3        Ni_ppm         0.141249        0.203439        0.089544\n",
            "1       Azimuth         0.106851        0.341550        0.000000\n",
            "5  SampleLength         0.080157        0.246340        0.000000\n",
            "0         Angle         0.036936        0.128414        0.000000\n"
          ]
        }
      ]
    },
    {
      "cell_type": "markdown",
      "source": [
        "For Zn targets.. this will be done once we define the thresholds for Zn.."
      ],
      "metadata": {
        "id": "5r6_xI_YiyoU"
      }
    },
    {
      "cell_type": "code",
      "source": [
        "def create_zn_target_column(df, threshold):\n",
        "  cu_column = 'Zn_ppm' if 'Zn_ppm' in df.columns else 'Cu'\n",
        "  df['Zn_target'] = (df[cu_column] > threshold).astype(int)\n",
        "  return df"
      ],
      "metadata": {
        "id": "yXwqsmdpkc5T"
      },
      "execution_count": null,
      "outputs": []
    },
    {
      "cell_type": "code",
      "source": [
        "g1 = create_zn_target_column(g1,100 )\n",
        "g2 = create_zn_target_column(g2,100 )\n",
        "g3 = create_zn_target_column(g3,100 )\n",
        "g4 = create_zn_target_column(g4,100 )\n",
        "soil_samples = create_zn_target_column(soil_samples,100 )\n",
        "stream_sediment = create_zn_target_column(stream_sediment,100 )\n"
      ],
      "metadata": {
        "id": "0_yTUgI6khX5"
      },
      "execution_count": null,
      "outputs": []
    },
    {
      "cell_type": "code",
      "source": [
        "g1['Zn_target'].value_counts()"
      ],
      "metadata": {
        "id": "-rl0xOqHkuTN",
        "colab": {
          "base_uri": "https://localhost:8080/",
          "height": 178
        },
        "outputId": "d13edd4e-c1dc-4b09-cc4a-1cb888a3fd97"
      },
      "execution_count": null,
      "outputs": [
        {
          "output_type": "execute_result",
          "data": {
            "text/plain": [
              "Zn_target\n",
              "0    3483\n",
              "1     261\n",
              "Name: count, dtype: int64"
            ],
            "text/html": [
              "<div>\n",
              "<style scoped>\n",
              "    .dataframe tbody tr th:only-of-type {\n",
              "        vertical-align: middle;\n",
              "    }\n",
              "\n",
              "    .dataframe tbody tr th {\n",
              "        vertical-align: top;\n",
              "    }\n",
              "\n",
              "    .dataframe thead th {\n",
              "        text-align: right;\n",
              "    }\n",
              "</style>\n",
              "<table border=\"1\" class=\"dataframe\">\n",
              "  <thead>\n",
              "    <tr style=\"text-align: right;\">\n",
              "      <th></th>\n",
              "      <th>count</th>\n",
              "    </tr>\n",
              "    <tr>\n",
              "      <th>Zn_target</th>\n",
              "      <th></th>\n",
              "    </tr>\n",
              "  </thead>\n",
              "  <tbody>\n",
              "    <tr>\n",
              "      <th>0</th>\n",
              "      <td>3483</td>\n",
              "    </tr>\n",
              "    <tr>\n",
              "      <th>1</th>\n",
              "      <td>261</td>\n",
              "    </tr>\n",
              "  </tbody>\n",
              "</table>\n",
              "</div><br><label><b>dtype:</b> int64</label>"
            ]
          },
          "metadata": {},
          "execution_count": 55
        }
      ]
    },
    {
      "cell_type": "code",
      "source": [
        "g2['Zn_target'].value_counts()"
      ],
      "metadata": {
        "id": "KN1Xf8SXkxxW",
        "colab": {
          "base_uri": "https://localhost:8080/",
          "height": 178
        },
        "outputId": "92bb4b05-0ccc-459a-b4b4-631fe0964394"
      },
      "execution_count": null,
      "outputs": [
        {
          "output_type": "execute_result",
          "data": {
            "text/plain": [
              "Zn_target\n",
              "0    5107\n",
              "1     302\n",
              "Name: count, dtype: int64"
            ],
            "text/html": [
              "<div>\n",
              "<style scoped>\n",
              "    .dataframe tbody tr th:only-of-type {\n",
              "        vertical-align: middle;\n",
              "    }\n",
              "\n",
              "    .dataframe tbody tr th {\n",
              "        vertical-align: top;\n",
              "    }\n",
              "\n",
              "    .dataframe thead th {\n",
              "        text-align: right;\n",
              "    }\n",
              "</style>\n",
              "<table border=\"1\" class=\"dataframe\">\n",
              "  <thead>\n",
              "    <tr style=\"text-align: right;\">\n",
              "      <th></th>\n",
              "      <th>count</th>\n",
              "    </tr>\n",
              "    <tr>\n",
              "      <th>Zn_target</th>\n",
              "      <th></th>\n",
              "    </tr>\n",
              "  </thead>\n",
              "  <tbody>\n",
              "    <tr>\n",
              "      <th>0</th>\n",
              "      <td>5107</td>\n",
              "    </tr>\n",
              "    <tr>\n",
              "      <th>1</th>\n",
              "      <td>302</td>\n",
              "    </tr>\n",
              "  </tbody>\n",
              "</table>\n",
              "</div><br><label><b>dtype:</b> int64</label>"
            ]
          },
          "metadata": {},
          "execution_count": 56
        }
      ]
    },
    {
      "cell_type": "code",
      "source": [
        "g3['Zn_target'].value_counts()"
      ],
      "metadata": {
        "id": "FdHKjn0ekzM3",
        "colab": {
          "base_uri": "https://localhost:8080/",
          "height": 178
        },
        "outputId": "6b4ef006-b6e6-4dc6-bfa6-5529c18d2c48"
      },
      "execution_count": null,
      "outputs": [
        {
          "output_type": "execute_result",
          "data": {
            "text/plain": [
              "Zn_target\n",
              "0    2199\n",
              "1      14\n",
              "Name: count, dtype: int64"
            ],
            "text/html": [
              "<div>\n",
              "<style scoped>\n",
              "    .dataframe tbody tr th:only-of-type {\n",
              "        vertical-align: middle;\n",
              "    }\n",
              "\n",
              "    .dataframe tbody tr th {\n",
              "        vertical-align: top;\n",
              "    }\n",
              "\n",
              "    .dataframe thead th {\n",
              "        text-align: right;\n",
              "    }\n",
              "</style>\n",
              "<table border=\"1\" class=\"dataframe\">\n",
              "  <thead>\n",
              "    <tr style=\"text-align: right;\">\n",
              "      <th></th>\n",
              "      <th>count</th>\n",
              "    </tr>\n",
              "    <tr>\n",
              "      <th>Zn_target</th>\n",
              "      <th></th>\n",
              "    </tr>\n",
              "  </thead>\n",
              "  <tbody>\n",
              "    <tr>\n",
              "      <th>0</th>\n",
              "      <td>2199</td>\n",
              "    </tr>\n",
              "    <tr>\n",
              "      <th>1</th>\n",
              "      <td>14</td>\n",
              "    </tr>\n",
              "  </tbody>\n",
              "</table>\n",
              "</div><br><label><b>dtype:</b> int64</label>"
            ]
          },
          "metadata": {},
          "execution_count": 57
        }
      ]
    },
    {
      "cell_type": "code",
      "source": [
        "g4['Zn_target'].value_counts()"
      ],
      "metadata": {
        "id": "e2dcmqE4k0Pu",
        "colab": {
          "base_uri": "https://localhost:8080/",
          "height": 178
        },
        "outputId": "805a56e4-86ab-4330-dc45-c6bed06a3552"
      },
      "execution_count": null,
      "outputs": [
        {
          "output_type": "execute_result",
          "data": {
            "text/plain": [
              "Zn_target\n",
              "0    1363\n",
              "1     214\n",
              "Name: count, dtype: int64"
            ],
            "text/html": [
              "<div>\n",
              "<style scoped>\n",
              "    .dataframe tbody tr th:only-of-type {\n",
              "        vertical-align: middle;\n",
              "    }\n",
              "\n",
              "    .dataframe tbody tr th {\n",
              "        vertical-align: top;\n",
              "    }\n",
              "\n",
              "    .dataframe thead th {\n",
              "        text-align: right;\n",
              "    }\n",
              "</style>\n",
              "<table border=\"1\" class=\"dataframe\">\n",
              "  <thead>\n",
              "    <tr style=\"text-align: right;\">\n",
              "      <th></th>\n",
              "      <th>count</th>\n",
              "    </tr>\n",
              "    <tr>\n",
              "      <th>Zn_target</th>\n",
              "      <th></th>\n",
              "    </tr>\n",
              "  </thead>\n",
              "  <tbody>\n",
              "    <tr>\n",
              "      <th>0</th>\n",
              "      <td>1363</td>\n",
              "    </tr>\n",
              "    <tr>\n",
              "      <th>1</th>\n",
              "      <td>214</td>\n",
              "    </tr>\n",
              "  </tbody>\n",
              "</table>\n",
              "</div><br><label><b>dtype:</b> int64</label>"
            ]
          },
          "metadata": {},
          "execution_count": 58
        }
      ]
    },
    {
      "cell_type": "code",
      "source": [
        "stream_sediment['Zn_target'].value_counts()"
      ],
      "metadata": {
        "id": "fgjo2P0pk1gB",
        "colab": {
          "base_uri": "https://localhost:8080/",
          "height": 178
        },
        "outputId": "293e94ee-cc55-48dd-e954-55ed7d09ec66"
      },
      "execution_count": null,
      "outputs": [
        {
          "output_type": "execute_result",
          "data": {
            "text/plain": [
              "Zn_target\n",
              "0    3393\n",
              "1      61\n",
              "Name: count, dtype: int64"
            ],
            "text/html": [
              "<div>\n",
              "<style scoped>\n",
              "    .dataframe tbody tr th:only-of-type {\n",
              "        vertical-align: middle;\n",
              "    }\n",
              "\n",
              "    .dataframe tbody tr th {\n",
              "        vertical-align: top;\n",
              "    }\n",
              "\n",
              "    .dataframe thead th {\n",
              "        text-align: right;\n",
              "    }\n",
              "</style>\n",
              "<table border=\"1\" class=\"dataframe\">\n",
              "  <thead>\n",
              "    <tr style=\"text-align: right;\">\n",
              "      <th></th>\n",
              "      <th>count</th>\n",
              "    </tr>\n",
              "    <tr>\n",
              "      <th>Zn_target</th>\n",
              "      <th></th>\n",
              "    </tr>\n",
              "  </thead>\n",
              "  <tbody>\n",
              "    <tr>\n",
              "      <th>0</th>\n",
              "      <td>3393</td>\n",
              "    </tr>\n",
              "    <tr>\n",
              "      <th>1</th>\n",
              "      <td>61</td>\n",
              "    </tr>\n",
              "  </tbody>\n",
              "</table>\n",
              "</div><br><label><b>dtype:</b> int64</label>"
            ]
          },
          "metadata": {},
          "execution_count": 59
        }
      ]
    },
    {
      "cell_type": "code",
      "source": [
        "soil_samples['Zn_target'].value_counts()"
      ],
      "metadata": {
        "id": "e1j22obrk3AR",
        "colab": {
          "base_uri": "https://localhost:8080/",
          "height": 178
        },
        "outputId": "c768a7ea-2eeb-438f-a61e-aec169faea80"
      },
      "execution_count": null,
      "outputs": [
        {
          "output_type": "execute_result",
          "data": {
            "text/plain": [
              "Zn_target\n",
              "0    251\n",
              "1     20\n",
              "Name: count, dtype: int64"
            ],
            "text/html": [
              "<div>\n",
              "<style scoped>\n",
              "    .dataframe tbody tr th:only-of-type {\n",
              "        vertical-align: middle;\n",
              "    }\n",
              "\n",
              "    .dataframe tbody tr th {\n",
              "        vertical-align: top;\n",
              "    }\n",
              "\n",
              "    .dataframe thead th {\n",
              "        text-align: right;\n",
              "    }\n",
              "</style>\n",
              "<table border=\"1\" class=\"dataframe\">\n",
              "  <thead>\n",
              "    <tr style=\"text-align: right;\">\n",
              "      <th></th>\n",
              "      <th>count</th>\n",
              "    </tr>\n",
              "    <tr>\n",
              "      <th>Zn_target</th>\n",
              "      <th></th>\n",
              "    </tr>\n",
              "  </thead>\n",
              "  <tbody>\n",
              "    <tr>\n",
              "      <th>0</th>\n",
              "      <td>251</td>\n",
              "    </tr>\n",
              "    <tr>\n",
              "      <th>1</th>\n",
              "      <td>20</td>\n",
              "    </tr>\n",
              "  </tbody>\n",
              "</table>\n",
              "</div><br><label><b>dtype:</b> int64</label>"
            ]
          },
          "metadata": {},
          "execution_count": 60
        }
      ]
    },
    {
      "cell_type": "code",
      "source": [
        "m_G3_zn = classification_test(g3[Xs_cu],g3[ys_zn])"
      ],
      "metadata": {
        "colab": {
          "base_uri": "https://localhost:8080/"
        },
        "id": "TKBNjyVVVtm-",
        "outputId": "06ba762b-2121-448a-d7ce-0697555b8636"
      },
      "execution_count": null,
      "outputs": [
        {
          "output_type": "stream",
          "name": "stdout",
          "text": [
            "Accuracy: 0.9909706546275395\n",
            "F1 score: 0.3333333333333333\n"
          ]
        }
      ]
    },
    {
      "cell_type": "code",
      "source": [
        "m_G2_zn = classification_test(g2[Xs_cu],g2[ys_zn])"
      ],
      "metadata": {
        "colab": {
          "base_uri": "https://localhost:8080/"
        },
        "id": "k-xcwppUVxXl",
        "outputId": "b212aa86-9c32-41bd-c459-120c69540ac2"
      },
      "execution_count": null,
      "outputs": [
        {
          "output_type": "stream",
          "name": "stdout",
          "text": [
            "Accuracy: 0.9463955637707948\n",
            "F1 score: 0.40816326530612246\n"
          ]
        }
      ]
    },
    {
      "cell_type": "code",
      "source": [
        "m_G4_zn = classification_test(g4[Xs_cu],g4[ys_zn])"
      ],
      "metadata": {
        "id": "S_FP7oIAWMHZ",
        "outputId": "f7b7835d-6685-41cf-c46b-721d810c0d26",
        "colab": {
          "base_uri": "https://localhost:8080/"
        }
      },
      "execution_count": null,
      "outputs": [
        {
          "output_type": "stream",
          "name": "stdout",
          "text": [
            "Accuracy: 0.9240506329113924\n",
            "F1 score: 0.7073170731707317\n"
          ]
        }
      ]
    },
    {
      "cell_type": "code",
      "source": [
        "m_G1_zn = classification_test(g1[Xs_g1_cu],g1[ys_zn])"
      ],
      "metadata": {
        "id": "P7jEahUChDtT",
        "colab": {
          "base_uri": "https://localhost:8080/"
        },
        "outputId": "79da4304-fd62-433f-a248-5c39ad6ac04f"
      },
      "execution_count": null,
      "outputs": [
        {
          "output_type": "stream",
          "name": "stdout",
          "text": [
            "Accuracy: 0.9786381842456608\n",
            "F1 score: 0.8\n"
          ]
        }
      ]
    },
    {
      "cell_type": "code",
      "source": [
        "m_SS_zn = classification_test(soil_samples[Xs_cu_ss],soil_samples[ys_zn])"
      ],
      "metadata": {
        "id": "F3IAYmCphtiw",
        "colab": {
          "base_uri": "https://localhost:8080/"
        },
        "outputId": "f2fe29e8-04d5-4ea2-912e-393263dfc74f"
      },
      "execution_count": null,
      "outputs": [
        {
          "output_type": "stream",
          "name": "stdout",
          "text": [
            "Accuracy: 1.0\n",
            "F1 score: 1.0\n"
          ]
        }
      ]
    },
    {
      "cell_type": "code",
      "source": [
        "m_SSS_zn = classification_test(stream_sediment[Xs_cu_ss],stream_sediment[ys_zn])"
      ],
      "metadata": {
        "id": "LTKVFIPIhvug",
        "colab": {
          "base_uri": "https://localhost:8080/"
        },
        "outputId": "458c68d2-8ed2-4495-a4c2-4bf56ea72ce9"
      },
      "execution_count": null,
      "outputs": [
        {
          "output_type": "stream",
          "name": "stdout",
          "text": [
            "Accuracy: 1.0\n",
            "F1 score: 1.0\n"
          ]
        }
      ]
    },
    {
      "cell_type": "code",
      "source": [
        "plot_feature_importance(m_G3_zn, g3[Xs_cu])"
      ],
      "metadata": {
        "id": "I07WBTFkkH2E",
        "colab": {
          "base_uri": "https://localhost:8080/",
          "height": 703
        },
        "outputId": "801d6da8-e5b4-4d0e-ea15-9d421bc862aa"
      },
      "execution_count": null,
      "outputs": [
        {
          "output_type": "stream",
          "name": "stdout",
          "text": [
            "        Feature  Importance\n",
            "2  SampleLength    0.349666\n",
            "4        Ni_ppm    0.152816\n",
            "6        Co_ppm    0.134345\n",
            "5        Cu_ppm    0.133922\n",
            "1       Azimuth    0.123731\n",
            "3        Pb_ppm    0.105519\n",
            "0         Angle    0.000000\n"
          ]
        },
        {
          "output_type": "display_data",
          "data": {
            "text/plain": [
              "<Figure size 1000x600 with 1 Axes>"
            ],
            "image/png": "[encoded data removed]"
          },
          "metadata": {}
        }
      ]
    },
    {
      "cell_type": "code",
      "source": [
        "plot_feature_importance(m_G4_zn, g4[Xs_cu])"
      ],
      "metadata": {
        "id": "Hhd47aJlkKRu",
        "colab": {
          "base_uri": "https://localhost:8080/",
          "height": 703
        },
        "outputId": "9ccfb27e-e15e-4c77-9f5f-384c96131e16"
      },
      "execution_count": null,
      "outputs": [
        {
          "output_type": "stream",
          "name": "stdout",
          "text": [
            "        Feature  Importance\n",
            "3        Pb_ppm    0.457747\n",
            "4        Ni_ppm    0.236424\n",
            "5        Cu_ppm    0.161789\n",
            "6        Co_ppm    0.144041\n",
            "0         Angle    0.000000\n",
            "1       Azimuth    0.000000\n",
            "2  SampleLength    0.000000\n"
          ]
        },
        {
          "output_type": "display_data",
          "data": {
            "text/plain": [
              "<Figure size 1000x600 with 1 Axes>"
            ],
            "image/png": "[encoded data removed]"
          },
          "metadata": {}
        }
      ]
    },
    {
      "cell_type": "code",
      "source": [
        "plot_feature_importance(m_G2_zn, g2[Xs_cu])"
      ],
      "metadata": {
        "id": "NhP9qFF8kMKm",
        "colab": {
          "base_uri": "https://localhost:8080/",
          "height": 703
        },
        "outputId": "d05c142b-95e0-4190-8220-44f2d40d4968"
      },
      "execution_count": null,
      "outputs": [
        {
          "output_type": "stream",
          "name": "stdout",
          "text": [
            "        Feature  Importance\n",
            "3        Pb_ppm    0.231463\n",
            "1       Azimuth    0.168338\n",
            "0         Angle    0.134379\n",
            "5        Cu_ppm    0.124250\n",
            "2  SampleLength    0.119815\n",
            "4        Ni_ppm    0.118742\n",
            "6        Co_ppm    0.103012\n"
          ]
        },
        {
          "output_type": "display_data",
          "data": {
            "text/plain": [
              "<Figure size 1000x600 with 1 Axes>"
            ],
            "image/png": "[encoded data removed]"
          },
          "metadata": {}
        }
      ]
    },
    {
      "cell_type": "code",
      "source": [
        "plot_feature_importance(m_G1_zn, g1[Xs_g1_cu])"
      ],
      "metadata": {
        "id": "bYkOuLdWkNaE",
        "colab": {
          "base_uri": "https://localhost:8080/",
          "height": 668
        },
        "outputId": "57210923-d324-4c56-aefb-68a3afb7f3e5"
      },
      "execution_count": null,
      "outputs": [
        {
          "output_type": "stream",
          "name": "stdout",
          "text": [
            "        Feature  Importance\n",
            "0  SampleLength    0.481548\n",
            "1        Pb_ppm    0.229419\n",
            "2        Ni_ppm    0.110836\n",
            "4        Co_ppm    0.096546\n",
            "3        Cu_ppm    0.081651\n"
          ]
        },
        {
          "output_type": "display_data",
          "data": {
            "text/plain": [
              "<Figure size 1000x600 with 1 Axes>"
            ],
            "image/png": "[encoded data removed]"
          },
          "metadata": {}
        }
      ]
    },
    {
      "cell_type": "code",
      "source": [
        "plot_feature_importance(m_SS_zn, soil_samples[Xs_cu_ss])"
      ],
      "metadata": {
        "id": "mzXlQSvUkOhQ",
        "colab": {
          "base_uri": "https://localhost:8080/",
          "height": 703
        },
        "outputId": "afb9c7ef-9ca2-4232-9fb8-d033fbe306b1"
      },
      "execution_count": null,
      "outputs": [
        {
          "output_type": "stream",
          "name": "stdout",
          "text": [
            "         Feature  Importance\n",
            "5             Cu         1.0\n",
            "0          Angle         0.0\n",
            "1        Azimuth         0.0\n",
            "2  Sample Length         0.0\n",
            "3             Pb         0.0\n",
            "4             Ni         0.0\n",
            "6             Co         0.0\n"
          ]
        },
        {
          "output_type": "display_data",
          "data": {
            "text/plain": [
              "<Figure size 1000x600 with 1 Axes>"
            ],
            "image/png": "[encoded data removed]"
          },
          "metadata": {}
        }
      ]
    },
    {
      "cell_type": "code",
      "source": [
        "plot_feature_importance(m_SSS_zn, stream_sediment[Xs_cu_ss])"
      ],
      "metadata": {
        "id": "lfCEJyb0kWR-",
        "colab": {
          "base_uri": "https://localhost:8080/",
          "height": 703
        },
        "outputId": "43157de6-f1e5-443a-cd3d-fcb95be47fff"
      },
      "execution_count": null,
      "outputs": [
        {
          "output_type": "stream",
          "name": "stdout",
          "text": [
            "         Feature  Importance\n",
            "5             Cu         1.0\n",
            "0          Angle         0.0\n",
            "1        Azimuth         0.0\n",
            "2  Sample Length         0.0\n",
            "3             Pb         0.0\n",
            "4             Ni         0.0\n",
            "6             Co         0.0\n"
          ]
        },
        {
          "output_type": "display_data",
          "data": {
            "text/plain": [
              "<Figure size 1000x600 with 1 Axes>"
            ],
            "image/png": "[encoded data removed]"
          },
          "metadata": {}
        }
      ]
    },
    {
      "cell_type": "code",
      "source": [
        "\n",
        "data = {\n",
        "    'Feature': ['SampleLength', 'Ni_ppm', 'Co_ppm', 'Cu_ppm', 'Azimuth', 'Pb_ppm', 'Angle',\n",
        "                'Pb_ppm', 'Ni_ppm', 'Cu_ppm', 'Co_ppm', 'Angle', 'Azimuth', 'SampleLength',\n",
        "                'Pb_ppm', 'Azimuth', 'Angle', 'Cu_ppm', 'SampleLength', 'Ni_ppm', 'Co_ppm',\n",
        "                'SampleLength', 'Pb_ppm', 'Ni_ppm', 'Co_ppm', 'Cu_ppm',\n",
        "                'Cu', 'Angle', 'Azimuth', 'Sample Length', 'Pb', 'Ni', 'Co',\n",
        "                'Cu', 'Angle', 'Azimuth', 'Sample Length', 'Pb', 'Ni', 'Co'],\n",
        "    'Importance': [0.349666, 0.152816, 0.134345, 0.133922, 0.123731, 0.105519, 0.000000,\n",
        "                   0.457747, 0.236424, 0.161789, 0.144041, 0.000000, 0.000000, 0.000000,\n",
        "                   0.231463, 0.168338, 0.134379, 0.124250, 0.119815, 0.118742, 0.103012,\n",
        "                   0.481548, 0.229419, 0.110836, 0.096546, 0.081651,\n",
        "                   1.0, 0.0, 0.0, 0.0, 0.0, 0.0, 0.0,\n",
        "                   1.0, 0.0, 0.0, 0.0, 0.0, 0.0, 0.0]\n",
        "}\n",
        "\n",
        "importance_df_zn = pd.DataFrame(data)\n",
        "\n",
        "name_map = {\n",
        "    'Co_ppm': 'Co_ppm', 'Co': 'Co_ppm',\n",
        "    'Pb_ppm': 'Pb_ppm', 'Pb': 'Pb_ppm',\n",
        "    'Cu_ppm': 'Cu_ppm', 'Cu': 'Cu_ppm',\n",
        "    'Ni_ppm': 'Ni_ppm', 'Ni': 'Ni_ppm',\n",
        "    'Angle': 'Angle',\n",
        "    'Azimuth': 'Azimuth',\n",
        "    'SampleLength': 'SampleLength', 'Sample Length': 'SampleLength'\n",
        "}\n",
        "importance_df_zn['Feature'] = importance_df_zn['Feature'].map(name_map)\n",
        "\n",
        "summary_df_zn = importance_df_zn.groupby('Feature').agg({\n",
        "    'Importance': ['mean', 'max', 'min']\n",
        "}).reset_index()\n",
        "\n",
        "summary_df_zn.columns = ['Feature', 'Mean Importance', 'Max Importance', 'Min Importance']\n",
        "\n",
        "summary_df_zn = summary_df_zn.sort_values(by='Mean Importance', ascending=False)\n",
        "\n",
        "print(summary_df_zn)\n"
      ],
      "metadata": {
        "colab": {
          "base_uri": "https://localhost:8080/"
        },
        "id": "gNhuJHLD4KSJ",
        "outputId": "3a12c53a-af58-436f-a1b2-abdf4087d959"
      },
      "execution_count": null,
      "outputs": [
        {
          "output_type": "stream",
          "name": "stdout",
          "text": [
            "        Feature  Mean Importance  Max Importance  Min Importance\n",
            "3        Cu_ppm         0.416935        1.000000        0.081651\n",
            "5        Pb_ppm         0.170691        0.457747        0.000000\n",
            "6  SampleLength         0.158505        0.481548        0.000000\n",
            "4        Ni_ppm         0.103136        0.236424        0.000000\n",
            "2        Co_ppm         0.079657        0.144041        0.000000\n",
            "1       Azimuth         0.058414        0.168338        0.000000\n",
            "0         Angle         0.026876        0.134379        0.000000\n"
          ]
        }
      ]
    },
    {
      "cell_type": "code",
      "source": [],
      "metadata": {
        "id": "Hm6TiuU5LBxO"
      },
      "execution_count": null,
      "outputs": []
    }
  ]
}